{
 "cells": [
  {
   "cell_type": "code",
   "execution_count": 1,
   "id": "bc7b3260",
   "metadata": {},
   "outputs": [],
   "source": [
    "!pip install wikipedia-api neo4j cohere  --quiet"
   ]
  },
  {
   "cell_type": "code",
   "execution_count": null,
   "id": "0467cfc6",
   "metadata": {},
   "outputs": [],
   "source": [
    "from neo4j import GraphDatabase\n",
    "import re\n",
    "import os\n",
    "from dotenv import load_dotenv\n",
    "import cohere\n",
    "import requests\n",
    "from dotenv import load_dotenv\n",
    "import cohere\n",
    "from time import sleep\n",
    "import json\n",
    "from difflib import SequenceMatcher\n"
   ]
  },
  {
   "cell_type": "code",
   "execution_count": 3,
   "id": "05301520",
   "metadata": {},
   "outputs": [],
   "source": [
    "from myutils import fetch_raw_text, strip_gutenberg_header_footer, chunk_text, resolve_entities"
   ]
  },
  {
   "cell_type": "markdown",
   "id": "4a89f7ce",
   "metadata": {},
   "source": [
    "### LLM API and Neo4j DB connections"
   ]
  },
  {
   "cell_type": "code",
   "execution_count": 4,
   "id": "750068bd",
   "metadata": {},
   "outputs": [
    {
     "name": "stdout",
     "output_type": "stream",
     "text": [
      "Cohere key loaded: True\n",
      "Neo4j URI: bolt://44.200.207.55:7687\n",
      "Neo4j User: neo4j\n"
     ]
    }
   ],
   "source": [
    "# Load all keys from .env\n",
    "load_dotenv()\n",
    "\n",
    "# Access environment variables\n",
    "COHERE_API_KEY = os.getenv(\"COHERE_API_KEY\")\n",
    "NEO4J_URI = os.getenv(\"NEO4J_URI\")\n",
    "NEO4J_USER = os.getenv(\"NEO4J_USER\")\n",
    "NEO4J_PASSWORD = os.getenv(\"NEO4J_PASSWORD\")\n",
    "\n",
    "# Debug check (optional – don’t print secrets in real projects)\n",
    "print(\"Cohere key loaded:\", bool(COHERE_API_KEY))\n",
    "print(\"Neo4j URI:\", NEO4J_URI)\n",
    "print(\"Neo4j User:\", NEO4J_USER)"
   ]
  },
  {
   "cell_type": "code",
   "execution_count": 5,
   "id": "d29efc21",
   "metadata": {},
   "outputs": [
    {
     "name": "stdout",
     "output_type": "stream",
     "text": [
      "Connection test result: 1\n"
     ]
    }
   ],
   "source": [
    "driver = GraphDatabase.driver(NEO4J_URI, auth=(NEO4J_USER, NEO4J_PASSWORD))\n",
    "#check connection\n",
    "with driver.session() as session:\n",
    "    result = session.run(\"RETURN 1\")\n",
    "    print(\"Connection test result:\", result.single()[0])  # Should print 1 if successful"
   ]
  },
  {
   "cell_type": "markdown",
   "id": "8c34e130",
   "metadata": {},
   "source": [
    "### Fetch Data\n"
   ]
  },
  {
   "cell_type": "code",
   "execution_count": 7,
   "id": "60584fc6",
   "metadata": {},
   "outputs": [
    {
     "name": "stdout",
     "output_type": "stream",
     "text": [
      "Saved cleaned text -> data/sherlock_raw.txt\n"
     ]
    }
   ],
   "source": [
    "GUTENBERG_TXT_URL = \"https://www.gutenberg.org/cache/epub/244/pg244.txt\"  # A Study in Scarlet (id=244)\n",
    "#GUTENBERG_TXT_URL = \"https://www.gutenberg.org/cache/epub/18897/pg18897.txt\"  # The Epic of Gilgamish (Langdon, id=18897)\n",
    "#GUTENBERG_TXT_URL = \"https://www.gutenberg.org/cache/epub/11000/pg11000.txt\"  # An Old Babylonian Version of the Gilgamesh Epic (Jastrow & Clay, id=11000)\n",
    "\n",
    "raw = fetch_raw_text(GUTENBERG_TXT_URL)\n",
    "core = strip_gutenberg_header_footer(raw)\n",
    "\n",
    "with open(\"data/sherlock_raw.txt\", \"w\", encoding=\"utf-8\") as f:\n",
    "    f.write(core)\n",
    "print(\"Saved cleaned text -> data/sherlock_raw.txt\")"
   ]
  },
  {
   "cell_type": "code",
   "execution_count": 29,
   "id": "bd2502a6",
   "metadata": {},
   "outputs": [
    {
     "name": "stdout",
     "output_type": "stream",
     "text": [
      "Chunks: 49\n"
     ]
    }
   ],
   "source": [
    "# Chunk Data\n",
    "text = open(\"data/sherlock_raw.txt\", encoding=\"utf-8\").read()\n",
    "\n",
    "# Clean text\n",
    "# remove /n with .\n",
    "text = text.replace(\"\\n\", \" \").replace(\"\\r\", \" \").replace(\"  \", \" \")\n",
    "# start text from CHAPTER I. MR. SHERLOCK HOLMES. to avoid preface\n",
    "start_idx = text.find(\"In the year 1878 I took my degree of Doctor of Medicine of the\")\n",
    "text = text[start_idx:]\n",
    "\n",
    "\n",
    "chunks = chunk_text(text, max_chars=5000, overlap=5000)\n",
    "print(f\"Chunks: {len(chunks)}\")\n",
    "\n"
   ]
  },
  {
   "cell_type": "markdown",
   "id": "2abfd8b1",
   "metadata": {},
   "source": [
    "### Call LLM on each chunk to identify nodes and relationship"
   ]
  },
  {
   "cell_type": "code",
   "execution_count": 9,
   "id": "43ccf5e9",
   "metadata": {},
   "outputs": [],
   "source": [
    "co = cohere.ClientV2(COHERE_API_KEY, log_warning_experimental_features=False)"
   ]
  },
  {
   "cell_type": "code",
   "execution_count": 49,
   "id": "ebf3c02a",
   "metadata": {},
   "outputs": [
    {
     "name": "stdout",
     "output_type": "stream",
     "text": [
      "Processing chunk 1/49\n",
      "Processing chunk 2/49\n",
      "Processing chunk 3/49\n",
      "Processing chunk 4/49\n",
      "Processing chunk 5/49\n",
      "Processing chunk 6/49\n",
      "Processing chunk 7/49\n",
      "Processing chunk 8/49\n",
      "Processing chunk 9/49\n",
      "Processing chunk 10/49\n",
      "Processing chunk 11/49\n",
      "Processing chunk 12/49\n",
      "Processing chunk 13/49\n",
      "Processing chunk 14/49\n",
      "Processing chunk 15/49\n",
      "Processing chunk 16/49\n",
      "Processing chunk 17/49\n",
      "Processing chunk 18/49\n",
      "Processing chunk 19/49\n",
      "Processing chunk 20/49\n",
      "Processing chunk 21/49\n",
      "Processing chunk 22/49\n",
      "Processing chunk 23/49\n",
      "Processing chunk 24/49\n",
      "Processing chunk 25/49\n",
      "Processing chunk 26/49\n",
      "Processing chunk 27/49\n",
      "Processing chunk 28/49\n",
      "Processing chunk 29/49\n",
      "Processing chunk 30/49\n",
      "Processing chunk 31/49\n",
      "Processing chunk 32/49\n",
      "Processing chunk 33/49\n",
      "Processing chunk 34/49\n",
      "Processing chunk 35/49\n",
      "Processing chunk 36/49\n",
      "Processing chunk 37/49\n",
      "Processing chunk 38/49\n",
      "Processing chunk 39/49\n",
      "Processing chunk 40/49\n",
      "Processing chunk 41/49\n",
      "Processing chunk 42/49\n",
      "Processing chunk 43/49\n",
      "Processing chunk 44/49\n",
      "Processing chunk 45/49\n",
      "Processing chunk 46/49\n",
      "Processing chunk 47/49\n",
      "Processing chunk 48/49\n",
      "Processing chunk 49/49\n"
     ]
    }
   ],
   "source": [
    "# Global lists\n",
    "global_entities = []\n",
    "global_entity_map = {}      # name/alias -> id\n",
    "global_relationships = []\n",
    "global_relation_types = set()  # unique relation types\n",
    "existing_rels = set()       # (source_id, relation_type, target_id) tuples\n",
    "entity_counter = 1\n",
    "\n",
    "# Load the response schema\n",
    "with open(\"response_schema.json\") as f:\n",
    "    response_schema = json.load(f)\n",
    "\n",
    "# Loop over each chunk\n",
    "for i, chunk in enumerate(chunks):\n",
    "    print(f\"Processing chunk {i+1}/{len(chunks)}\")\n",
    "\n",
    "    # Prepare global lists\n",
    "    entity_list_str = json.dumps({\"entities\": global_entities}, ensure_ascii=False)\n",
    "    relation_list_str = json.dumps(list(global_relation_types), ensure_ascii=False)\n",
    "\n",
    "    # Load prompt template\n",
    "    prompt = open(\"prompt_template.txt\").read()\n",
    "    #prompt = open(\"prompt_v2.txt\").read()\n",
    "    prompt = prompt.replace(\"{CHUNK}\", chunk)\n",
    "    prompt = prompt.replace(\"{ENTITYLIST}\", entity_list_str)\n",
    "    prompt = prompt.replace(\"{RELATIONLIST}\", relation_list_str)\n",
    "\n",
    "    # Call the LLM\n",
    "    response = co.chat(\n",
    "        model=\"command-a-03-2025\",\n",
    "        messages=[{\"role\": \"user\", \"content\": prompt}],\n",
    "        response_format={\n",
    "            \"type\": \"json_object\",\n",
    "            \"schema\": response_schema\n",
    "        }\n",
    "    )\n",
    "\n",
    "    # Parse model output\n",
    "    data = json.loads(response.dict()[\"message\"][\"content\"][0][\"text\"])\n",
    "    sleep(7)  # avoid rate limits\n",
    "\n",
    "    # 🔹 Merge entities\n",
    "    for ent in data[\"entities\"]:\n",
    "        key = ent[\"name\"].lower()\n",
    "        if key in global_entity_map:\n",
    "            ent[\"id\"] = global_entity_map[key]\n",
    "        else:\n",
    "            ent_id = f\"e{entity_counter}\"\n",
    "            ent[\"id\"] = ent_id\n",
    "            global_entity_map[key] = ent_id\n",
    "            global_entities.append(ent)\n",
    "            entity_counter += 1\n",
    "\n",
    "    # 🔹 Merge relationships (deduplicate and normalize)\n",
    "    for rel in data[\"relationships\"]:\n",
    "        src_id = global_entity_map.get(rel[\"source\"].lower(), rel[\"source\"])\n",
    "        tgt_id = global_entity_map.get(rel[\"target\"].lower(), rel[\"target\"])\n",
    "        rel_type = rel[\"relation\"].lower()\n",
    "\n",
    "        rel_key = (src_id, rel_type, tgt_id)\n",
    "        if rel_key not in existing_rels:\n",
    "            rel[\"source\"] = src_id\n",
    "            rel[\"target\"] = tgt_id\n",
    "            rel[\"relation\"] = rel_type\n",
    "            global_relationships.append(rel)\n",
    "            existing_rels.add(rel_key)\n",
    "            global_relation_types.add(rel_type)\n",
    "\n",
    "\n"
   ]
  },
  {
   "cell_type": "code",
   "execution_count": null,
   "id": "127969ff",
   "metadata": {},
   "outputs": [],
   "source": []
  },
  {
   "cell_type": "code",
   "execution_count": 51,
   "id": "4eb60e1b",
   "metadata": {},
   "outputs": [
    {
     "ename": "KeyError",
     "evalue": "'e193'",
     "output_type": "error",
     "traceback": [
      "\u001b[1;31m---------------------------------------------------------------------------\u001b[0m",
      "\u001b[1;31mKeyError\u001b[0m                                  Traceback (most recent call last)",
      "Cell \u001b[1;32mIn[51], line 6\u001b[0m\n\u001b[0;32m      4\u001b[0m \u001b[38;5;28;01mfor\u001b[39;00m rel \u001b[38;5;129;01min\u001b[39;00m global_relationships:\n\u001b[0;32m      5\u001b[0m     src \u001b[38;5;241m=\u001b[39m resolved_map[rel[\u001b[38;5;124m\"\u001b[39m\u001b[38;5;124msource\u001b[39m\u001b[38;5;124m\"\u001b[39m]]\n\u001b[1;32m----> 6\u001b[0m     tgt \u001b[38;5;241m=\u001b[39m \u001b[43mresolved_map\u001b[49m\u001b[43m[\u001b[49m\u001b[43mrel\u001b[49m\u001b[43m[\u001b[49m\u001b[38;5;124;43m\"\u001b[39;49m\u001b[38;5;124;43mtarget\u001b[39;49m\u001b[38;5;124;43m\"\u001b[39;49m\u001b[43m]\u001b[49m\u001b[43m]\u001b[49m\n\u001b[0;32m      8\u001b[0m     rel_key \u001b[38;5;241m=\u001b[39m (src, rel[\u001b[38;5;124m\"\u001b[39m\u001b[38;5;124mrelation\u001b[39m\u001b[38;5;124m\"\u001b[39m], tgt)\n\u001b[0;32m      9\u001b[0m     \u001b[38;5;28;01mif\u001b[39;00m rel_key \u001b[38;5;129;01mnot\u001b[39;00m \u001b[38;5;129;01min\u001b[39;00m seen:\n",
      "\u001b[1;31mKeyError\u001b[0m: 'e193'"
     ]
    }
   ],
   "source": [
    "resolved_relationships = []\n",
    "seen = set()\n",
    "\n",
    "for rel in global_relationships:\n",
    "    src = resolved_map[rel[\"source\"]]\n",
    "    tgt = resolved_map[rel[\"target\"]]\n",
    "\n",
    "    rel_key = (src, rel[\"relation\"], tgt)\n",
    "    if rel_key not in seen:\n",
    "        resolved_relationships.append({\n",
    "            \"source\": src,\n",
    "            \"relation\": rel[\"relation\"],\n",
    "            \"target\": tgt,\n",
    "            \"evidence_span\": rel.get(\"evidence_span\", \"\")\n",
    "        })\n",
    "        seen.add(rel_key)\n"
   ]
  },
  {
   "cell_type": "code",
   "execution_count": null,
   "id": "024fb349",
   "metadata": {},
   "outputs": [],
   "source": []
  },
  {
   "cell_type": "code",
   "execution_count": 52,
   "id": "a38cb8e2",
   "metadata": {},
   "outputs": [
    {
     "name": "stdout",
     "output_type": "stream",
     "text": [
      "[Entity Resolution] Merged 'Dr. Watson' -> 'Dr Watson' (sim=0.95)\n",
      "[Entity Resolution] Merged 'Enoch Drebber' -> 'Enoch J. Drebber' (sim=0.90)\n",
      "[Entity Resolution] Merged 'Mr. Gregson' -> 'Gregson' (sim=0.78)\n",
      "[Entity Resolution] Merged 'Ferrier' -> 'terrier' (sim=0.86)\n",
      "[Entity Resolution] Merged '221B, Baker Street' -> '221B Baker Street' (sim=0.97)\n"
     ]
    },
    {
     "ename": "KeyError",
     "evalue": "'e191'",
     "output_type": "error",
     "traceback": [
      "\u001b[1;31m---------------------------------------------------------------------------\u001b[0m",
      "\u001b[1;31mKeyError\u001b[0m                                  Traceback (most recent call last)",
      "Cell \u001b[1;32mIn[52], line 3\u001b[0m\n\u001b[0;32m      1\u001b[0m \u001b[38;5;66;03m# --- Final entity resolution ---\u001b[39;00m\n\u001b[0;32m      2\u001b[0m canonical_entities, resolved_map \u001b[38;5;241m=\u001b[39m merge_entities(global_entities, log_merges\u001b[38;5;241m=\u001b[39m\u001b[38;5;28;01mTrue\u001b[39;00m)\n\u001b[1;32m----> 3\u001b[0m resolved_relationships \u001b[38;5;241m=\u001b[39m \u001b[43mremap_relationships\u001b[49m\u001b[43m(\u001b[49m\u001b[43mglobal_relationships\u001b[49m\u001b[43m,\u001b[49m\u001b[43m \u001b[49m\u001b[43mresolved_map\u001b[49m\u001b[43m)\u001b[49m\n\u001b[0;32m      5\u001b[0m \u001b[38;5;66;03m#  Final merged JSON\u001b[39;00m\n\u001b[0;32m      6\u001b[0m final_output \u001b[38;5;241m=\u001b[39m {\n\u001b[0;32m      7\u001b[0m     \u001b[38;5;124m\"\u001b[39m\u001b[38;5;124mentities\u001b[39m\u001b[38;5;124m\"\u001b[39m: global_entities,\n\u001b[0;32m      8\u001b[0m     \u001b[38;5;124m\"\u001b[39m\u001b[38;5;124mrelationships\u001b[39m\u001b[38;5;124m\"\u001b[39m: global_relationships\n\u001b[0;32m      9\u001b[0m }\n",
      "Cell \u001b[1;32mIn[41], line 57\u001b[0m, in \u001b[0;36mremap_relationships\u001b[1;34m(global_relationships, resolved_map)\u001b[0m\n\u001b[0;32m     55\u001b[0m \u001b[38;5;28;01mfor\u001b[39;00m rel \u001b[38;5;129;01min\u001b[39;00m global_relationships:\n\u001b[0;32m     56\u001b[0m     src \u001b[38;5;241m=\u001b[39m resolved_map[rel[\u001b[38;5;124m\"\u001b[39m\u001b[38;5;124msource\u001b[39m\u001b[38;5;124m\"\u001b[39m]]\n\u001b[1;32m---> 57\u001b[0m     tgt \u001b[38;5;241m=\u001b[39m \u001b[43mresolved_map\u001b[49m\u001b[43m[\u001b[49m\u001b[43mrel\u001b[49m\u001b[43m[\u001b[49m\u001b[38;5;124;43m\"\u001b[39;49m\u001b[38;5;124;43mtarget\u001b[39;49m\u001b[38;5;124;43m\"\u001b[39;49m\u001b[43m]\u001b[49m\u001b[43m]\u001b[49m\n\u001b[0;32m     59\u001b[0m     rel_key \u001b[38;5;241m=\u001b[39m (src, rel[\u001b[38;5;124m\"\u001b[39m\u001b[38;5;124mrelation\u001b[39m\u001b[38;5;124m\"\u001b[39m], tgt)\n\u001b[0;32m     60\u001b[0m     \u001b[38;5;28;01mif\u001b[39;00m rel_key \u001b[38;5;129;01mnot\u001b[39;00m \u001b[38;5;129;01min\u001b[39;00m seen:\n",
      "\u001b[1;31mKeyError\u001b[0m: 'e191'"
     ]
    }
   ],
   "source": [
    "# --- Final entity resolution ---\n",
    "canonical_entities, resolved_map = merge_entities(global_entities, log_merges=True)\n",
    "resolved_relationships = remap_relationships(global_relationships, resolved_map)\n",
    "\n",
    "#  Final merged JSON\n",
    "final_output = {\n",
    "    \"entities\": global_entities,\n",
    "    \"relationships\": global_relationships\n",
    "}\n",
    "\n",
    "# Save\n",
    "with open(\"extracted.json\", \"w\", encoding=\"utf-8\") as f:\n",
    "    json.dump(final_output, f, indent=2, ensure_ascii=False)\n",
    "\n",
    "print(\"\\n✅ Final KG saved to final_output.json\")"
   ]
  },
  {
   "cell_type": "code",
   "execution_count": null,
   "id": "801c6b32",
   "metadata": {},
   "outputs": [],
   "source": []
  },
  {
   "cell_type": "code",
   "execution_count": 19,
   "id": "c28f1d03",
   "metadata": {},
   "outputs": [],
   "source": [
    "#print(json.dumps(final_output, indent=2, ensure_ascii=False))\n",
    "#save to file\n",
    "with open(\"extracted.json\", \"w\", encoding=\"utf-8\") as f:\n",
    "    json.dump(final_output, f, indent=2, ensure_ascii=False)"
   ]
  },
  {
   "cell_type": "code",
   "execution_count": 20,
   "id": "6e9eaa1c",
   "metadata": {},
   "outputs": [],
   "source": [
    "# Load your extracted JSON\n",
    "with open(\"extracted.json\", \"r\") as f:\n",
    "    data = json.load(f)"
   ]
  },
  {
   "cell_type": "code",
   "execution_count": null,
   "id": "5209816c",
   "metadata": {},
   "outputs": [],
   "source": []
  },
  {
   "cell_type": "code",
   "execution_count": 21,
   "id": "94a93702",
   "metadata": {},
   "outputs": [
    {
     "name": "stderr",
     "output_type": "stream",
     "text": [
      "[#F8FD]  _: <CONNECTION> error: Failed to read from defunct connection IPv4Address(('44.200.207.55', 7687)) (ResolvedIPv4Address(('44.200.207.55', 7687))): ConnectionResetError(10054, 'An existing connection was forcibly closed by the remote host', None, 10054, None)\n"
     ]
    },
    {
     "ename": "ServiceUnavailable",
     "evalue": "Failed to read from defunct connection IPv4Address(('44.200.207.55', 7687)) (ResolvedIPv4Address(('44.200.207.55', 7687)))",
     "output_type": "error",
     "traceback": [
      "\u001b[1;31m---------------------------------------------------------------------------\u001b[0m",
      "\u001b[1;31mConnectionResetError\u001b[0m                      Traceback (most recent call last)",
      "File \u001b[1;32mc:\\Users\\salmank\\anaconda3\\envs\\pymc_env_5\\Lib\\site-packages\\neo4j\\_sync\\io\\_common.py:54\u001b[0m, in \u001b[0;36mInbox._buffer_one_chunk\u001b[1;34m(self)\u001b[0m\n\u001b[0;32m     52\u001b[0m \u001b[38;5;28;01mwhile\u001b[39;00m chunk_size \u001b[38;5;241m==\u001b[39m \u001b[38;5;241m0\u001b[39m:\n\u001b[0;32m     53\u001b[0m     \u001b[38;5;66;03m# Determine the chunk size and skip noop\u001b[39;00m\n\u001b[1;32m---> 54\u001b[0m     \u001b[43mreceive_into_buffer\u001b[49m\u001b[43m(\u001b[49m\u001b[38;5;28;43mself\u001b[39;49m\u001b[38;5;241;43m.\u001b[39;49m\u001b[43m_socket\u001b[49m\u001b[43m,\u001b[49m\u001b[43m \u001b[49m\u001b[38;5;28;43mself\u001b[39;49m\u001b[38;5;241;43m.\u001b[39;49m\u001b[43m_buffer\u001b[49m\u001b[43m,\u001b[49m\u001b[43m \u001b[49m\u001b[38;5;241;43m2\u001b[39;49m\u001b[43m)\u001b[49m\n\u001b[0;32m     55\u001b[0m     chunk_size \u001b[38;5;241m=\u001b[39m \u001b[38;5;28mself\u001b[39m\u001b[38;5;241m.\u001b[39m_buffer\u001b[38;5;241m.\u001b[39mpop_u16()\n",
      "File \u001b[1;32mc:\\Users\\salmank\\anaconda3\\envs\\pymc_env_5\\Lib\\site-packages\\neo4j\\_sync\\io\\_common.py:354\u001b[0m, in \u001b[0;36mreceive_into_buffer\u001b[1;34m(sock, buffer, n_bytes)\u001b[0m\n\u001b[0;32m    353\u001b[0m \u001b[38;5;28;01mwhile\u001b[39;00m buffer\u001b[38;5;241m.\u001b[39mused \u001b[38;5;241m<\u001b[39m end:\n\u001b[1;32m--> 354\u001b[0m     n \u001b[38;5;241m=\u001b[39m \u001b[43msock\u001b[49m\u001b[38;5;241;43m.\u001b[39;49m\u001b[43mrecv_into\u001b[49m\u001b[43m(\u001b[49m\n\u001b[0;32m    355\u001b[0m \u001b[43m        \u001b[49m\u001b[43mview\u001b[49m\u001b[43m[\u001b[49m\u001b[43mbuffer\u001b[49m\u001b[38;5;241;43m.\u001b[39;49m\u001b[43mused\u001b[49m\u001b[43m \u001b[49m\u001b[43m:\u001b[49m\u001b[43m \u001b[49m\u001b[43mend\u001b[49m\u001b[43m]\u001b[49m\u001b[43m,\u001b[49m\u001b[43m \u001b[49m\u001b[43mend\u001b[49m\u001b[43m \u001b[49m\u001b[38;5;241;43m-\u001b[39;49m\u001b[43m \u001b[49m\u001b[43mbuffer\u001b[49m\u001b[38;5;241;43m.\u001b[39;49m\u001b[43mused\u001b[49m\n\u001b[0;32m    356\u001b[0m \u001b[43m    \u001b[49m\u001b[43m)\u001b[49m\n\u001b[0;32m    357\u001b[0m     \u001b[38;5;28;01mif\u001b[39;00m n \u001b[38;5;241m==\u001b[39m \u001b[38;5;241m0\u001b[39m:\n",
      "File \u001b[1;32mc:\\Users\\salmank\\anaconda3\\envs\\pymc_env_5\\Lib\\site-packages\\neo4j\\_async_compat\\network\\_bolt_socket.py:364\u001b[0m, in \u001b[0;36mBoltSocketBase.recv_into\u001b[1;34m(self, buffer, nbytes)\u001b[0m\n\u001b[0;32m    363\u001b[0m \u001b[38;5;28;01mdef\u001b[39;00m \u001b[38;5;21mrecv_into\u001b[39m(\u001b[38;5;28mself\u001b[39m, buffer, nbytes):\n\u001b[1;32m--> 364\u001b[0m     \u001b[38;5;28;01mreturn\u001b[39;00m \u001b[38;5;28;43mself\u001b[39;49m\u001b[38;5;241;43m.\u001b[39;49m\u001b[43m_wait_for_io\u001b[49m\u001b[43m(\u001b[49m\u001b[38;5;28;43mself\u001b[39;49m\u001b[38;5;241;43m.\u001b[39;49m\u001b[43m_socket\u001b[49m\u001b[38;5;241;43m.\u001b[39;49m\u001b[43mrecv_into\u001b[49m\u001b[43m,\u001b[49m\u001b[43m \u001b[49m\u001b[43mbuffer\u001b[49m\u001b[43m,\u001b[49m\u001b[43m \u001b[49m\u001b[43mnbytes\u001b[49m\u001b[43m)\u001b[49m\n",
      "File \u001b[1;32mc:\\Users\\salmank\\anaconda3\\envs\\pymc_env_5\\Lib\\site-packages\\neo4j\\_async_compat\\network\\_bolt_socket.py:339\u001b[0m, in \u001b[0;36mBoltSocketBase._wait_for_io\u001b[1;34m(self, func, *args, **kwargs)\u001b[0m\n\u001b[0;32m    338\u001b[0m \u001b[38;5;28;01mif\u001b[39;00m \u001b[38;5;28mself\u001b[39m\u001b[38;5;241m.\u001b[39m_deadline \u001b[38;5;129;01mis\u001b[39;00m \u001b[38;5;28;01mNone\u001b[39;00m:\n\u001b[1;32m--> 339\u001b[0m     \u001b[38;5;28;01mreturn\u001b[39;00m \u001b[43mfunc\u001b[49m\u001b[43m(\u001b[49m\u001b[38;5;241;43m*\u001b[39;49m\u001b[43margs\u001b[49m\u001b[43m,\u001b[49m\u001b[43m \u001b[49m\u001b[38;5;241;43m*\u001b[39;49m\u001b[38;5;241;43m*\u001b[39;49m\u001b[43mkwargs\u001b[49m\u001b[43m)\u001b[49m\n\u001b[0;32m    340\u001b[0m timeout \u001b[38;5;241m=\u001b[39m \u001b[38;5;28mself\u001b[39m\u001b[38;5;241m.\u001b[39m_socket\u001b[38;5;241m.\u001b[39mgettimeout()\n",
      "\u001b[1;31mConnectionResetError\u001b[0m: [WinError 10054] An existing connection was forcibly closed by the remote host",
      "\nThe above exception was the direct cause of the following exception:\n",
      "\u001b[1;31mServiceUnavailable\u001b[0m                        Traceback (most recent call last)",
      "Cell \u001b[1;32mIn[21], line 4\u001b[0m\n\u001b[0;32m      1\u001b[0m delete_query \u001b[38;5;241m=\u001b[39m \u001b[38;5;124m\"\u001b[39m\u001b[38;5;124mMATCH (n) DETACH DELETE n\u001b[39m\u001b[38;5;124m\"\u001b[39m\n\u001b[0;32m      3\u001b[0m \u001b[38;5;28;01mwith\u001b[39;00m driver\u001b[38;5;241m.\u001b[39msession() \u001b[38;5;28;01mas\u001b[39;00m session:\n\u001b[1;32m----> 4\u001b[0m     \u001b[43msession\u001b[49m\u001b[38;5;241;43m.\u001b[39;49m\u001b[43mrun\u001b[49m\u001b[43m(\u001b[49m\u001b[43mdelete_query\u001b[49m\u001b[43m)\u001b[49m\n\u001b[0;32m      6\u001b[0m \u001b[38;5;28mprint\u001b[39m(\u001b[38;5;124m\"\u001b[39m\u001b[38;5;124mAll nodes and relationships have been deleted.\u001b[39m\u001b[38;5;124m\"\u001b[39m)\n",
      "File \u001b[1;32mc:\\Users\\salmank\\anaconda3\\envs\\pymc_env_5\\Lib\\site-packages\\neo4j\\_sync\\work\\session.py:330\u001b[0m, in \u001b[0;36mSession.run\u001b[1;34m(self, query, parameters, **kwargs)\u001b[0m\n\u001b[0;32m    328\u001b[0m bookmarks \u001b[38;5;241m=\u001b[39m \u001b[38;5;28mself\u001b[39m\u001b[38;5;241m.\u001b[39m_get_bookmarks()\n\u001b[0;32m    329\u001b[0m parameters \u001b[38;5;241m=\u001b[39m \u001b[38;5;28mdict\u001b[39m(parameters \u001b[38;5;129;01mor\u001b[39;00m {}, \u001b[38;5;241m*\u001b[39m\u001b[38;5;241m*\u001b[39mkwargs)\n\u001b[1;32m--> 330\u001b[0m \u001b[38;5;28;43mself\u001b[39;49m\u001b[38;5;241;43m.\u001b[39;49m\u001b[43m_auto_result\u001b[49m\u001b[38;5;241;43m.\u001b[39;49m\u001b[43m_run\u001b[49m\u001b[43m(\u001b[49m\n\u001b[0;32m    331\u001b[0m \u001b[43m    \u001b[49m\u001b[43mquery\u001b[49m\u001b[43m,\u001b[49m\n\u001b[0;32m    332\u001b[0m \u001b[43m    \u001b[49m\u001b[43mparameters\u001b[49m\u001b[43m,\u001b[49m\n\u001b[0;32m    333\u001b[0m \u001b[43m    \u001b[49m\u001b[38;5;28;43mself\u001b[39;49m\u001b[38;5;241;43m.\u001b[39;49m\u001b[43m_config\u001b[49m\u001b[38;5;241;43m.\u001b[39;49m\u001b[43mdatabase\u001b[49m\u001b[43m,\u001b[49m\n\u001b[0;32m    334\u001b[0m \u001b[43m    \u001b[49m\u001b[38;5;28;43mself\u001b[39;49m\u001b[38;5;241;43m.\u001b[39;49m\u001b[43m_config\u001b[49m\u001b[38;5;241;43m.\u001b[39;49m\u001b[43mimpersonated_user\u001b[49m\u001b[43m,\u001b[49m\n\u001b[0;32m    335\u001b[0m \u001b[43m    \u001b[49m\u001b[38;5;28;43mself\u001b[39;49m\u001b[38;5;241;43m.\u001b[39;49m\u001b[43m_config\u001b[49m\u001b[38;5;241;43m.\u001b[39;49m\u001b[43mdefault_access_mode\u001b[49m\u001b[43m,\u001b[49m\n\u001b[0;32m    336\u001b[0m \u001b[43m    \u001b[49m\u001b[43mbookmarks\u001b[49m\u001b[43m,\u001b[49m\n\u001b[0;32m    337\u001b[0m \u001b[43m    \u001b[49m\u001b[38;5;28;43mself\u001b[39;49m\u001b[38;5;241;43m.\u001b[39;49m\u001b[43m_config\u001b[49m\u001b[38;5;241;43m.\u001b[39;49m\u001b[43mnotifications_min_severity\u001b[49m\u001b[43m,\u001b[49m\n\u001b[0;32m    338\u001b[0m \u001b[43m    \u001b[49m\u001b[38;5;28;43mself\u001b[39;49m\u001b[38;5;241;43m.\u001b[39;49m\u001b[43m_config\u001b[49m\u001b[38;5;241;43m.\u001b[39;49m\u001b[43mnotifications_disabled_classifications\u001b[49m\u001b[43m,\u001b[49m\n\u001b[0;32m    339\u001b[0m \u001b[43m\u001b[49m\u001b[43m)\u001b[49m\n\u001b[0;32m    341\u001b[0m \u001b[38;5;28;01mreturn\u001b[39;00m \u001b[38;5;28mself\u001b[39m\u001b[38;5;241m.\u001b[39m_auto_result\n",
      "File \u001b[1;32mc:\\Users\\salmank\\anaconda3\\envs\\pymc_env_5\\Lib\\site-packages\\neo4j\\_sync\\work\\result.py:236\u001b[0m, in \u001b[0;36mResult._run\u001b[1;34m(self, query, parameters, db, imp_user, access_mode, bookmarks, notifications_min_severity, notifications_disabled_classifications)\u001b[0m\n\u001b[0;32m    234\u001b[0m \u001b[38;5;28mself\u001b[39m\u001b[38;5;241m.\u001b[39m_pull()\n\u001b[0;32m    235\u001b[0m \u001b[38;5;28mself\u001b[39m\u001b[38;5;241m.\u001b[39m_connection\u001b[38;5;241m.\u001b[39msend_all()\n\u001b[1;32m--> 236\u001b[0m \u001b[38;5;28;43mself\u001b[39;49m\u001b[38;5;241;43m.\u001b[39;49m\u001b[43m_attach\u001b[49m\u001b[43m(\u001b[49m\u001b[43m)\u001b[49m\n",
      "File \u001b[1;32mc:\\Users\\salmank\\anaconda3\\envs\\pymc_env_5\\Lib\\site-packages\\neo4j\\_sync\\work\\result.py:430\u001b[0m, in \u001b[0;36mResult._attach\u001b[1;34m(self)\u001b[0m\n\u001b[0;32m    428\u001b[0m \u001b[38;5;28;01mif\u001b[39;00m \u001b[38;5;28mself\u001b[39m\u001b[38;5;241m.\u001b[39m_exhausted \u001b[38;5;129;01mis\u001b[39;00m \u001b[38;5;28;01mFalse\u001b[39;00m:\n\u001b[0;32m    429\u001b[0m     \u001b[38;5;28;01mwhile\u001b[39;00m \u001b[38;5;28mself\u001b[39m\u001b[38;5;241m.\u001b[39m_attached \u001b[38;5;129;01mis\u001b[39;00m \u001b[38;5;28;01mFalse\u001b[39;00m:\n\u001b[1;32m--> 430\u001b[0m         \u001b[38;5;28;43mself\u001b[39;49m\u001b[38;5;241;43m.\u001b[39;49m\u001b[43m_connection\u001b[49m\u001b[38;5;241;43m.\u001b[39;49m\u001b[43mfetch_message\u001b[49m\u001b[43m(\u001b[49m\u001b[43m)\u001b[49m\n",
      "File \u001b[1;32mc:\\Users\\salmank\\anaconda3\\envs\\pymc_env_5\\Lib\\site-packages\\neo4j\\_sync\\io\\_common.py:193\u001b[0m, in \u001b[0;36mConnectionErrorHandler.__getattr__.<locals>.outer.<locals>.inner\u001b[1;34m(*args, **kwargs)\u001b[0m\n\u001b[0;32m    191\u001b[0m \u001b[38;5;28;01mdef\u001b[39;00m \u001b[38;5;21minner\u001b[39m(\u001b[38;5;241m*\u001b[39margs, \u001b[38;5;241m*\u001b[39m\u001b[38;5;241m*\u001b[39mkwargs):\n\u001b[0;32m    192\u001b[0m     \u001b[38;5;28;01mtry\u001b[39;00m:\n\u001b[1;32m--> 193\u001b[0m         \u001b[43mfunc\u001b[49m\u001b[43m(\u001b[49m\u001b[38;5;241;43m*\u001b[39;49m\u001b[43margs\u001b[49m\u001b[43m,\u001b[49m\u001b[43m \u001b[49m\u001b[38;5;241;43m*\u001b[39;49m\u001b[38;5;241;43m*\u001b[39;49m\u001b[43mkwargs\u001b[49m\u001b[43m)\u001b[49m\n\u001b[0;32m    194\u001b[0m     \u001b[38;5;28;01mexcept\u001b[39;00m (Neo4jError, ServiceUnavailable, SessionExpired) \u001b[38;5;28;01mas\u001b[39;00m exc:\n\u001b[0;32m    195\u001b[0m         \u001b[38;5;28;01massert\u001b[39;00m \u001b[38;5;129;01mnot\u001b[39;00m asyncio\u001b[38;5;241m.\u001b[39miscoroutinefunction(\u001b[38;5;28mself\u001b[39m\u001b[38;5;241m.\u001b[39m__on_error)\n",
      "File \u001b[1;32mc:\\Users\\salmank\\anaconda3\\envs\\pymc_env_5\\Lib\\site-packages\\neo4j\\_sync\\io\\_bolt.py:860\u001b[0m, in \u001b[0;36mBolt.fetch_message\u001b[1;34m(self)\u001b[0m\n\u001b[0;32m    857\u001b[0m     \u001b[38;5;28;01mreturn\u001b[39;00m \u001b[38;5;241m0\u001b[39m, \u001b[38;5;241m0\u001b[39m\n\u001b[0;32m    859\u001b[0m \u001b[38;5;66;03m# Receive exactly one message\u001b[39;00m\n\u001b[1;32m--> 860\u001b[0m tag, fields \u001b[38;5;241m=\u001b[39m \u001b[38;5;28;43mself\u001b[39;49m\u001b[38;5;241;43m.\u001b[39;49m\u001b[43minbox\u001b[49m\u001b[38;5;241;43m.\u001b[39;49m\u001b[43mpop\u001b[49m\u001b[43m(\u001b[49m\n\u001b[0;32m    861\u001b[0m \u001b[43m    \u001b[49m\u001b[43mhydration_hooks\u001b[49m\u001b[38;5;241;43m=\u001b[39;49m\u001b[38;5;28;43mself\u001b[39;49m\u001b[38;5;241;43m.\u001b[39;49m\u001b[43mresponses\u001b[49m\u001b[43m[\u001b[49m\u001b[38;5;241;43m0\u001b[39;49m\u001b[43m]\u001b[49m\u001b[38;5;241;43m.\u001b[39;49m\u001b[43mhydration_hooks\u001b[49m\n\u001b[0;32m    862\u001b[0m \u001b[43m\u001b[49m\u001b[43m)\u001b[49m\n\u001b[0;32m    863\u001b[0m res \u001b[38;5;241m=\u001b[39m \u001b[38;5;28mself\u001b[39m\u001b[38;5;241m.\u001b[39m_process_message(tag, fields)\n\u001b[0;32m    864\u001b[0m \u001b[38;5;28mself\u001b[39m\u001b[38;5;241m.\u001b[39midle_since \u001b[38;5;241m=\u001b[39m monotonic()\n",
      "File \u001b[1;32mc:\\Users\\salmank\\anaconda3\\envs\\pymc_env_5\\Lib\\site-packages\\neo4j\\_sync\\io\\_common.py:77\u001b[0m, in \u001b[0;36mInbox.pop\u001b[1;34m(self, hydration_hooks)\u001b[0m\n\u001b[0;32m     76\u001b[0m \u001b[38;5;28;01mdef\u001b[39;00m \u001b[38;5;21mpop\u001b[39m(\u001b[38;5;28mself\u001b[39m, hydration_hooks):\n\u001b[1;32m---> 77\u001b[0m     \u001b[38;5;28;43mself\u001b[39;49m\u001b[38;5;241;43m.\u001b[39;49m\u001b[43m_buffer_one_chunk\u001b[49m\u001b[43m(\u001b[49m\u001b[43m)\u001b[49m\n\u001b[0;32m     78\u001b[0m     \u001b[38;5;28;01mtry\u001b[39;00m:\n\u001b[0;32m     79\u001b[0m         size, tag \u001b[38;5;241m=\u001b[39m \u001b[38;5;28mself\u001b[39m\u001b[38;5;241m.\u001b[39m_unpacker\u001b[38;5;241m.\u001b[39munpack_structure_header()\n",
      "File \u001b[1;32mc:\\Users\\salmank\\anaconda3\\envs\\pymc_env_5\\Lib\\site-packages\\neo4j\\_sync\\io\\_common.py:73\u001b[0m, in \u001b[0;36mInbox._buffer_one_chunk\u001b[1;34m(self)\u001b[0m\n\u001b[0;32m     67\u001b[0m \u001b[38;5;28;01mexcept\u001b[39;00m (\n\u001b[0;32m     68\u001b[0m     \u001b[38;5;167;01mOSError\u001b[39;00m,\n\u001b[0;32m     69\u001b[0m     SocketDeadlineExceededError,\n\u001b[0;32m     70\u001b[0m     asyncio\u001b[38;5;241m.\u001b[39mCancelledError,\n\u001b[0;32m     71\u001b[0m ) \u001b[38;5;28;01mas\u001b[39;00m error:\n\u001b[0;32m     72\u001b[0m     \u001b[38;5;28mself\u001b[39m\u001b[38;5;241m.\u001b[39m_broken \u001b[38;5;241m=\u001b[39m \u001b[38;5;28;01mTrue\u001b[39;00m\n\u001b[1;32m---> 73\u001b[0m     \u001b[43mUtil\u001b[49m\u001b[38;5;241;43m.\u001b[39;49m\u001b[43mcallback\u001b[49m\u001b[43m(\u001b[49m\u001b[38;5;28;43mself\u001b[39;49m\u001b[38;5;241;43m.\u001b[39;49m\u001b[43mon_error\u001b[49m\u001b[43m,\u001b[49m\u001b[43m \u001b[49m\u001b[43merror\u001b[49m\u001b[43m)\u001b[49m\n\u001b[0;32m     74\u001b[0m     \u001b[38;5;28;01mraise\u001b[39;00m\n",
      "File \u001b[1;32mc:\\Users\\salmank\\anaconda3\\envs\\pymc_env_5\\Lib\\site-packages\\neo4j\\_async_compat\\util.py:117\u001b[0m, in \u001b[0;36mUtil.callback\u001b[1;34m(cb, *args, **kwargs)\u001b[0m\n\u001b[0;32m    114\u001b[0m \u001b[38;5;129m@staticmethod\u001b[39m\n\u001b[0;32m    115\u001b[0m \u001b[38;5;28;01mdef\u001b[39;00m \u001b[38;5;21mcallback\u001b[39m(cb, \u001b[38;5;241m*\u001b[39margs, \u001b[38;5;241m*\u001b[39m\u001b[38;5;241m*\u001b[39mkwargs):\n\u001b[0;32m    116\u001b[0m     \u001b[38;5;28;01mif\u001b[39;00m \u001b[38;5;28mcallable\u001b[39m(cb):\n\u001b[1;32m--> 117\u001b[0m         \u001b[38;5;28;01mreturn\u001b[39;00m \u001b[43mcb\u001b[49m\u001b[43m(\u001b[49m\u001b[38;5;241;43m*\u001b[39;49m\u001b[43margs\u001b[49m\u001b[43m,\u001b[49m\u001b[43m \u001b[49m\u001b[38;5;241;43m*\u001b[39;49m\u001b[38;5;241;43m*\u001b[39;49m\u001b[43mkwargs\u001b[49m\u001b[43m)\u001b[49m\n\u001b[0;32m    118\u001b[0m     \u001b[38;5;28;01mreturn\u001b[39;00m \u001b[38;5;28;01mNone\u001b[39;00m\n",
      "File \u001b[1;32mc:\\Users\\salmank\\anaconda3\\envs\\pymc_env_5\\Lib\\site-packages\\neo4j\\_sync\\io\\_bolt.py:888\u001b[0m, in \u001b[0;36mBolt._set_defunct_read\u001b[1;34m(self, error, silent)\u001b[0m\n\u001b[0;32m    883\u001b[0m \u001b[38;5;28;01mdef\u001b[39;00m \u001b[38;5;21m_set_defunct_read\u001b[39m(\u001b[38;5;28mself\u001b[39m, error\u001b[38;5;241m=\u001b[39m\u001b[38;5;28;01mNone\u001b[39;00m, silent\u001b[38;5;241m=\u001b[39m\u001b[38;5;28;01mFalse\u001b[39;00m):\n\u001b[0;32m    884\u001b[0m     message \u001b[38;5;241m=\u001b[39m (\n\u001b[0;32m    885\u001b[0m         \u001b[38;5;124m\"\u001b[39m\u001b[38;5;124mFailed to read from defunct connection \u001b[39m\u001b[38;5;124m\"\u001b[39m\n\u001b[0;32m    886\u001b[0m         \u001b[38;5;124mf\u001b[39m\u001b[38;5;124m\"\u001b[39m\u001b[38;5;132;01m{\u001b[39;00m\u001b[38;5;28mself\u001b[39m\u001b[38;5;241m.\u001b[39munresolved_address\u001b[38;5;132;01m!r}\u001b[39;00m\u001b[38;5;124m (\u001b[39m\u001b[38;5;132;01m{\u001b[39;00m\u001b[38;5;28mself\u001b[39m\u001b[38;5;241m.\u001b[39mserver_info\u001b[38;5;241m.\u001b[39maddress\u001b[38;5;132;01m!r}\u001b[39;00m\u001b[38;5;124m)\u001b[39m\u001b[38;5;124m\"\u001b[39m\n\u001b[0;32m    887\u001b[0m     )\n\u001b[1;32m--> 888\u001b[0m     \u001b[38;5;28;43mself\u001b[39;49m\u001b[38;5;241;43m.\u001b[39;49m\u001b[43m_set_defunct\u001b[49m\u001b[43m(\u001b[49m\u001b[43mmessage\u001b[49m\u001b[43m,\u001b[49m\u001b[43m \u001b[49m\u001b[43merror\u001b[49m\u001b[38;5;241;43m=\u001b[39;49m\u001b[43merror\u001b[49m\u001b[43m,\u001b[49m\u001b[43m \u001b[49m\u001b[43msilent\u001b[49m\u001b[38;5;241;43m=\u001b[39;49m\u001b[43msilent\u001b[49m\u001b[43m)\u001b[49m\n",
      "File \u001b[1;32mc:\\Users\\salmank\\anaconda3\\envs\\pymc_env_5\\Lib\\site-packages\\neo4j\\_sync\\io\\_bolt.py:963\u001b[0m, in \u001b[0;36mBolt._set_defunct\u001b[1;34m(self, message, error, silent)\u001b[0m\n\u001b[0;32m    961\u001b[0m \u001b[38;5;28;01mif\u001b[39;00m direct_driver:\n\u001b[0;32m    962\u001b[0m     \u001b[38;5;28;01mif\u001b[39;00m error:\n\u001b[1;32m--> 963\u001b[0m         \u001b[38;5;28;01mraise\u001b[39;00m ServiceUnavailable(message) \u001b[38;5;28;01mfrom\u001b[39;00m \u001b[38;5;21;01merror\u001b[39;00m\n\u001b[0;32m    964\u001b[0m     \u001b[38;5;28;01melse\u001b[39;00m:\n\u001b[0;32m    965\u001b[0m         \u001b[38;5;28;01mraise\u001b[39;00m ServiceUnavailable(message)\n",
      "\u001b[1;31mServiceUnavailable\u001b[0m: Failed to read from defunct connection IPv4Address(('44.200.207.55', 7687)) (ResolvedIPv4Address(('44.200.207.55', 7687)))"
     ]
    }
   ],
   "source": [
    "delete_query = \"MATCH (n) DETACH DELETE n\"\n",
    "\n",
    "with driver.session() as session:\n",
    "    session.run(delete_query)\n",
    "\n",
    "print(\"All nodes and relationships have been deleted.\")"
   ]
  },
  {
   "cell_type": "code",
   "execution_count": null,
   "id": "c62b77af",
   "metadata": {},
   "outputs": [],
   "source": [
    "# Create nodes with dynamic labels\n",
    "query_nodes = \"\"\"\n",
    "UNWIND $entities AS entity\n",
    "CALL apoc.merge.node([entity.type], {id: entity.id}, \n",
    "                     {name: entity.name, aliases: entity.aliases, span: entity.span}, \n",
    "                     {}) YIELD node\n",
    "RETURN node\n",
    "\"\"\"\n",
    "\n",
    "# Create relationships with dynamic types\n",
    "query_rels = \"\"\"\n",
    "UNWIND $relationships AS rel\n",
    "MATCH (src {id: rel.source})\n",
    "MATCH (tgt {id: rel.target})\n",
    "CALL apoc.merge.relationship(src, rel.relation, {}, {evidence: rel.evidence_span}, tgt) YIELD rel AS r\n",
    "RETURN r\n",
    "\"\"\"\n",
    "\n",
    "with driver.session() as session:\n",
    "    session.run(query_nodes, entities=data[\"entities\"])\n",
    "    session.run(query_rels, relationships=data[\"relationships\"])\n"
   ]
  },
  {
   "cell_type": "code",
   "execution_count": null,
   "id": "93047ad3",
   "metadata": {},
   "outputs": [],
   "source": []
  }
 ],
 "metadata": {
  "kernelspec": {
   "display_name": "pymc_env_5",
   "language": "python",
   "name": "python3"
  },
  "language_info": {
   "codemirror_mode": {
    "name": "ipython",
    "version": 3
   },
   "file_extension": ".py",
   "mimetype": "text/x-python",
   "name": "python",
   "nbconvert_exporter": "python",
   "pygments_lexer": "ipython3",
   "version": "3.11.8"
  }
 },
 "nbformat": 4,
 "nbformat_minor": 5
}
