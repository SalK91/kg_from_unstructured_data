{
 "cells": [
  {
   "cell_type": "code",
   "execution_count": 33,
   "id": "bc7b3260",
   "metadata": {},
   "outputs": [],
   "source": [
    "!pip install wikipedia-api neo4j cohere  --quiet"
   ]
  },
  {
   "cell_type": "code",
   "execution_count": 34,
   "id": "0467cfc6",
   "metadata": {},
   "outputs": [],
   "source": [
    "from neo4j import GraphDatabase\n",
    "import re\n",
    "import os\n",
    "from dotenv import load_dotenv\n",
    "import cohere\n",
    "import requests\n",
    "from dotenv import load_dotenv\n",
    "import cohere\n",
    "from time import sleep\n",
    "import json"
   ]
  },
  {
   "cell_type": "code",
   "execution_count": 35,
   "id": "05301520",
   "metadata": {},
   "outputs": [],
   "source": [
    "from myutils import fetch_raw_text, strip_gutenberg_header_footer, chunk_text"
   ]
  },
  {
   "cell_type": "markdown",
   "id": "4a89f7ce",
   "metadata": {},
   "source": [
    "### LLM API and Neo4j DB connections"
   ]
  },
  {
   "cell_type": "code",
   "execution_count": 36,
   "id": "750068bd",
   "metadata": {},
   "outputs": [
    {
     "name": "stdout",
     "output_type": "stream",
     "text": [
      "Cohere key loaded: True\n",
      "Neo4j URI: bolt://44.200.207.55:7687\n",
      "Neo4j User: neo4j\n"
     ]
    }
   ],
   "source": [
    "# Load all keys from .env\n",
    "load_dotenv()\n",
    "\n",
    "# Access environment variables\n",
    "COHERE_API_KEY = os.getenv(\"COHERE_API_KEY\")\n",
    "NEO4J_URI = os.getenv(\"NEO4J_URI\")\n",
    "NEO4J_USER = os.getenv(\"NEO4J_USER\")\n",
    "NEO4J_PASSWORD = os.getenv(\"NEO4J_PASSWORD\")\n",
    "\n",
    "# Debug check (optional – don’t print secrets in real projects)\n",
    "print(\"Cohere key loaded:\", bool(COHERE_API_KEY))\n",
    "print(\"Neo4j URI:\", NEO4J_URI)\n",
    "print(\"Neo4j User:\", NEO4J_USER)"
   ]
  },
  {
   "cell_type": "code",
   "execution_count": 37,
   "id": "d29efc21",
   "metadata": {},
   "outputs": [
    {
     "name": "stdout",
     "output_type": "stream",
     "text": [
      "Connection test result: 1\n"
     ]
    }
   ],
   "source": [
    "driver = GraphDatabase.driver(NEO4J_URI, auth=(NEO4J_USER, NEO4J_PASSWORD))\n",
    "#check connection\n",
    "with driver.session() as session:\n",
    "    result = session.run(\"RETURN 1\")\n",
    "    print(\"Connection test result:\", result.single()[0])  # Should print 1 if successful"
   ]
  },
  {
   "cell_type": "markdown",
   "id": "8c34e130",
   "metadata": {},
   "source": [
    "### Fetch Data\n"
   ]
  },
  {
   "cell_type": "code",
   "execution_count": 38,
   "id": "60584fc6",
   "metadata": {},
   "outputs": [
    {
     "name": "stdout",
     "output_type": "stream",
     "text": [
      "Saved cleaned text -> data/sherlock_raw.txt\n"
     ]
    }
   ],
   "source": [
    "GUTENBERG_TXT_URL = \"https://www.gutenberg.org/cache/epub/244/pg244.txt\"  # A Study in Scarlet (id=244)\n",
    "#GUTENBERG_TXT_URL = \"https://www.gutenberg.org/cache/epub/18897/pg18897.txt\"  # The Epic of Gilgamish (Langdon, id=18897)\n",
    "#GUTENBERG_TXT_URL = \"https://www.gutenberg.org/cache/epub/11000/pg11000.txt\"  # An Old Babylonian Version of the Gilgamesh Epic (Jastrow & Clay, id=11000)\n",
    "\n",
    "raw = fetch_raw_text(GUTENBERG_TXT_URL)\n",
    "core = strip_gutenberg_header_footer(raw)\n",
    "\n",
    "with open(\"data/sherlock_raw.txt\", \"w\", encoding=\"utf-8\") as f:\n",
    "    f.write(core)\n",
    "print(\"Saved cleaned text -> data/sherlock_raw.txt\")"
   ]
  },
  {
   "cell_type": "code",
   "execution_count": 48,
   "id": "bd2502a6",
   "metadata": {},
   "outputs": [
    {
     "name": "stdout",
     "output_type": "stream",
     "text": [
      "Chunks: 49\n"
     ]
    },
    {
     "data": {
      "text/plain": [
       "'In the year 1878 I took my degree of Doctor of Medicine of the University of London, and proceeded to Netley to go through the course prescribed for surgeons in the army. Having completed my studies there, I was duly attached to the Fifth Northumberland Fusiliers as Assistant Surgeon. The regiment was stationed in India at the time, and before I could join it, the second Afghan war had broken out. On landing at Bombay, I learned that my corps had advanced through the passes, and was already deep in the enemy’s country. I followed, however, with many other officers who were in the same situation as myself, and succeeded in reaching Candahar in safety, where I found my regiment, and at once entered upon my new duties. The campaign brought honours and promotion to many, but for me it had nothing but misfortune and disaster. I was removed from my brigade and attached to the Berkshires, with whom I served at the fatal battle of Maiwand. There I was struck on the shoulder by a Jezail bullet, which shattered the bone and grazed the subclavian artery. I should have fallen into the hands of the murderous Ghazis had it not been for the devotion and courage shown by Murray, my orderly, who threw me across a pack-horse, and succeeded in bringing me safely to the British lines. Worn with pain, and weak from the prolonged hardships which I had undergone, I was removed, with a great train of wounded sufferers, to the base hospital at Peshawar. Here I rallied, and had already improved so far as to be able to walk about the wards, and even to bask a little upon the verandah, when I was struck down by enteric fever, that curse of our Indian possessions. For months my life was despaired of, and when at last I came to myself and became convalescent, I was so weak and emaciated that a medical board determined that not a day should be lost in sending me back to England. I was dispatched, accordingly, in the troopship “Orontes,” and landed a month later on Portsmouth jetty, with my health irretrievably ruined, but with permission from a paternal government to spend the next nine months in attempting to improve it. I had neither kith nor kin in England, and was therefore as free as air—or as free as an income of eleven shillings and sixpence a day will permit a man to be. Under such circumstances, I naturally gravitated to London, that great cesspool into which all the loungers and idlers of the Empire are irresistibly drained. There I stayed for some time at a private hotel in the Strand, leading a comfortless, meaningless existence, and spending such money as I had, considerably more freely than I ought. So alarming did the state of my finances become, that I soon realized that I must either leave the metropolis and rusticate somewhere in the country, or that I must make a complete alteration in my style of living. Choosing the latter alternative, I began by making up my mind to leave the hotel, and to take up my quarters in some less pretentious and less expensive domicile. On the very day that I had come to this conclusion, I was standing at the Criterion Bar, when some one tapped me on the shoulder, and turning round I recognized young Stamford, who had been a dresser under me at Barts. The sight of a friendly face in the great wilderness of London is a pleasant thing indeed to a lonely man. In old days Stamford had never been a particular crony of mine, but now I hailed him with enthusiasm, and he, in his turn, appeared to be delighted to see me. In the exuberance of my joy, I asked him to lunch with me at the Holborn, and we started off together in a hansom. “Whatever have you been doing with yourself, Watson? ” he asked in undisguised wonder, as we rattled through the crowded London streets. “You are as thin as a lath and as brown as a nut. ”  I gave him a short sketch of my adventures, and had hardly concluded it by the time that we reached our destination. “Poor devil! ” he said, commiseratingly, after he had listened to my misfortunes. “What are you up to now? ”  “Looking for lodgings,” I answered. “Trying to solve the problem as to whether it is possible to get comfortable rooms at a reasonable price. ”  “That’s a strange thing,” remarked my companion; “you are the second man to-day that has used that expression to me. ”  “And who was the first? ” I asked. “A fellow who is working at the chemical laboratory up at the hospital. He was bemoaning himself this morning because he could not get someone to go halves with him in some nice rooms which he had found, and which were too much for his purse. ”  “By Jove! ” I cried, “if he really wants someone to share the rooms and the expense, I am the very man for him. I should prefer having a partner to being alone. ”  Young Stamford looked rather strangely at me over his wine-glass. “You don’t know Sherlock Holmes yet,” he said; “perhaps you would not care for him as a constant companion. ”  “Why, what is there against him? ”  “Oh, I didn’t say there was anything against him.'"
      ]
     },
     "execution_count": 48,
     "metadata": {},
     "output_type": "execute_result"
    }
   ],
   "source": [
    "# Chunk Data\n",
    "text = open(\"data/sherlock_raw.txt\", encoding=\"utf-8\").read()\n",
    "\n",
    "# Clean text\n",
    "# remove /n with .\n",
    "text = text.replace(\"\\n\", \" \").replace(\"\\r\", \" \").replace(\"  \", \" \")\n",
    "# start text from CHAPTER I. MR. SHERLOCK HOLMES. to avoid preface\n",
    "start_idx = text.find(\"In the year 1878 I took my degree of Doctor of Medicine of the\")\n",
    "text = text[start_idx:]\n",
    "\n",
    "\n",
    "chunks = chunk_text(text, max_chars=5000, overlap=2000)\n",
    "print(f\"Chunks: {len(chunks)}\")\n",
    "\n",
    "chunks[0]"
   ]
  },
  {
   "cell_type": "markdown",
   "id": "2abfd8b1",
   "metadata": {},
   "source": [
    "### Call LLM on each chunk to identify nodes and relationship"
   ]
  },
  {
   "cell_type": "code",
   "execution_count": 49,
   "id": "43ccf5e9",
   "metadata": {},
   "outputs": [],
   "source": [
    "co = cohere.ClientV2(COHERE_API_KEY, log_warning_experimental_features=False)"
   ]
  },
  {
   "cell_type": "code",
   "execution_count": 52,
   "id": "10af396b",
   "metadata": {},
   "outputs": [
    {
     "name": "stdout",
     "output_type": "stream",
     "text": [
      "Knowledge-graph extraction for literary texts\n",
      "Purpose: Given an input text chunk (one or more sentences), extract entities, relationships, and entity attributes with deterministic rules, provenance, and update semantics so outputs are consistent across chunks and documents.\n",
      "\n",
      "1) OVERVIEW\n",
      "- Extract: entities, attributes, and relationships.\n",
      "- Allowed entity types: Person, Location, Organization, Event, Work, Object, Date, Role, Vehicle, Artifact, Publication, Institution, Mythical_Creature, Character_Role.\n",
      "- Allowed relation types: friend_of, partner_of, lives_at, lives_with, meets, investigates, author_of, owns, kills, found_at, mentions, ally_of, enemy_of, sibling_of, parent_of, member_of, located_in, created_by, inspired_by, possesses, discovers.\n",
      "- Core relations to prioritize: friend_of, lives_at, lives_with, meets, investigates, author_of, owns, kills, found_at, mentions.\n",
      "- Output must be valid JSON only (no extra commentary).\n",
      "\n",
      "2) ID AND CANONICALIZATION RULES\n",
      "- Entities receive stable sequential IDs: e1, e2, ... continuing from the global entity list.\n",
      "- Canonical name selection (deterministic):\n",
      "  1. If the global entity list already contains a matching canonical name or an alias (case-insensitive normalized match), reuse that entity ID and canonical name.\n",
      "  2. Otherwise, prefer the longest, most explicit name encountered in the chunk (e.g., \"Inspector Lestrade\" > \"Lestrade\" > \"Mr Lestrade\"). If multiple equally long alternatives exist, choose the one that includes titles/roles.\n",
      "  3. Store both `name` (canonical name) and `aliases` (list).\n",
      "- Alias matching algorithm (deterministic):\n",
      "  - Exact case-insensitive match of token sequence → match.\n",
      "  - Punctuation- and whitespace-normalized match (strip diacritics, convert curly quotes) → match.\n",
      "  - Possessive normalization: \"Dr Watson's\" → match to \"Dr Watson\".\n",
      "  - Do NOT automatically fuzzy-merge different names (no Levenshtein merging) unless additional explicit contextual evidence is available (same role + same location + same organization in same chunk). If ambiguous, create separate entities with a `disambiguation_hint` attribute.\n",
      "- Never create an entity for a pronoun unless the previous sentence(s) explicitly mention the referent (see Pronouns/Coreference).\n",
      "\n",
      "3) SPAN RULES\n",
      "- For each entity include `span` with the exact text of the first non-pronoun occurrence in the chunk when possible (exact characters as in source). If the first mention is ambiguous (a pronoun) or the name is split/ellipsized, use the full sentence containing the first unambiguous mention (limit: ≤ 1 sentence).\n",
      "- Also include optional provenance fields: `chunk_id` (string), `sentence_index` (0-based), `char_start`, `char_end` when available.\n",
      "- Preserve original punctuation and capitalization in `span`. Provide a normalized label field if helpful (lowercased, ASCII).\n",
      "\n",
      "4) PRONOUNS & COREFERENCE\n",
      "- Coreference window: link pronouns to the nearest preceding explicit mention within the same sentence or up to two previous sentences (window = 2), **only** when a clear single antecedent exists.\n",
      "- Do not link pronouns across paragraph boundaries unless the referent is unambiguous and present in the global entity list.\n",
      "- If multiple candidate antecedents exist with similar salience, do **not** create a pronoun link (leave pronoun unlinked).\n",
      "- When linking, add the pronoun mention as an additional evidence_span for that entity rather than creating a new entity.\n",
      "\n",
      "5) ATTRIBUTES (schema & update semantics)\n",
      "- Attributes object is optional; include only when the chunk contains explicit attribute statements.\n",
      "- Attribute normalization rules:\n",
      "  - Single-valued attributes: profession, birthdate, residence, birth_place, deathdate. These are overridden by later chunks (later chunk wins). Always store provenance with the value: `{value, source_chunk_id, sentence_index}`.\n",
      "  - Multi-valued attributes: traits, skills, personality, appearance. Append unique values (case-insensitive uniqueness); do not overwrite previous values.\n",
      "  - For Date attributes: normalize to ISO 8601 (YYYY-MM-DD). If only partial dates are available, use `YYYY` or `YYYY-MM`. Store the original text in `attributes` as `raw`.\n",
      "- Example attribute structure:\n",
      "  \"attributes\": { \"profession\": {\"value\":\"Doctor\",\"source\":\"chunk_3\",\"sentence_index\":0}, \"personality\":[\"observant\",\"eccentric\"], \"birthdate\": {\"value\":\"1854-??-??\",\"raw\":\"born in 1854\",\"source\":\"chunk_7\"} }\n",
      "- Keep a history list for single-valued attributes if contradictory values appear; mark `current` as the active value and include older values in `history` with provenance.\n",
      "\n",
      "6) RELATION EXTRACTION (evidence & directionality)\n",
      "- Relations must be supported by explicit textual evidence or clearly indicated implication (see “strong implication” below).\n",
      "- Relationship object must include: `source` (entity id), `relation` (lowercase), `target` (entity id), `evidence_spans` (array of evidence objects).\n",
      "- Evidence object format: { \"text\": \"<sentence text>\", \"chunk_id\": \"...\", \"sentence_index\": N, \"char_start\": X, \"char_end\": Y }.\n",
      "- If the relation already exists (same source, relation, target), append new evidence to `evidence_spans` rather than creating duplicate edges.\n",
      "- For symmetric relations (e.g., friend_of), record relation once; include both entity IDs in the same order as extracted. Upstream consumers may treat friend_of as undirected.\n",
      "- Negation/modality: do NOT extract positive relations if the sentence contains negation (e.g., \"did not kill\", \"never met\"), conditional (e.g., \"would have killed\"), or speculative markers (\"might have\", \"perhaps\"). If the relation is negated, optionally record a `negated: true` metadata field with provenance instead of the relation.\n",
      "\n",
      "7) WHAT COUNTS AS “STRONGLY IMPLIED”\n",
      "- Strong implication should be applied conservatively. Examples that qualify:\n",
      "  - \"They shared a flat\" → `lives_with`.\n",
      "  - \"He returned to his house at 221B\" and \"She also lived there\" → `lives_at`.\n",
      "  - \"Author X's novel Y features character Z\" → `created_by` or `author_of` depending on direction.\n",
      "- Examples that do NOT qualify (avoid hallucination):\n",
      "  - \"He preferred solitude\" → do NOT create `lives_alone` unless the text explicitly says so.\n",
      "  - \"He often visited London\" → `meets` or `visits` can be extracted only if target is a person or place explicitly mentioned in the same sentence; otherwise do not infer further relations.\n",
      "\n",
      "8) EVIDENCE & PROVENANCE\n",
      "- Every entity and relation must carry evidence provenance: which chunk, which sentence index, and the exact sentence text. Use `evidence_spans` array for relations and at least one `first_mention` provenance object for entities.\n",
      "- Add an optional `confidence` float [0.0–1.0] when using heuristics; default omit if unknown. Confidence enables human review thresholds.\n",
      "\n",
      "9) OUTPUT SCHEMA (concise)\n",
      "- Top-level JSON keys: `entities` (array), `relationships` (array).\n",
      "- Entity object minimal fields:\n",
      "  {\n",
      "    \"id\": \"eN\",\n",
      "    \"name\": \"Canonical Name\",\n",
      "    \"type\": \"Person\",\n",
      "    \"aliases\": [\"Alt Name\", \"ShortName\"],\n",
      "    \"span\": \"exact first match text or sentence (≤1 sentence)\",\n",
      "    \"first_mention\": {\"chunk_id\":\"chunk_7\",\"sentence_index\":0,\"text\":\"...\"},\n",
      "    \"attributes\": { ... }   // optional\n",
      "  }\n",
      "- Relationship object minimal fields:\n",
      "  {\n",
      "    \"source\": \"eN\",\n",
      "    \"relation\": \"meets\",\n",
      "    \"target\": \"eM\",\n",
      "    \"evidence_spans\": [ {\"text\":\"...\", \"chunk_id\":\"\", \"sentence_index\":0} ],\n",
      "    \"negated\": false  // optional\n",
      "  }\n",
      "\n",
      "10) DEDUPLICATION & UPDATES ACROSS CHUNKS\n",
      "- When processing a new chunk:\n",
      "  1. Match mentions to the global entity list using the alias algorithm.\n",
      "  2. If a match is found, reuse the existing `id` and append new evidence and multi-valued attributes; override single-valued attributes as specified.\n",
      "  3. If no match found, create a new `eN` id and record initial provenance.\n",
      "- Idempotency: re-processing the same chunk should not duplicate evidence spans. Use evidence span hashes (text + sentence_index + chunk_id) to detect duplicates.\n",
      "\n",
      "11) AMBIGUITIES, CONFLICTS & NEGATION HANDLING\n",
      "- If two single-valued attributes conflict and both have provenance, set the later chunk’s value as `current` and move the earlier to `history`. Record both with provenance.\n",
      "- For ambiguous identical surface forms (e.g., two different \"John Smith\" in the same work), create distinct entities if contextual cues differ (organization, role, location). Add `disambiguation_hint` such as \"John Smith (baker)\" or \"John Smith — chapter 3\".\n",
      "- For negated relations or attributes, do NOT extract the positive variant; instead record a negation note in relation metadata.\n",
      "\n",
      "12) NATIVE NORMALIZATION GUIDELINES\n",
      "- Dates: ISO 8601 when parseable. Store `raw` original string always.\n",
      "- Names: preserve original for `span`; store normalized ASCII-lowercase in `aliases` normalized list.\n",
      "- Traits/personality: store short descriptors, dedupe case-insensitively (e.g., \"observant\" = \"Observant\").\n",
      "\n",
      "13) EDGE CASES\n",
      "- Overlapping/nested spans: allow nested entities but prefer maximal span for canonical mention; include both entities if text supports both.\n",
      "- Quoted speech: mentions inside direct speech are valid entity mentions and should be treated the same, with the sentence as provenance.\n",
      "- Titles: include titles as part of the entity name (e.g., \"Inspector Lestrade\") and as an alias without the title (\"Lestrade\").\n",
      "- Vehicles/Artifacts: treat named vehicles or unique artifacts as entities (type Vehicle or Artifact) with attributes like model, owner.\n",
      "\n",
      "14) EXAMPLES (must follow output schema exactly)\n",
      "\n",
      "a) Input chunk: \"Holmes met Dr Watson at 221B Baker Street. Watson was a doctor. Holmes was eccentric.\"\n",
      "Output:\n",
      "{\n",
      "  \"entities\": [\n",
      "    {\"id\":\"e1\",\"name\":\"Sherlock Holmes\",\"type\":\"Person\",\"aliases\":[\"Holmes\"],\"span\":\"Holmes\",\"first_mention\":{\"chunk_id\":\"chunk_1\",\"sentence_index\":0,\"text\":\"Holmes met Dr Watson at 221B Baker Street\"},\"attributes\":{\"personality\":[\"eccentric\"]}},\n",
      "    {\"id\":\"e2\",\"name\":\"Dr Watson\",\"type\":\"Person\",\"aliases\":[\"Watson\",\"Dr. Watson\"],\"span\":\"Dr Watson\",\"first_mention\":{\"chunk_id\":\"chunk_1\",\"sentence_index\":0,\"text\":\"Holmes met Dr Watson at 221B Baker Street\"},\"attributes\":{\"profession\":{\"value\":\"Doctor\",\"source\":\"chunk_1\",\"sentence_index\":1}}},\n",
      "    {\"id\":\"e3\",\"name\":\"221B Baker Street\",\"type\":\"Location\",\"aliases\":[],\"span\":\"221B Baker Street\",\"first_mention\":{\"chunk_id\":\"chunk_1\",\"sentence_index\":0,\"text\":\"Holmes met Dr Watson at 221B Baker Street\"}}\n",
      "  ],\n",
      "  \"relationships\": [\n",
      "    {\"source\":\"e1\",\"relation\":\"meets\",\"target\":\"e2\",\"evidence_spans\":[{\"text\":\"Holmes met Dr Watson at 221B Baker Street\",\"chunk_id\":\"chunk_1\",\"sentence_index\":0}]},\n",
      "    {\"source\":\"e1\",\"relation\":\"lives_at\",\"target\":\"e3\",\"evidence_spans\":[{\"text\":\"Holmes met Dr Watson at 221B Baker Street\",\"chunk_id\":\"chunk_1\",\"sentence_index\":0}]},\n",
      "    {\"source\":\"e2\",\"relation\":\"lives_at\",\"target\":\"e3\",\"evidence_spans\":[{\"text\":\"Holmes met Dr Watson at 221B Baker Street\",\"chunk_id\":\"chunk_1\",\"sentence_index\":0}]}\n",
      "  ]\n",
      "}\n",
      "\n",
      "b) Negation example: \"He did not kill the man.\"\n",
      "- Do not generate a `kills` relation. Optionally produce a negation note in metadata.\n",
      "\n",
      "15) EXAMPLE TESTCASES (for QA)\n",
      "- Dialogue with pronouns and multiple prior mentions (test pronoun linking window = 2).\n",
      "- Conflicting birthdates in separate chunks (test override & history).\n",
      "- Negated relations (\"didn't marry\", \"never met\").\n",
      "- Ambiguous names (\"John Smith\" in two roles across text) to test disambiguation_hint.\n",
      "\n",
      "16) IMPLEMENTATION NOTES & PRIORITIES\n",
      "High-priority items to implement first:\n",
      "1. Deterministic alias matching and canonicalization rules.\n",
      "2. Evidence provenance per entity and relation.\n",
      "3. Single-valued vs multi-valued attribute update rules with history.\n",
      "4. Negation detection to avoid false relations.\n",
      "5. Idempotent updates (avoid duplicate evidence).\n",
      "6. Clear schema enforcement (validator against the example schema).\n",
      "\n",
      "Lower-priority but recommended:\n",
      "- Optional confidence scoring heuristics.\n",
      "- External linking fields (Wikidata id).\n",
      "- Automatic date-normalization helper with fallback to raw text.\n",
      "\n",
      "17) OPERATIONAL BEHAVIOR\n",
      "- Do not hallucinate entities, attributes, or relations not supported by text evidence.\n",
      "- Always attach provenance for single-valued overrides.\n",
      "- When uncertain but plausible (less than strong implication), prefer conservative extraction and mark potential relations with low confidence or flag for human review.\n",
      "\n",
      "18) VALIDATION & ACCEPTANCE CRITERIA\n",
      "- Output must be parsable JSON.\n",
      "- Every entity must have id, name, type, span, first_mention provenance.\n",
      "- Relationships must include at least one evidence_span.\n",
      "- No duplicate evidence spans.\n",
      "- Respect pronoun linking rules and negation rules.\n",
      "\n",
      "Usage\n",
      "\n",
      "* {\"entities\": [{\"id\": \"e1\", \"name\": \"Dr. John Watson\", \"type\": \"Person\", \"aliases\": [\"Watson\", \"John Watson\"], \"span\": \"I took my degree of Doctor of Medicine of the University of London, and proceeded to Netley to go through the course prescribed for surgeons in the army. Having completed my studies there, I was duly attached to the Fifth Northumberland Fusiliers as Assistant Surgeon. The regiment was stationed in India at the time, and before I could join it, the second Afghan war had broken out. On landing at Bombay, I learned that my corps had advanced through the passes, and was already deep in the enemy’s country. I followed, however, with many other officers who were in the same situation as myself, and succeeded in reaching Candahar in safety, where I found my regiment, and at once entered upon my new duties. The campaign brought honours and promotion to many, but for me it had nothing but misfortune and disaster. I was removed from my brigade and attached to the Berkshires, with whom I served at the fatal battle of Maiwand. There I was struck on the shoulder by a Jezail bullet, which shattered the bone and grazed the subclavian artery. I should have fallen into the hands of the murderous Ghazis had it not been for the devotion and courage shown by Murray, my orderly, who threw me across a pack-horse, and succeeded in bringing me safely to the British lines. Worn with pain, and weak from the prolonged hardships which I had undergone, I was removed, with a great train of wounded sufferers, to the base hospital at Peshawar. Here I rallied, and had already improved so far as to be able to walk about the wards, and even to bask a little upon the verandah, when I was struck down by enteric fever, that curse of our Indian possessions. For months my life was despaired of, and when at last I came to myself and became convalescent, I was so weak and emaciated that a medical board determined that not a day should be lost in sending me back to England. I was dispatched, accordingly, in the troopship “Orontes,” and landed a month later on Portsmouth jetty, with my health irretrievably ruined, but with permission from a paternal government to spend the next nine months in attempting to improve it. I had neither kith nor kin in England, and was therefore as free as air—or as free as an income of eleven shillings and sixpence a day will permit a man to be. Under such circumstances, I naturally gravitated to London, that great cesspool into which all the loungers and idlers of the Empire are irresistibly drained. There I stayed for some time at a private hotel in the Strand, leading a comfortless, meaningless existence, and spending such money as I had, considerably more freely than I ought. So alarming did the state of my finances become, that I soon realized that I must either leave the metropolis and rusticate somewhere in the country, or that I must make a complete alteration in my style of living. Choosing the latter alternative, I began by making up my mind to leave the hotel, and to take up my quarters in some less pretentious and less expensive domicile. On the very day that I had come to this conclusion, I was standing at the Criterion Bar, when some one tapped me on the shoulder, and turning round I recognized young Stamford, who had been a dresser under me at Barts. The sight of a friendly face in the great wilderness of London is a pleasant thing indeed to a lonely man. In old days Stamford had never been a particular crony of mine, but now I hailed him with enthusiasm, and he, in his turn, appeared to be delighted to see me. In the exuberance of my joy, I asked him to lunch with me at the Holborn, and we started off together in a hansom. “Whatever have you been doing with yourself, Watson? ” he asked in undisguised wonder, as we rattled through the crowded London streets. “You are as thin as a lath and as brown as a nut. ”  I gave him a short sketch of my adventures, and had hardly concluded it by the time that we reached our destination. “Poor devil! ” he said, commiseratingly, after he had listened to my misfortunes. “What are you up to now? ”  “Looking for lodgings,” I answered. “Trying to solve the problem as to whether it is possible to get comfortable rooms at a reasonable price.””, \"}, {\"id\": \"e2\", \"name\": \"Sherlock Holmes\", \"type\": \"Person\", \"aliases\": [\"Holmes\"], \"span\": \"Sherlock Holmes\"}, {\"id\": \"e3\", \"name\": \"Stamford\", \"type\": \"Person\", \"aliases\": [\"young Stamford\"], \"span\": \"young Stamford\"}, {\"id\": \"e4\", \"name\": \"University of London\", \"type\": \"Organization\", \"aliases\": [], \"span\": \"University of London\"}, {\"id\": \"e5\", \"name\": \"Fifth Northumberland Fusiliers\", \"type\": \"Organization\", \"aliases\": [], \"span\": \"Fifth Northumberland Fusiliers\"}, {\"id\": \"e6\", \"name\": \"India\", \"type\": \"Location\", \"aliases\": [], \"span\": \"India\"}, {\"id\": \"e7\", \"name\": \"Bombay\", \"type\": \"Location\", \"aliases\": [], \"span\": \"Bombay\"}, {\"id\": \"e8\", \"name\": \"Candahar\", \"type\": \"Location\", \"aliases\": [], \"span\": \"Candahar\"}, {\"id\": \"e9\", \"name\": \"Peshawar\", \"type\": \"Location\", \"aliases\": [], \"span\": \"Peshawar\"}, {\"id\": \"e10\", \"name\": \"England\", \"type\": \"Location\", \"aliases\": [], \"span\": \"England\"}, {\"id\": \"e11\", \"name\": \"London\", \"type\": \"Location\", \"aliases\": [], \"span\": \"London\"}, {\"id\": \"e12\", \"name\": \"Strand\", \"type\": \"Location\", \"aliases\": [], \"span\": \"Strand\"}, {\"id\": \"e13\", \"name\": \"Holborn\", \"type\": \"Location\", \"aliases\": [], \"span\": \"Holborn\"}, {\"id\": \"e14\", \"name\": \"Criterion Bar\", \"type\": \"Location\", \"aliases\": [], \"span\": \"Criterion Bar\"}, {\"id\": \"e15\", \"name\": \"Barts\", \"type\": \"Organization\", \"aliases\": [], \"span\": \"Barts\"}, {\"id\": \"e16\", \"name\": \"Berkshires\", \"type\": \"Organization\", \"aliases\": [], \"span\": \"Berkshires\"}, {\"id\": \"e17\", \"name\": \"Maiwand\", \"type\": \"Location\", \"aliases\": [], \"span\": \"Maiwand\"}, {\"id\": \"e18\", \"name\": \"Portsmouth\", \"type\": \"Location\", \"aliases\": [], \"span\": \"Portsmouth\"}, {\"id\": \"e19\", \"name\": \"Afghanistan\", \"type\": \"Location\", \"aliases\": [], \"span\": \"Afghanistan\"}, {\"id\": \"e20\", \"name\": \"Netley\", \"type\": \"Location\", \"aliases\": [], \"span\": \"Netley\"}, {\"id\": \"e21\", \"name\": \"British lines\", \"type\": \"Location\", \"aliases\": [], \"span\": \"British lines\"}, {\"id\": \"e22\", \"name\": \"chemical laboratory\", \"type\": \"Location\", \"aliases\": [], \"span\": \"chemical laboratory\"}, {\"id\": \"e23\", \"name\": \"hospital\", \"type\": \"Organization\", \"aliases\": [], \"span\": \"hospital\"}]} → current global entity list\n",
      "* [\"educated_at\", \"resides_at\", \"seeks\", \"meets\", \"travels_to\", \"worked_at\", \"travels_with\", \"located_in\", \"member_of\", \"dines_with\"] → current global relation types\n",
      "* In the year 1878 I took my degree of Doctor of Medicine of the University of London, and proceeded to Netley to go through the course prescribed for surgeons in the army. Having completed my studies there, I was duly attached to the Fifth Northumberland Fusiliers as Assistant Surgeon. The regiment was stationed in India at the time, and before I could join it, the second Afghan war had broken out. On landing at Bombay, I learned that my corps had advanced through the passes, and was already deep in the enemy’s country. I followed, however, with many other officers who were in the same situation as myself, and succeeded in reaching Candahar in safety, where I found my regiment, and at once entered upon my new duties. The campaign brought honours and promotion to many, but for me it had nothing but misfortune and disaster. I was removed from my brigade and attached to the Berkshires, with whom I served at the fatal battle of Maiwand. There I was struck on the shoulder by a Jezail bullet, which shattered the bone and grazed the subclavian artery. I should have fallen into the hands of the murderous Ghazis had it not been for the devotion and courage shown by Murray, my orderly, who threw me across a pack-horse, and succeeded in bringing me safely to the British lines. Worn with pain, and weak from the prolonged hardships which I had undergone, I was removed, with a great train of wounded sufferers, to the base hospital at Peshawar. Here I rallied, and had already improved so far as to be able to walk about the wards, and even to bask a little upon the verandah, when I was struck down by enteric fever, that curse of our Indian possessions. For months my life was despaired of, and when at last I came to myself and became convalescent, I was so weak and emaciated that a medical board determined that not a day should be lost in sending me back to England. I was dispatched, accordingly, in the troopship “Orontes,” and landed a month later on Portsmouth jetty, with my health irretrievably ruined, but with permission from a paternal government to spend the next nine months in attempting to improve it. I had neither kith nor kin in England, and was therefore as free as air—or as free as an income of eleven shillings and sixpence a day will permit a man to be. Under such circumstances, I naturally gravitated to London, that great cesspool into which all the loungers and idlers of the Empire are irresistibly drained. There I stayed for some time at a private hotel in the Strand, leading a comfortless, meaningless existence, and spending such money as I had, considerably more freely than I ought. So alarming did the state of my finances become, that I soon realized that I must either leave the metropolis and rusticate somewhere in the country, or that I must make a complete alteration in my style of living. Choosing the latter alternative, I began by making up my mind to leave the hotel, and to take up my quarters in some less pretentious and less expensive domicile. On the very day that I had come to this conclusion, I was standing at the Criterion Bar, when some one tapped me on the shoulder, and turning round I recognized young Stamford, who had been a dresser under me at Barts. The sight of a friendly face in the great wilderness of London is a pleasant thing indeed to a lonely man. In old days Stamford had never been a particular crony of mine, but now I hailed him with enthusiasm, and he, in his turn, appeared to be delighted to see me. In the exuberance of my joy, I asked him to lunch with me at the Holborn, and we started off together in a hansom. “Whatever have you been doing with yourself, Watson? ” he asked in undisguised wonder, as we rattled through the crowded London streets. “You are as thin as a lath and as brown as a nut. ” I gave him a short sketch of my adventures, and had hardly concluded it by the time that we reached our destination. “Poor devil! ” he said, commiseratingly, after he had listened to my misfortunes. “What are you up to now? ” “Looking for lodgings,” I answered. “Trying to solve the problem as to whether it is possible to get comfortable rooms at a reasonable price. ” “That’s a strange thing,” remarked my companion; “you are the second man to-day that has used that expression to me. ” “And who was the first? ” I asked. “A fellow who is working at the chemical laboratory up at the hospital. He was bemoaning himself this morning because he could not get someone to go halves with him in some nice rooms which he had found, and which were too much for his purse. ” “By Jove! ” I cried, “if he really wants someone to share the rooms and the expense, I am the very man for him. I should prefer having a partner to being alone. ” Young Stamford looked rather strangely at me over his wine-glass. “You don’t know Sherlock Holmes yet,” he said; “perhaps you would not care for him as a constant companion. ” “Why, what is there against him? ” “Oh, I didn’t say there was anything against him. He is a little queer in his ideas—an enthusiast in some branches of science. As far as I know he is a decent fellow enough. ” “A medical student, I suppose? ” said I. “No—I have no idea what he intends to go in for. I believe he is well up in anatomy, and he is a first-class chemist; but, as far as I know, he has never taken out any systematic medical classes. His studies are very desultory and eccentric, but he has amassed a lot of out-of-the way knowledge which would astonish his professors. ” “Did you never ask him what he was going in for? ” I asked. “No; he is not a man that it is easy to draw out, though he can be communicative enough when the fancy seizes him. ” “I should like to meet him,” I said. “If I am to lodge with anyone, I should prefer a man of studious and quiet habits. I am not strong enough yet to stand much noise or excitement. I had enough of both in Afghanistan to last me for the remainder of my natural existence. How could I meet this friend of yours? ” “He is sure to be at the laboratory,” returned my companion. “He either avoids the place for weeks, or else he works there from morning to night. If you like, we shall drive round together after luncheon. ” “Certainly,” I answered, and the conversation drifted away into other channels. As we made our way to the hospital after leaving the Holborn, Stamford gave me a few more particulars about the gentleman whom I proposed to take as a fellow-lodger. “You mustn’t blame me if you don’t get on with him,” he said; “I know nothing more of him than I have learned from meeting him occasionally in the laboratory. You proposed this arrangement, so you must not hold me responsible. ” “If we don’t get on it will be easy to part company,” I answered. “It seems to me, Stamford,” I added, looking hard at my companion, “that you have some reason for washing your hands of the matter. Is this fellow’s temper so formidable, or what is it? Don’t be mealy-mouthed about it. ” “It is not easy to express the inexpressible,” he answered with a laugh. “Holmes is a little too scientific for my tastes—it approaches to cold-bloodedness. I could imagine his giving a friend a little pinch of the latest vegetable alkaloid, not out of malevolence, you understand, but simply out of a spirit of inquiry in order to have an accurate idea of the effects. To do him justice, I think that he would take it himself with the same readiness. He appears to have a passion for definite and exact knowledge. ” “Very right too. ” “Yes, but it may be pushed to excess. When it comes to beating the subjects in the dissecting-rooms with a stick, it is certainly taking rather a bizarre shape. ” “Beating the subjects! ” “Yes, to verify how far bruises may be produced after death. I saw him at it with my own eyes. ” “And yet you say he is not a medical student? ” “No. Heaven knows what the objects of his studies are. But here we are, and you must form your own impressions about him. ” As he spoke, we turned down a narrow lane and passed through a small side-door, which opened into a wing of the great hospital. It was familiar ground to me, and I needed no guiding as we ascended the bleak stone staircase and made our way down the long corridor with its vista of whitewashed wall and dun-coloured doors. Near the further end a low arched passage branched away from it and led to the chemical laboratory. This was a lofty chamber, lined and littered with countless bottles. Broad, low tables were scattered about, which bristled with retorts, test-tubes, and little Bunsen lamps, with their blue flickering flames. There was only one student in the room, who was bending over a distant table absorbed in his work. At the sound of our steps he glanced round and sprang to his feet with a cry of pleasure. “I’ve found it! I’ve found it,” he shouted to my companion, running towards us with a test-tube in his hand. “I have found a re-agent which is precipitated by hæmoglobin, and by nothing else. ” Had he discovered a gold mine, greater delight could not have shone upon his features. “Dr. Watson, Mr. Sherlock Holmes,” said Stamford, introducing us. “How are you? ” he said cordially, gripping my hand with a strength for which I should hardly have given him credit. “You have been in Afghanistan, I perceive. ” “How on earth did you know that? ” I asked in astonishment. “Never mind,” said he, chuckling to himself. “The question now is about hæmoglobin. No doubt you see the significance of this discovery of mine? ” “It is interesting, chemically, no doubt,” I answered, “but practically——” “Why, man, it is the most practical medico-legal discovery for years. Don’t you see that it gives us an infallible test for blood stains. Come over here now! ” He seized me by the coat-sleeve in his eagerness, and drew me over to the table at which he had been working. “Let us have some fresh blood,” he said, digging a long bodkin into his finger, and drawing off the resulting drop of blood in a chemical pipette. “Now, I add this small quantity of blood to a litre of water. You perceive that the resulting mixture has the appearance of pure water. The proportion of blood cannot be more than one in a million. I have no doubt, however, that we shall be able to obtain the characteristic reaction. ” As he spoke, he threw into the vessel a few white crystals, and then added some drops of a transparent fluid. In an instant the contents assumed a dull mahogany colour, and a brownish dust was precipitated to the bottom of the glass jar. “Ha! ha! ” he cried, clapping his hands, and looking as delighted as a child with a new toy. “What do you think of that? ” “It seems to be a very delicate test,” I remarked. “Beautiful! beautiful! The old Guiacum test was very clumsy and uncertain. So is the microscopic examination for blood corpuscles. The latter is valueless if the stains are a few hours old. Now, this appears to act as well whether the blood is old or new. Had this test been invented, there are hundreds of men now walking the earth who would long ago have paid the penalty of their crimes. ” “Indeed! ” I murmured. “Criminal cases are continually hinging upon that one point. A man is suspected of a crime months perhaps after it has been committed. His linen or clothes are examined, and brownish stains discovered upon them. Are they blood stains, or mud stains, or rust stains, or fruit stains, or what are they? That is a question which has puzzled many an expert, and why? Because there was no reliable test. Now we have the Sherlock Holmes’ test, and there will no longer be any difficulty. ” His eyes fairly glittered as he spoke, and he put his hand over his heart and bowed as if to some applauding crowd conjured up by his imagination. “You are to be congratulated,” I remarked, considerably surprised at his enthusiasm. “There was the case of Von Bischoff at Frankfort last year. He would certainly have been hung had this test been in existence. Then there was Mason of Bradford, and the notorious Muller, and Lefevre of Montpellier, and Samson of New Orleans. I could name a score of cases in which it would have been decisive. ” “You seem to be a walking calendar of crime,” said Stamford with a laugh. “You might start a paper on those lines. Call it the ‘Police News of the Past. ’” “Very interesting reading it might be made, too,” remarked Sherlock Holmes, sticking a small piece of plaster over the prick on his finger. “I have to be careful,” he continued, turning to me with a smile, “for I dabble with poisons a good deal. ” He held out his hand as he spoke, and I noticed that it was all mottled over with similar pieces of plaster, and discoloured with strong acids. “We came here on business,” said Stamford, sitting down on a high three-legged stool, and pushing another one in my direction with his foot. “My friend here wants to take diggings, and as you were complaining that you could get no one to go halves with you, I thought that I had better bring you together. ” Sherlock Holmes seemed delighted at the idea of sharing his rooms with me. “I have my eye on a suite in Baker Street,” he said, “which would suit us down to the ground. You don’t mind the smell of strong tobacco, I hope? ” “I always smoke ‘ship’s’ myself,” I answered. “That’s good enough. I generally have chemicals about, and occasionally do experiments. Would that annoy you? ” “By no means. ” “Let me see—what are my other shortcomings. I get in the dumps at times, and don’t open my mouth for days on end. You must not think I am sulky when I do that. Just let me alone, and I’ll soon be right. What have you to confess now? It’s just as well for two fellows to know the worst of one another before they begin to live together. ” I laughed at this cross-examination. “I keep a bull pup,” I said, “and I object to rows because my nerves are shaken, and I get up at all sorts of ungodly hours, and I am extremely lazy. I have another set of vices when I’m well, but those are the principal ones at present. ” “Do you include violin-playing in your category of rows? ” he asked, anxiously. “It depends on the player,” I answered. “A well-played violin is a treat for the gods—a badly-played one——” “Oh, that’s all right,” he cried, with a merry laugh. “I think we may consider the thing as settled—that is, if the rooms are agreeable to you. ” “When shall we see them? ” “Call for me here at noon to-morrow, and we’ll go together and settle everything,” he answered. “All right—noon exactly,” said I, shaking his hand. We left him working among his chemicals, and we walked together towards my hotel. “By the way,” I asked suddenly, stopping and turning upon Stamford, “how the deuce did he know that I had come from Afghanistan? ” My companion smiled an enigmatical smile. “That’s just his little peculiarity,” he said. “A good many people have wanted to know how he finds things out. ” “Oh! a mystery is it? ” I cried, rubbing my hands. “This is very piquant. I am much obliged to you for bringing us together. ‘The proper study of mankind is man,’ you know. ”  “You must study him, then,” Stamford said, as he bade me good-bye. “You’ll find him a knotty problem, though. I’ll wager he learns more about you than you about him. Good-bye. ”  “Good-bye,” I answered, and strolled on to my hotel, considerably interested in my new acquaintance. CHAPTER II. THE SCIENCE OF DEDUCTION. We met next day as he had arranged, and inspected the rooms at No. 221B, Baker Street, of which he had spoken at our meeting. They consisted of a couple of comfortable bed-rooms and a single large airy sitting-room, cheerfully furnished, and illuminated by two broad windows. So desirable in every way were the apartments, and so moderate did the terms seem when divided between us, that the bargain was concluded upon the spot, and we at once entered into possession. That very evening I moved my things round from the hotel, and on the following morning Sherlock Holmes followed me with several boxes and portmanteaus. For a day or two we were busily employed in unpacking and laying out our property to the best advantage. That done, we gradually began to settle down and to accommodate ourselves to our new surroundings. Holmes was certainly not a difficult man to live with. He was quiet in his ways, and his habits were regular. It was rare for him to be up after ten at night, and he had invariably breakfasted and gone out before I rose in the morning. Sometimes he spent his day at the chemical laboratory, sometimes in the dissecting-rooms, and occasionally in long walks, which appeared to take him into the lowest portions of the City. Nothing could exceed his energy when the working fit was upon him; but now and again a reaction would seize him, and for days on end he would lie upon the sofa in the sitting-room, hardly uttering a word or moving a muscle from morning to night. On these occasions I have noticed such a dreamy, vacant expression in his eyes, that I might have suspected him of being addicted to the use of some narcotic, had not the temperance and cleanliness of his whole life forbidden such a notion. As the weeks went by, my interest in him and my curiosity as to his aims in life, gradually deepened and increased. His very person and appearance were such as to strike the attention of the most casual observer. In height he was rather over six feet, and so excessively lean that he seemed to be considerably taller. His eyes were sharp and piercing, save during those intervals of torpor to which I have alluded; and his thin, hawk-like nose gave his whole expression an air of alertness and decision. His chin, too, had the prominence and squareness which mark the man of determination. His hands were invariably blotted with ink and stained with chemicals, yet he was possessed of extraordinary delicacy of touch, as I frequently had occasion to observe when I watched him manipulating his fragile philosophical instruments. The reader may set me down as a hopeless busybody, when I confess how much this man stimulated my curiosity, and how often I endeavoured to break through the reticence which he showed on all that concerned himself. Before pronouncing judgment, however, be it remembered, how objectless was my life, and how little there was to engage my attention. My health forbade me from venturing out unless the weather was exceptionally genial, and I had no friends who would call upon me and break the monotony of my daily existence. Under these circumstances, I eagerly hailed the little mystery which hung around my companion, and spent much of my time in endeavouring to unravel it. He was not studying medicine. He had himself, in reply to a question, confirmed Stamford’s opinion upon that point. Neither did he appear to have pursued any course of reading which might fit him for a degree in science or any other recognized portal which would give him an entrance into the learned world. Yet his zeal for certain studies was remarkable, and within eccentric limits his knowledge was so extraordinarily ample and minute that his observations have fairly astounded me. Surely no man would work so hard or attain such precise information unless he had some definite end in view. Desultory readers are seldom remarkable for the exactness of their learning. No man burdens his mind with small matters unless he has some very good reason for doing so. His ignorance was as remarkable as his knowledge. Of contemporary literature, philosophy and politics he appeared to know next to nothing. Upon my quoting Thomas Carlyle, he inquired in the naivest way who he might be and what he had done. My surprise reached a climax, however, when I found incidentally that he was ignorant of the Copernican Theory and of the composition of the Solar System. → text to extract from\n"
     ]
    }
   ],
   "source": [
    "print(prompt)"
   ]
  },
  {
   "cell_type": "code",
   "execution_count": 46,
   "id": "ebf3c02a",
   "metadata": {},
   "outputs": [
    {
     "name": "stdout",
     "output_type": "stream",
     "text": [
      "Processing chunk 1/49\n",
      "Processing chunk 2/49\n",
      "Processing chunk 3/49\n",
      "Processing chunk 4/49\n"
     ]
    },
    {
     "ename": "JSONDecodeError",
     "evalue": "Unterminated string starting at: line 20 column 15 (char 26958)",
     "output_type": "error",
     "traceback": [
      "\u001b[1;31m---------------------------------------------------------------------------\u001b[0m",
      "\u001b[1;31mJSONDecodeError\u001b[0m                           Traceback (most recent call last)",
      "Cell \u001b[1;32mIn[46], line 39\u001b[0m\n\u001b[0;32m     29\u001b[0m response \u001b[38;5;241m=\u001b[39m co\u001b[38;5;241m.\u001b[39mchat(\n\u001b[0;32m     30\u001b[0m     model\u001b[38;5;241m=\u001b[39m\u001b[38;5;124m\"\u001b[39m\u001b[38;5;124mcommand-a-03-2025\u001b[39m\u001b[38;5;124m\"\u001b[39m,\n\u001b[0;32m     31\u001b[0m     messages\u001b[38;5;241m=\u001b[39m[{\u001b[38;5;124m\"\u001b[39m\u001b[38;5;124mrole\u001b[39m\u001b[38;5;124m\"\u001b[39m: \u001b[38;5;124m\"\u001b[39m\u001b[38;5;124muser\u001b[39m\u001b[38;5;124m\"\u001b[39m, \u001b[38;5;124m\"\u001b[39m\u001b[38;5;124mcontent\u001b[39m\u001b[38;5;124m\"\u001b[39m: prompt}],\n\u001b[1;32m   (...)\u001b[0m\n\u001b[0;32m     35\u001b[0m     }\n\u001b[0;32m     36\u001b[0m )\n\u001b[0;32m     38\u001b[0m \u001b[38;5;66;03m# Parse model output\u001b[39;00m\n\u001b[1;32m---> 39\u001b[0m data \u001b[38;5;241m=\u001b[39m \u001b[43mjson\u001b[49m\u001b[38;5;241;43m.\u001b[39;49m\u001b[43mloads\u001b[49m\u001b[43m(\u001b[49m\u001b[43mresponse\u001b[49m\u001b[38;5;241;43m.\u001b[39;49m\u001b[43mdict\u001b[49m\u001b[43m(\u001b[49m\u001b[43m)\u001b[49m\u001b[43m[\u001b[49m\u001b[38;5;124;43m\"\u001b[39;49m\u001b[38;5;124;43mmessage\u001b[39;49m\u001b[38;5;124;43m\"\u001b[39;49m\u001b[43m]\u001b[49m\u001b[43m[\u001b[49m\u001b[38;5;124;43m\"\u001b[39;49m\u001b[38;5;124;43mcontent\u001b[39;49m\u001b[38;5;124;43m\"\u001b[39;49m\u001b[43m]\u001b[49m\u001b[43m[\u001b[49m\u001b[38;5;241;43m0\u001b[39;49m\u001b[43m]\u001b[49m\u001b[43m[\u001b[49m\u001b[38;5;124;43m\"\u001b[39;49m\u001b[38;5;124;43mtext\u001b[39;49m\u001b[38;5;124;43m\"\u001b[39;49m\u001b[43m]\u001b[49m\u001b[43m)\u001b[49m\n\u001b[0;32m     40\u001b[0m sleep(\u001b[38;5;241m7\u001b[39m)  \u001b[38;5;66;03m# avoid rate limits\u001b[39;00m\n\u001b[0;32m     42\u001b[0m \u001b[38;5;66;03m# 🔹 Merge entities\u001b[39;00m\n",
      "File \u001b[1;32mc:\\Users\\salmank\\anaconda3\\envs\\pymc_env_5\\Lib\\json\\__init__.py:346\u001b[0m, in \u001b[0;36mloads\u001b[1;34m(s, cls, object_hook, parse_float, parse_int, parse_constant, object_pairs_hook, **kw)\u001b[0m\n\u001b[0;32m    341\u001b[0m     s \u001b[38;5;241m=\u001b[39m s\u001b[38;5;241m.\u001b[39mdecode(detect_encoding(s), \u001b[38;5;124m'\u001b[39m\u001b[38;5;124msurrogatepass\u001b[39m\u001b[38;5;124m'\u001b[39m)\n\u001b[0;32m    343\u001b[0m \u001b[38;5;28;01mif\u001b[39;00m (\u001b[38;5;28mcls\u001b[39m \u001b[38;5;129;01mis\u001b[39;00m \u001b[38;5;28;01mNone\u001b[39;00m \u001b[38;5;129;01mand\u001b[39;00m object_hook \u001b[38;5;129;01mis\u001b[39;00m \u001b[38;5;28;01mNone\u001b[39;00m \u001b[38;5;129;01mand\u001b[39;00m\n\u001b[0;32m    344\u001b[0m         parse_int \u001b[38;5;129;01mis\u001b[39;00m \u001b[38;5;28;01mNone\u001b[39;00m \u001b[38;5;129;01mand\u001b[39;00m parse_float \u001b[38;5;129;01mis\u001b[39;00m \u001b[38;5;28;01mNone\u001b[39;00m \u001b[38;5;129;01mand\u001b[39;00m\n\u001b[0;32m    345\u001b[0m         parse_constant \u001b[38;5;129;01mis\u001b[39;00m \u001b[38;5;28;01mNone\u001b[39;00m \u001b[38;5;129;01mand\u001b[39;00m object_pairs_hook \u001b[38;5;129;01mis\u001b[39;00m \u001b[38;5;28;01mNone\u001b[39;00m \u001b[38;5;129;01mand\u001b[39;00m \u001b[38;5;129;01mnot\u001b[39;00m kw):\n\u001b[1;32m--> 346\u001b[0m     \u001b[38;5;28;01mreturn\u001b[39;00m \u001b[43m_default_decoder\u001b[49m\u001b[38;5;241;43m.\u001b[39;49m\u001b[43mdecode\u001b[49m\u001b[43m(\u001b[49m\u001b[43ms\u001b[49m\u001b[43m)\u001b[49m\n\u001b[0;32m    347\u001b[0m \u001b[38;5;28;01mif\u001b[39;00m \u001b[38;5;28mcls\u001b[39m \u001b[38;5;129;01mis\u001b[39;00m \u001b[38;5;28;01mNone\u001b[39;00m:\n\u001b[0;32m    348\u001b[0m     \u001b[38;5;28mcls\u001b[39m \u001b[38;5;241m=\u001b[39m JSONDecoder\n",
      "File \u001b[1;32mc:\\Users\\salmank\\anaconda3\\envs\\pymc_env_5\\Lib\\json\\decoder.py:337\u001b[0m, in \u001b[0;36mJSONDecoder.decode\u001b[1;34m(self, s, _w)\u001b[0m\n\u001b[0;32m    332\u001b[0m \u001b[38;5;28;01mdef\u001b[39;00m \u001b[38;5;21mdecode\u001b[39m(\u001b[38;5;28mself\u001b[39m, s, _w\u001b[38;5;241m=\u001b[39mWHITESPACE\u001b[38;5;241m.\u001b[39mmatch):\n\u001b[0;32m    333\u001b[0m \u001b[38;5;250m    \u001b[39m\u001b[38;5;124;03m\"\"\"Return the Python representation of ``s`` (a ``str`` instance\u001b[39;00m\n\u001b[0;32m    334\u001b[0m \u001b[38;5;124;03m    containing a JSON document).\u001b[39;00m\n\u001b[0;32m    335\u001b[0m \n\u001b[0;32m    336\u001b[0m \u001b[38;5;124;03m    \"\"\"\u001b[39;00m\n\u001b[1;32m--> 337\u001b[0m     obj, end \u001b[38;5;241m=\u001b[39m \u001b[38;5;28;43mself\u001b[39;49m\u001b[38;5;241;43m.\u001b[39;49m\u001b[43mraw_decode\u001b[49m\u001b[43m(\u001b[49m\u001b[43ms\u001b[49m\u001b[43m,\u001b[49m\u001b[43m \u001b[49m\u001b[43midx\u001b[49m\u001b[38;5;241;43m=\u001b[39;49m\u001b[43m_w\u001b[49m\u001b[43m(\u001b[49m\u001b[43ms\u001b[49m\u001b[43m,\u001b[49m\u001b[43m \u001b[49m\u001b[38;5;241;43m0\u001b[39;49m\u001b[43m)\u001b[49m\u001b[38;5;241;43m.\u001b[39;49m\u001b[43mend\u001b[49m\u001b[43m(\u001b[49m\u001b[43m)\u001b[49m\u001b[43m)\u001b[49m\n\u001b[0;32m    338\u001b[0m     end \u001b[38;5;241m=\u001b[39m _w(s, end)\u001b[38;5;241m.\u001b[39mend()\n\u001b[0;32m    339\u001b[0m     \u001b[38;5;28;01mif\u001b[39;00m end \u001b[38;5;241m!=\u001b[39m \u001b[38;5;28mlen\u001b[39m(s):\n",
      "File \u001b[1;32mc:\\Users\\salmank\\anaconda3\\envs\\pymc_env_5\\Lib\\json\\decoder.py:353\u001b[0m, in \u001b[0;36mJSONDecoder.raw_decode\u001b[1;34m(self, s, idx)\u001b[0m\n\u001b[0;32m    344\u001b[0m \u001b[38;5;250m\u001b[39m\u001b[38;5;124;03m\"\"\"Decode a JSON document from ``s`` (a ``str`` beginning with\u001b[39;00m\n\u001b[0;32m    345\u001b[0m \u001b[38;5;124;03ma JSON document) and return a 2-tuple of the Python\u001b[39;00m\n\u001b[0;32m    346\u001b[0m \u001b[38;5;124;03mrepresentation and the index in ``s`` where the document ended.\u001b[39;00m\n\u001b[1;32m   (...)\u001b[0m\n\u001b[0;32m    350\u001b[0m \n\u001b[0;32m    351\u001b[0m \u001b[38;5;124;03m\"\"\"\u001b[39;00m\n\u001b[0;32m    352\u001b[0m \u001b[38;5;28;01mtry\u001b[39;00m:\n\u001b[1;32m--> 353\u001b[0m     obj, end \u001b[38;5;241m=\u001b[39m \u001b[38;5;28;43mself\u001b[39;49m\u001b[38;5;241;43m.\u001b[39;49m\u001b[43mscan_once\u001b[49m\u001b[43m(\u001b[49m\u001b[43ms\u001b[49m\u001b[43m,\u001b[49m\u001b[43m \u001b[49m\u001b[43midx\u001b[49m\u001b[43m)\u001b[49m\n\u001b[0;32m    354\u001b[0m \u001b[38;5;28;01mexcept\u001b[39;00m \u001b[38;5;167;01mStopIteration\u001b[39;00m \u001b[38;5;28;01mas\u001b[39;00m err:\n\u001b[0;32m    355\u001b[0m     \u001b[38;5;28;01mraise\u001b[39;00m JSONDecodeError(\u001b[38;5;124m\"\u001b[39m\u001b[38;5;124mExpecting value\u001b[39m\u001b[38;5;124m\"\u001b[39m, s, err\u001b[38;5;241m.\u001b[39mvalue) \u001b[38;5;28;01mfrom\u001b[39;00m \u001b[38;5;28;01mNone\u001b[39;00m\n",
      "\u001b[1;31mJSONDecodeError\u001b[0m: Unterminated string starting at: line 20 column 15 (char 26958)"
     ]
    }
   ],
   "source": [
    "# Global lists\n",
    "global_entities = []\n",
    "global_entity_map = {}      # name/alias -> id\n",
    "global_relationships = []\n",
    "global_relation_types = set()  # unique relation types\n",
    "existing_rels = set()       # (source_id, relation_type, target_id) tuples\n",
    "entity_counter = 1\n",
    "\n",
    "# Load the response schema\n",
    "with open(\"response_schema.json\") as f:\n",
    "    response_schema = json.load(f)\n",
    "\n",
    "# Loop over each chunk\n",
    "for i, chunk in enumerate(chunks):\n",
    "    print(f\"Processing chunk {i+1}/{len(chunks)}\")\n",
    "\n",
    "    # Prepare global lists\n",
    "    entity_list_str = json.dumps({\"entities\": global_entities}, ensure_ascii=False)\n",
    "    relation_list_str = json.dumps(list(global_relation_types), ensure_ascii=False)\n",
    "\n",
    "    # Load prompt template\n",
    "    #prompt = open(\"prompt_template.txt\").read()\n",
    "    prompt = open(\"prompt_v2.txt\").read()\n",
    "    prompt = prompt.replace(\"{CHUNK}\", chunk)\n",
    "    prompt = prompt.replace(\"{ENTITYLIST}\", entity_list_str)\n",
    "    prompt = prompt.replace(\"{RELATIONLIST}\", relation_list_str)\n",
    "\n",
    "    # Call the LLM\n",
    "    response = co.chat(\n",
    "        model=\"command-a-03-2025\",\n",
    "        messages=[{\"role\": \"user\", \"content\": prompt}],\n",
    "        response_format={\n",
    "            \"type\": \"json_object\",\n",
    "            \"schema\": response_schema\n",
    "        }\n",
    "    )\n",
    "\n",
    "    # Parse model output\n",
    "    data = json.loads(response.dict()[\"message\"][\"content\"][0][\"text\"])\n",
    "    sleep(7)  # avoid rate limits\n",
    "\n",
    "    # 🔹 Merge entities\n",
    "    for ent in data[\"entities\"]:\n",
    "        key = ent[\"name\"].lower()\n",
    "        if key in global_entity_map:\n",
    "            ent[\"id\"] = global_entity_map[key]\n",
    "        else:\n",
    "            ent_id = f\"e{entity_counter}\"\n",
    "            ent[\"id\"] = ent_id\n",
    "            global_entity_map[key] = ent_id\n",
    "            global_entities.append(ent)\n",
    "            entity_counter += 1\n",
    "\n",
    "    # 🔹 Merge relationships (deduplicate and normalize)\n",
    "    for rel in data[\"relationships\"]:\n",
    "        src_id = global_entity_map.get(rel[\"source\"].lower(), rel[\"source\"])\n",
    "        tgt_id = global_entity_map.get(rel[\"target\"].lower(), rel[\"target\"])\n",
    "        rel_type = rel[\"relation\"].lower()\n",
    "\n",
    "        rel_key = (src_id, rel_type, tgt_id)\n",
    "        if rel_key not in existing_rels:\n",
    "            rel[\"source\"] = src_id\n",
    "            rel[\"target\"] = tgt_id\n",
    "            rel[\"relation\"] = rel_type\n",
    "            global_relationships.append(rel)\n",
    "            existing_rels.add(rel_key)\n",
    "            global_relation_types.add(rel_type)\n",
    "\n",
    "# 🔹 Final merged JSON\n",
    "final_output = {\n",
    "    \"entities\": global_entities,\n",
    "    \"relationships\": global_relationships\n",
    "}\n",
    "\n",
    "# Save or print\n",
    "print(json.dumps(final_output, indent=2, ensure_ascii=False))"
   ]
  },
  {
   "cell_type": "code",
   "execution_count": 24,
   "id": "c28f1d03",
   "metadata": {},
   "outputs": [],
   "source": [
    "#print(json.dumps(final_output, indent=2, ensure_ascii=False))\n",
    "#save to file\n",
    "with open(\"extracted.json\", \"w\", encoding=\"utf-8\") as f:\n",
    "    json.dump(final_output, f, indent=2, ensure_ascii=False)"
   ]
  },
  {
   "cell_type": "code",
   "execution_count": 25,
   "id": "6e9eaa1c",
   "metadata": {},
   "outputs": [],
   "source": [
    "# Load your extracted JSON\n",
    "with open(\"extracted.json\", \"r\") as f:\n",
    "    data = json.load(f)"
   ]
  },
  {
   "cell_type": "code",
   "execution_count": null,
   "id": "5209816c",
   "metadata": {},
   "outputs": [],
   "source": []
  },
  {
   "cell_type": "code",
   "execution_count": 27,
   "id": "94a93702",
   "metadata": {},
   "outputs": [
    {
     "name": "stdout",
     "output_type": "stream",
     "text": [
      "All nodes and relationships have been deleted.\n"
     ]
    }
   ],
   "source": [
    "delete_query = \"MATCH (n) DETACH DELETE n\"\n",
    "\n",
    "with driver.session() as session:\n",
    "    session.run(delete_query)\n",
    "\n",
    "print(\"All nodes and relationships have been deleted.\")"
   ]
  },
  {
   "cell_type": "code",
   "execution_count": 28,
   "id": "c62b77af",
   "metadata": {},
   "outputs": [],
   "source": [
    "# Create nodes with dynamic labels\n",
    "query_nodes = \"\"\"\n",
    "UNWIND $entities AS entity\n",
    "CALL apoc.merge.node([entity.type], {id: entity.id}, \n",
    "                     {name: entity.name, aliases: entity.aliases, span: entity.span}, \n",
    "                     {}) YIELD node\n",
    "RETURN node\n",
    "\"\"\"\n",
    "\n",
    "# Create relationships with dynamic types\n",
    "query_rels = \"\"\"\n",
    "UNWIND $relationships AS rel\n",
    "MATCH (src {id: rel.source})\n",
    "MATCH (tgt {id: rel.target})\n",
    "CALL apoc.merge.relationship(src, rel.relation, {}, {evidence: rel.evidence_span}, tgt) YIELD rel AS r\n",
    "RETURN r\n",
    "\"\"\"\n",
    "\n",
    "with driver.session() as session:\n",
    "    session.run(query_nodes, entities=data[\"entities\"])\n",
    "    session.run(query_rels, relationships=data[\"relationships\"])\n"
   ]
  },
  {
   "cell_type": "code",
   "execution_count": null,
   "id": "93047ad3",
   "metadata": {},
   "outputs": [],
   "source": []
  }
 ],
 "metadata": {
  "kernelspec": {
   "display_name": "pymc_env_5",
   "language": "python",
   "name": "python3"
  },
  "language_info": {
   "codemirror_mode": {
    "name": "ipython",
    "version": 3
   },
   "file_extension": ".py",
   "mimetype": "text/x-python",
   "name": "python",
   "nbconvert_exporter": "python",
   "pygments_lexer": "ipython3",
   "version": "3.11.8"
  }
 },
 "nbformat": 4,
 "nbformat_minor": 5
}
