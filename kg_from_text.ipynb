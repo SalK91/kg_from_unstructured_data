{
 "cells": [
  {
   "cell_type": "code",
   "execution_count": 1,
   "id": "bc7b3260",
   "metadata": {},
   "outputs": [],
   "source": [
    "!pip install wikipedia-api neo4j cohere  --quiet"
   ]
  },
  {
   "cell_type": "code",
   "execution_count": 2,
   "id": "0467cfc6",
   "metadata": {},
   "outputs": [],
   "source": [
    "from neo4j import GraphDatabase\n",
    "import re\n",
    "import os\n",
    "from dotenv import load_dotenv\n",
    "import cohere\n",
    "import requests\n",
    "from dotenv import load_dotenv\n",
    "import cohere\n",
    "from time import sleep\n",
    "import json\n",
    "from difflib import SequenceMatcher\n"
   ]
  },
  {
   "cell_type": "code",
   "execution_count": 3,
   "id": "05301520",
   "metadata": {},
   "outputs": [],
   "source": [
    "from myutils import fetch_raw_text, strip_gutenberg_header_footer, chunk_text, merge_entities, remap_relationships"
   ]
  },
  {
   "cell_type": "markdown",
   "id": "4a89f7ce",
   "metadata": {},
   "source": [
    "### LLM API and Neo4j DB connections"
   ]
  },
  {
   "cell_type": "code",
   "execution_count": 4,
   "id": "750068bd",
   "metadata": {},
   "outputs": [
    {
     "name": "stdout",
     "output_type": "stream",
     "text": [
      "Cohere key loaded: True\n",
      "Neo4j URI: bolt://44.200.207.55:7687\n",
      "Neo4j User: neo4j\n"
     ]
    }
   ],
   "source": [
    "# Load all keys from .env\n",
    "load_dotenv()\n",
    "\n",
    "# Access environment variables\n",
    "COHERE_API_KEY = os.getenv(\"COHERE_API_KEY\")\n",
    "NEO4J_URI = os.getenv(\"NEO4J_URI\")\n",
    "NEO4J_USER = os.getenv(\"NEO4J_USER\")\n",
    "NEO4J_PASSWORD = os.getenv(\"NEO4J_PASSWORD\")\n",
    "\n",
    "# Debug check (optional – don’t print secrets in real projects)\n",
    "print(\"Cohere key loaded:\", bool(COHERE_API_KEY))\n",
    "print(\"Neo4j URI:\", NEO4J_URI)\n",
    "print(\"Neo4j User:\", NEO4J_USER)"
   ]
  },
  {
   "cell_type": "code",
   "execution_count": 5,
   "id": "d29efc21",
   "metadata": {},
   "outputs": [
    {
     "name": "stdout",
     "output_type": "stream",
     "text": [
      "Connection test result: 1\n"
     ]
    }
   ],
   "source": [
    "driver = GraphDatabase.driver(NEO4J_URI, auth=(NEO4J_USER, NEO4J_PASSWORD))\n",
    "#check connection\n",
    "with driver.session() as session:\n",
    "    result = session.run(\"RETURN 1\")\n",
    "    print(\"Connection test result:\", result.single()[0])  # Should print 1 if successful"
   ]
  },
  {
   "cell_type": "markdown",
   "id": "8c34e130",
   "metadata": {},
   "source": [
    "### Fetch Data\n"
   ]
  },
  {
   "cell_type": "code",
   "execution_count": 6,
   "id": "60584fc6",
   "metadata": {},
   "outputs": [
    {
     "name": "stdout",
     "output_type": "stream",
     "text": [
      "Saved cleaned text -> data/sherlock_raw.txt\n"
     ]
    }
   ],
   "source": [
    "GUTENBERG_TXT_URL = \"https://www.gutenberg.org/cache/epub/244/pg244.txt\"  # A Study in Scarlet (id=244)\n",
    "#GUTENBERG_TXT_URL = \"https://www.gutenberg.org/cache/epub/18897/pg18897.txt\"  # The Epic of Gilgamish (Langdon, id=18897)\n",
    "#GUTENBERG_TXT_URL = \"https://www.gutenberg.org/cache/epub/11000/pg11000.txt\"  # An Old Babylonian Version of the Gilgamesh Epic (Jastrow & Clay, id=11000)\n",
    "\n",
    "raw = fetch_raw_text(GUTENBERG_TXT_URL)\n",
    "core = strip_gutenberg_header_footer(raw)\n",
    "\n",
    "with open(\"data/sherlock_raw.txt\", \"w\", encoding=\"utf-8\") as f:\n",
    "    f.write(core)\n",
    "print(\"Saved cleaned text -> data/sherlock_raw.txt\")"
   ]
  },
  {
   "cell_type": "code",
   "execution_count": 10,
   "id": "bd2502a6",
   "metadata": {},
   "outputs": [
    {
     "name": "stdout",
     "output_type": "stream",
     "text": [
      "Chunks: 61\n"
     ]
    }
   ],
   "source": [
    "# Chunk Data\n",
    "text = open(\"data/sherlock_raw.txt\", encoding=\"utf-8\").read()\n",
    "\n",
    "# Clean text\n",
    "# remove /n with .\n",
    "text = text.replace(\"\\n\", \" \").replace(\"\\r\", \" \").replace(\"  \", \" \")\n",
    "# start text from CHAPTER I. MR. SHERLOCK HOLMES. to avoid preface\n",
    "start_idx = text.find(\"In the year 1878 I took my degree of Doctor of Medicine of the\")\n",
    "text = text[start_idx:]\n",
    "\n",
    "\n",
    "chunks = chunk_text(text, max_chars=4000, overlap=1000)\n",
    "print(f\"Chunks: {len(chunks)}\")"
   ]
  },
  {
   "cell_type": "markdown",
   "id": "2abfd8b1",
   "metadata": {},
   "source": [
    "### Call LLM on each chunk to identify nodes and relationship"
   ]
  },
  {
   "cell_type": "code",
   "execution_count": 11,
   "id": "43ccf5e9",
   "metadata": {},
   "outputs": [],
   "source": [
    "co = cohere.ClientV2(COHERE_API_KEY, log_warning_experimental_features=False)"
   ]
  },
  {
   "cell_type": "code",
   "execution_count": 12,
   "id": "ebf3c02a",
   "metadata": {},
   "outputs": [
    {
     "name": "stdout",
     "output_type": "stream",
     "text": [
      "Processing chunk 1/61\n",
      "Processing chunk 2/61\n",
      "Processing chunk 3/61\n",
      "Processing chunk 4/61\n",
      "Processing chunk 5/61\n",
      "Processing chunk 6/61\n",
      "Processing chunk 7/61\n",
      "Processing chunk 8/61\n",
      "Processing chunk 9/61\n",
      "Processing chunk 10/61\n",
      "Processing chunk 11/61\n",
      "Processing chunk 12/61\n",
      "Processing chunk 13/61\n",
      "Processing chunk 14/61\n",
      "Processing chunk 15/61\n",
      "Processing chunk 16/61\n",
      "Processing chunk 17/61\n",
      "Processing chunk 18/61\n",
      "Processing chunk 19/61\n",
      "Processing chunk 20/61\n",
      "Processing chunk 21/61\n",
      "Processing chunk 22/61\n",
      "Processing chunk 23/61\n",
      "Processing chunk 24/61\n",
      "Processing chunk 25/61\n",
      "Processing chunk 26/61\n",
      "Processing chunk 27/61\n",
      "Processing chunk 28/61\n",
      "Processing chunk 29/61\n",
      "Processing chunk 30/61\n",
      "Processing chunk 31/61\n",
      "Processing chunk 32/61\n",
      "Processing chunk 33/61\n",
      "Processing chunk 34/61\n",
      "Processing chunk 35/61\n",
      "Processing chunk 36/61\n",
      "Processing chunk 37/61\n",
      "Processing chunk 38/61\n",
      "Processing chunk 39/61\n",
      "Processing chunk 40/61\n",
      "Processing chunk 41/61\n",
      "Processing chunk 42/61\n",
      "Processing chunk 43/61\n",
      "Processing chunk 44/61\n",
      "Processing chunk 45/61\n",
      "Processing chunk 46/61\n",
      "Processing chunk 47/61\n",
      "Processing chunk 48/61\n",
      "Processing chunk 49/61\n",
      "Processing chunk 50/61\n",
      "Processing chunk 51/61\n",
      "Processing chunk 52/61\n",
      "Processing chunk 53/61\n",
      "Processing chunk 54/61\n",
      "Processing chunk 55/61\n",
      "Processing chunk 56/61\n"
     ]
    },
    {
     "ename": "TooManyRequestsError",
     "evalue": "headers: {'access-control-expose-headers': 'X-Debug-Trace-ID', 'cache-control': 'no-cache, no-store, no-transform, must-revalidate, private, max-age=0', 'content-type': 'application/json', 'expires': 'Thu, 01 Jan 1970 00:00:00 GMT', 'pragma': 'no-cache', 'vary': 'Origin', 'x-accel-expires': '0', 'x-debug-trace-id': 'e7f70a52aabe9e4bcffa212d3de73520', 'x-trial-endpoint-call-limit': '10', 'x-trial-endpoint-call-remaining': '6', 'date': 'Tue, 26 Aug 2025 22:35:35 GMT', 'content-length': '373', 'x-envoy-upstream-service-time': '8', 'server': 'envoy', 'via': '1.1 google', 'alt-svc': 'h3=\":443\"; ma=2592000,h3-29=\":443\"; ma=2592000'}, status_code: 429, body: {'id': '8e6e8dde-e399-41ee-8054-b1fd46654a05', 'message': \"You are using a Trial key, which is limited to 1000 API calls / month. You can continue to use the Trial key for free or upgrade to a Production key with higher rate limits at 'https://dashboard.cohere.com/api-keys'. Contact us on 'https://discord.gg/XW44jPfYJu' or email us at support@cohere.com with any questions\"}",
     "output_type": "error",
     "traceback": [
      "\u001b[1;31m---------------------------------------------------------------------------\u001b[0m",
      "\u001b[1;31mTooManyRequestsError\u001b[0m                      Traceback (most recent call last)",
      "Cell \u001b[1;32mIn[12], line 29\u001b[0m\n\u001b[0;32m     26\u001b[0m prompt \u001b[38;5;241m=\u001b[39m prompt\u001b[38;5;241m.\u001b[39mreplace(\u001b[38;5;124m\"\u001b[39m\u001b[38;5;132;01m{RELATIONLIST}\u001b[39;00m\u001b[38;5;124m\"\u001b[39m, relation_list_str)\n\u001b[0;32m     28\u001b[0m \u001b[38;5;66;03m# Call the LLM\u001b[39;00m\n\u001b[1;32m---> 29\u001b[0m response \u001b[38;5;241m=\u001b[39m \u001b[43mco\u001b[49m\u001b[38;5;241;43m.\u001b[39;49m\u001b[43mchat\u001b[49m\u001b[43m(\u001b[49m\n\u001b[0;32m     30\u001b[0m \u001b[43m    \u001b[49m\u001b[43mmodel\u001b[49m\u001b[38;5;241;43m=\u001b[39;49m\u001b[38;5;124;43m\"\u001b[39;49m\u001b[38;5;124;43mcommand-a-03-2025\u001b[39;49m\u001b[38;5;124;43m\"\u001b[39;49m\u001b[43m,\u001b[49m\n\u001b[0;32m     31\u001b[0m \u001b[43m    \u001b[49m\u001b[43mmessages\u001b[49m\u001b[38;5;241;43m=\u001b[39;49m\u001b[43m[\u001b[49m\u001b[43m{\u001b[49m\u001b[38;5;124;43m\"\u001b[39;49m\u001b[38;5;124;43mrole\u001b[39;49m\u001b[38;5;124;43m\"\u001b[39;49m\u001b[43m:\u001b[49m\u001b[43m \u001b[49m\u001b[38;5;124;43m\"\u001b[39;49m\u001b[38;5;124;43muser\u001b[39;49m\u001b[38;5;124;43m\"\u001b[39;49m\u001b[43m,\u001b[49m\u001b[43m \u001b[49m\u001b[38;5;124;43m\"\u001b[39;49m\u001b[38;5;124;43mcontent\u001b[39;49m\u001b[38;5;124;43m\"\u001b[39;49m\u001b[43m:\u001b[49m\u001b[43m \u001b[49m\u001b[43mprompt\u001b[49m\u001b[43m}\u001b[49m\u001b[43m]\u001b[49m\u001b[43m,\u001b[49m\n\u001b[0;32m     32\u001b[0m \u001b[43m    \u001b[49m\u001b[43mresponse_format\u001b[49m\u001b[38;5;241;43m=\u001b[39;49m\u001b[43m{\u001b[49m\n\u001b[0;32m     33\u001b[0m \u001b[43m        \u001b[49m\u001b[38;5;124;43m\"\u001b[39;49m\u001b[38;5;124;43mtype\u001b[39;49m\u001b[38;5;124;43m\"\u001b[39;49m\u001b[43m:\u001b[49m\u001b[43m \u001b[49m\u001b[38;5;124;43m\"\u001b[39;49m\u001b[38;5;124;43mjson_object\u001b[39;49m\u001b[38;5;124;43m\"\u001b[39;49m\u001b[43m,\u001b[49m\n\u001b[0;32m     34\u001b[0m \u001b[43m        \u001b[49m\u001b[38;5;124;43m\"\u001b[39;49m\u001b[38;5;124;43mschema\u001b[39;49m\u001b[38;5;124;43m\"\u001b[39;49m\u001b[43m:\u001b[49m\u001b[43m \u001b[49m\u001b[43mresponse_schema\u001b[49m\n\u001b[0;32m     35\u001b[0m \u001b[43m    \u001b[49m\u001b[43m}\u001b[49m\n\u001b[0;32m     36\u001b[0m \u001b[43m\u001b[49m\u001b[43m)\u001b[49m\n\u001b[0;32m     38\u001b[0m \u001b[38;5;66;03m# Parse model output\u001b[39;00m\n\u001b[0;32m     39\u001b[0m data \u001b[38;5;241m=\u001b[39m json\u001b[38;5;241m.\u001b[39mloads(response\u001b[38;5;241m.\u001b[39mdict()[\u001b[38;5;124m\"\u001b[39m\u001b[38;5;124mmessage\u001b[39m\u001b[38;5;124m\"\u001b[39m][\u001b[38;5;124m\"\u001b[39m\u001b[38;5;124mcontent\u001b[39m\u001b[38;5;124m\"\u001b[39m][\u001b[38;5;241m0\u001b[39m][\u001b[38;5;124m\"\u001b[39m\u001b[38;5;124mtext\u001b[39m\u001b[38;5;124m\"\u001b[39m])\n",
      "File \u001b[1;32mc:\\Users\\salmank\\anaconda3\\envs\\pymc_env_5\\Lib\\site-packages\\cohere\\client.py:35\u001b[0m, in \u001b[0;36mvalidate_args.<locals>._wrapped\u001b[1;34m(*args, **kwargs)\u001b[0m\n\u001b[0;32m     33\u001b[0m \u001b[38;5;28;01mdef\u001b[39;00m \u001b[38;5;21m_wrapped\u001b[39m(\u001b[38;5;241m*\u001b[39margs: typing\u001b[38;5;241m.\u001b[39mAny, \u001b[38;5;241m*\u001b[39m\u001b[38;5;241m*\u001b[39mkwargs: typing\u001b[38;5;241m.\u001b[39mAny) \u001b[38;5;241m-\u001b[39m\u001b[38;5;241m>\u001b[39m typing\u001b[38;5;241m.\u001b[39mAny:\n\u001b[0;32m     34\u001b[0m     check_fn(\u001b[38;5;241m*\u001b[39margs, \u001b[38;5;241m*\u001b[39m\u001b[38;5;241m*\u001b[39mkwargs)\n\u001b[1;32m---> 35\u001b[0m     \u001b[38;5;28;01mreturn\u001b[39;00m \u001b[43mmethod\u001b[49m\u001b[43m(\u001b[49m\u001b[38;5;241;43m*\u001b[39;49m\u001b[43margs\u001b[49m\u001b[43m,\u001b[49m\u001b[43m \u001b[49m\u001b[38;5;241;43m*\u001b[39;49m\u001b[38;5;241;43m*\u001b[39;49m\u001b[43mkwargs\u001b[49m\u001b[43m)\u001b[49m\n",
      "File \u001b[1;32mc:\\Users\\salmank\\anaconda3\\envs\\pymc_env_5\\Lib\\site-packages\\cohere\\v2\\client.py:366\u001b[0m, in \u001b[0;36mV2Client.chat\u001b[1;34m(self, model, messages, tools, strict_tools, documents, citation_options, response_format, safety_mode, max_tokens, stop_sequences, temperature, seed, frequency_penalty, presence_penalty, k, p, logprobs, tool_choice, thinking, raw_prompting, request_options)\u001b[0m\n\u001b[0;32m    220\u001b[0m \u001b[38;5;28;01mdef\u001b[39;00m \u001b[38;5;21mchat\u001b[39m(\n\u001b[0;32m    221\u001b[0m     \u001b[38;5;28mself\u001b[39m,\n\u001b[0;32m    222\u001b[0m     \u001b[38;5;241m*\u001b[39m,\n\u001b[1;32m   (...)\u001b[0m\n\u001b[0;32m    243\u001b[0m     request_options: typing\u001b[38;5;241m.\u001b[39mOptional[RequestOptions] \u001b[38;5;241m=\u001b[39m \u001b[38;5;28;01mNone\u001b[39;00m,\n\u001b[0;32m    244\u001b[0m ) \u001b[38;5;241m-\u001b[39m\u001b[38;5;241m>\u001b[39m V2ChatResponse:\n\u001b[0;32m    245\u001b[0m \u001b[38;5;250m    \u001b[39m\u001b[38;5;124;03m\"\"\"\u001b[39;00m\n\u001b[0;32m    246\u001b[0m \u001b[38;5;124;03m    Generates a text response to a user message and streams it down, token by token. To learn how to use the Chat API with streaming follow our [Text Generation guides](https://docs.cohere.com/v2/docs/chat-api).\u001b[39;00m\n\u001b[0;32m    247\u001b[0m \n\u001b[1;32m   (...)\u001b[0m\n\u001b[0;32m    364\u001b[0m \u001b[38;5;124;03m    )\u001b[39;00m\n\u001b[0;32m    365\u001b[0m \u001b[38;5;124;03m    \"\"\"\u001b[39;00m\n\u001b[1;32m--> 366\u001b[0m     _response \u001b[38;5;241m=\u001b[39m \u001b[38;5;28;43mself\u001b[39;49m\u001b[38;5;241;43m.\u001b[39;49m\u001b[43m_raw_client\u001b[49m\u001b[38;5;241;43m.\u001b[39;49m\u001b[43mchat\u001b[49m\u001b[43m(\u001b[49m\n\u001b[0;32m    367\u001b[0m \u001b[43m        \u001b[49m\u001b[43mmodel\u001b[49m\u001b[38;5;241;43m=\u001b[39;49m\u001b[43mmodel\u001b[49m\u001b[43m,\u001b[49m\n\u001b[0;32m    368\u001b[0m \u001b[43m        \u001b[49m\u001b[43mmessages\u001b[49m\u001b[38;5;241;43m=\u001b[39;49m\u001b[43mmessages\u001b[49m\u001b[43m,\u001b[49m\n\u001b[0;32m    369\u001b[0m \u001b[43m        \u001b[49m\u001b[43mtools\u001b[49m\u001b[38;5;241;43m=\u001b[39;49m\u001b[43mtools\u001b[49m\u001b[43m,\u001b[49m\n\u001b[0;32m    370\u001b[0m \u001b[43m        \u001b[49m\u001b[43mstrict_tools\u001b[49m\u001b[38;5;241;43m=\u001b[39;49m\u001b[43mstrict_tools\u001b[49m\u001b[43m,\u001b[49m\n\u001b[0;32m    371\u001b[0m \u001b[43m        \u001b[49m\u001b[43mdocuments\u001b[49m\u001b[38;5;241;43m=\u001b[39;49m\u001b[43mdocuments\u001b[49m\u001b[43m,\u001b[49m\n\u001b[0;32m    372\u001b[0m \u001b[43m        \u001b[49m\u001b[43mcitation_options\u001b[49m\u001b[38;5;241;43m=\u001b[39;49m\u001b[43mcitation_options\u001b[49m\u001b[43m,\u001b[49m\n\u001b[0;32m    373\u001b[0m \u001b[43m        \u001b[49m\u001b[43mresponse_format\u001b[49m\u001b[38;5;241;43m=\u001b[39;49m\u001b[43mresponse_format\u001b[49m\u001b[43m,\u001b[49m\n\u001b[0;32m    374\u001b[0m \u001b[43m        \u001b[49m\u001b[43msafety_mode\u001b[49m\u001b[38;5;241;43m=\u001b[39;49m\u001b[43msafety_mode\u001b[49m\u001b[43m,\u001b[49m\n\u001b[0;32m    375\u001b[0m \u001b[43m        \u001b[49m\u001b[43mmax_tokens\u001b[49m\u001b[38;5;241;43m=\u001b[39;49m\u001b[43mmax_tokens\u001b[49m\u001b[43m,\u001b[49m\n\u001b[0;32m    376\u001b[0m \u001b[43m        \u001b[49m\u001b[43mstop_sequences\u001b[49m\u001b[38;5;241;43m=\u001b[39;49m\u001b[43mstop_sequences\u001b[49m\u001b[43m,\u001b[49m\n\u001b[0;32m    377\u001b[0m \u001b[43m        \u001b[49m\u001b[43mtemperature\u001b[49m\u001b[38;5;241;43m=\u001b[39;49m\u001b[43mtemperature\u001b[49m\u001b[43m,\u001b[49m\n\u001b[0;32m    378\u001b[0m \u001b[43m        \u001b[49m\u001b[43mseed\u001b[49m\u001b[38;5;241;43m=\u001b[39;49m\u001b[43mseed\u001b[49m\u001b[43m,\u001b[49m\n\u001b[0;32m    379\u001b[0m \u001b[43m        \u001b[49m\u001b[43mfrequency_penalty\u001b[49m\u001b[38;5;241;43m=\u001b[39;49m\u001b[43mfrequency_penalty\u001b[49m\u001b[43m,\u001b[49m\n\u001b[0;32m    380\u001b[0m \u001b[43m        \u001b[49m\u001b[43mpresence_penalty\u001b[49m\u001b[38;5;241;43m=\u001b[39;49m\u001b[43mpresence_penalty\u001b[49m\u001b[43m,\u001b[49m\n\u001b[0;32m    381\u001b[0m \u001b[43m        \u001b[49m\u001b[43mk\u001b[49m\u001b[38;5;241;43m=\u001b[39;49m\u001b[43mk\u001b[49m\u001b[43m,\u001b[49m\n\u001b[0;32m    382\u001b[0m \u001b[43m        \u001b[49m\u001b[43mp\u001b[49m\u001b[38;5;241;43m=\u001b[39;49m\u001b[43mp\u001b[49m\u001b[43m,\u001b[49m\n\u001b[0;32m    383\u001b[0m \u001b[43m        \u001b[49m\u001b[43mlogprobs\u001b[49m\u001b[38;5;241;43m=\u001b[39;49m\u001b[43mlogprobs\u001b[49m\u001b[43m,\u001b[49m\n\u001b[0;32m    384\u001b[0m \u001b[43m        \u001b[49m\u001b[43mtool_choice\u001b[49m\u001b[38;5;241;43m=\u001b[39;49m\u001b[43mtool_choice\u001b[49m\u001b[43m,\u001b[49m\n\u001b[0;32m    385\u001b[0m \u001b[43m        \u001b[49m\u001b[43mthinking\u001b[49m\u001b[38;5;241;43m=\u001b[39;49m\u001b[43mthinking\u001b[49m\u001b[43m,\u001b[49m\n\u001b[0;32m    386\u001b[0m \u001b[43m        \u001b[49m\u001b[43mraw_prompting\u001b[49m\u001b[38;5;241;43m=\u001b[39;49m\u001b[43mraw_prompting\u001b[49m\u001b[43m,\u001b[49m\n\u001b[0;32m    387\u001b[0m \u001b[43m        \u001b[49m\u001b[43mrequest_options\u001b[49m\u001b[38;5;241;43m=\u001b[39;49m\u001b[43mrequest_options\u001b[49m\u001b[43m,\u001b[49m\n\u001b[0;32m    388\u001b[0m \u001b[43m    \u001b[49m\u001b[43m)\u001b[49m\n\u001b[0;32m    389\u001b[0m     \u001b[38;5;28;01mreturn\u001b[39;00m _response\u001b[38;5;241m.\u001b[39mdata\n",
      "File \u001b[1;32mc:\\Users\\salmank\\anaconda3\\envs\\pymc_env_5\\Lib\\site-packages\\cohere\\v2\\raw_client.py:633\u001b[0m, in \u001b[0;36mRawV2Client.chat\u001b[1;34m(self, model, messages, tools, strict_tools, documents, citation_options, response_format, safety_mode, max_tokens, stop_sequences, temperature, seed, frequency_penalty, presence_penalty, k, p, logprobs, tool_choice, thinking, raw_prompting, request_options)\u001b[0m\n\u001b[0;32m    622\u001b[0m     \u001b[38;5;28;01mraise\u001b[39;00m UnprocessableEntityError(\n\u001b[0;32m    623\u001b[0m         headers\u001b[38;5;241m=\u001b[39m\u001b[38;5;28mdict\u001b[39m(_response\u001b[38;5;241m.\u001b[39mheaders),\n\u001b[0;32m    624\u001b[0m         body\u001b[38;5;241m=\u001b[39mtyping\u001b[38;5;241m.\u001b[39mcast(\n\u001b[1;32m   (...)\u001b[0m\n\u001b[0;32m    630\u001b[0m         ),\n\u001b[0;32m    631\u001b[0m     )\n\u001b[0;32m    632\u001b[0m \u001b[38;5;28;01mif\u001b[39;00m _response\u001b[38;5;241m.\u001b[39mstatus_code \u001b[38;5;241m==\u001b[39m \u001b[38;5;241m429\u001b[39m:\n\u001b[1;32m--> 633\u001b[0m     \u001b[38;5;28;01mraise\u001b[39;00m TooManyRequestsError(\n\u001b[0;32m    634\u001b[0m         headers\u001b[38;5;241m=\u001b[39m\u001b[38;5;28mdict\u001b[39m(_response\u001b[38;5;241m.\u001b[39mheaders),\n\u001b[0;32m    635\u001b[0m         body\u001b[38;5;241m=\u001b[39mtyping\u001b[38;5;241m.\u001b[39mcast(\n\u001b[0;32m    636\u001b[0m             typing\u001b[38;5;241m.\u001b[39mOptional[typing\u001b[38;5;241m.\u001b[39mAny],\n\u001b[0;32m    637\u001b[0m             construct_type(\n\u001b[0;32m    638\u001b[0m                 type_\u001b[38;5;241m=\u001b[39mtyping\u001b[38;5;241m.\u001b[39mOptional[typing\u001b[38;5;241m.\u001b[39mAny],  \u001b[38;5;66;03m# type: ignore\u001b[39;00m\n\u001b[0;32m    639\u001b[0m                 object_\u001b[38;5;241m=\u001b[39m_response\u001b[38;5;241m.\u001b[39mjson(),\n\u001b[0;32m    640\u001b[0m             ),\n\u001b[0;32m    641\u001b[0m         ),\n\u001b[0;32m    642\u001b[0m     )\n\u001b[0;32m    643\u001b[0m \u001b[38;5;28;01mif\u001b[39;00m _response\u001b[38;5;241m.\u001b[39mstatus_code \u001b[38;5;241m==\u001b[39m \u001b[38;5;241m498\u001b[39m:\n\u001b[0;32m    644\u001b[0m     \u001b[38;5;28;01mraise\u001b[39;00m InvalidTokenError(\n\u001b[0;32m    645\u001b[0m         headers\u001b[38;5;241m=\u001b[39m\u001b[38;5;28mdict\u001b[39m(_response\u001b[38;5;241m.\u001b[39mheaders),\n\u001b[0;32m    646\u001b[0m         body\u001b[38;5;241m=\u001b[39mtyping\u001b[38;5;241m.\u001b[39mcast(\n\u001b[1;32m   (...)\u001b[0m\n\u001b[0;32m    652\u001b[0m         ),\n\u001b[0;32m    653\u001b[0m     )\n",
      "\u001b[1;31mTooManyRequestsError\u001b[0m: headers: {'access-control-expose-headers': 'X-Debug-Trace-ID', 'cache-control': 'no-cache, no-store, no-transform, must-revalidate, private, max-age=0', 'content-type': 'application/json', 'expires': 'Thu, 01 Jan 1970 00:00:00 GMT', 'pragma': 'no-cache', 'vary': 'Origin', 'x-accel-expires': '0', 'x-debug-trace-id': 'e7f70a52aabe9e4bcffa212d3de73520', 'x-trial-endpoint-call-limit': '10', 'x-trial-endpoint-call-remaining': '6', 'date': 'Tue, 26 Aug 2025 22:35:35 GMT', 'content-length': '373', 'x-envoy-upstream-service-time': '8', 'server': 'envoy', 'via': '1.1 google', 'alt-svc': 'h3=\":443\"; ma=2592000,h3-29=\":443\"; ma=2592000'}, status_code: 429, body: {'id': '8e6e8dde-e399-41ee-8054-b1fd46654a05', 'message': \"You are using a Trial key, which is limited to 1000 API calls / month. You can continue to use the Trial key for free or upgrade to a Production key with higher rate limits at 'https://dashboard.cohere.com/api-keys'. Contact us on 'https://discord.gg/XW44jPfYJu' or email us at support@cohere.com with any questions\"}"
     ]
    }
   ],
   "source": [
    "# Global lists\n",
    "global_entities = []\n",
    "global_entity_map = {}      # name/alias -> id\n",
    "global_relationships = []\n",
    "global_relation_types = set()  # unique relation types\n",
    "existing_rels = set()       # (source_id, relation_type, target_id) tuples\n",
    "entity_counter = 1\n",
    "\n",
    "# Load the response schema\n",
    "with open(\"response_schema.json\") as f:\n",
    "    response_schema = json.load(f)\n",
    "\n",
    "# Loop over each chunk\n",
    "for i, chunk in enumerate(chunks):\n",
    "    print(f\"Processing chunk {i+1}/{len(chunks)}\")\n",
    "\n",
    "    # Prepare global lists\n",
    "    entity_list_str = json.dumps({\"entities\": global_entities}, ensure_ascii=False)\n",
    "    relation_list_str = json.dumps(list(global_relation_types), ensure_ascii=False)\n",
    "\n",
    "    # Load prompt template\n",
    "    prompt = open(\"prompt_template.txt\").read()\n",
    "    #prompt = open(\"prompt_v2.txt\").read()\n",
    "    prompt = prompt.replace(\"{CHUNK}\", chunk)\n",
    "    prompt = prompt.replace(\"{ENTITYLIST}\", entity_list_str)\n",
    "    prompt = prompt.replace(\"{RELATIONLIST}\", relation_list_str)\n",
    "\n",
    "    # Call the LLM\n",
    "    response = co.chat(\n",
    "        model=\"command-a-03-2025\",\n",
    "        messages=[{\"role\": \"user\", \"content\": prompt}],\n",
    "        response_format={\n",
    "            \"type\": \"json_object\",\n",
    "            \"schema\": response_schema\n",
    "        }\n",
    "    )\n",
    "\n",
    "    # Parse model output\n",
    "    data = json.loads(response.dict()[\"message\"][\"content\"][0][\"text\"])\n",
    "    sleep(8)  # avoid rate limits\n",
    "\n",
    "    # 🔹 Merge entities\n",
    "    for ent in data[\"entities\"]:\n",
    "        key = ent[\"name\"].lower()\n",
    "        if key in global_entity_map:\n",
    "            ent[\"id\"] = global_entity_map[key]\n",
    "        else:\n",
    "            ent_id = f\"e{entity_counter}\"\n",
    "            ent[\"id\"] = ent_id\n",
    "            global_entity_map[key] = ent_id\n",
    "            global_entities.append(ent)\n",
    "            entity_counter += 1\n",
    "\n",
    "    # 🔹 Merge relationships (deduplicate and normalize)\n",
    "    for rel in data[\"relationships\"]:\n",
    "        src_id = global_entity_map.get(rel[\"source\"].lower(), rel[\"source\"])\n",
    "        tgt_id = global_entity_map.get(rel[\"target\"].lower(), rel[\"target\"])\n",
    "        rel_type = rel[\"relation\"].lower()\n",
    "\n",
    "        rel_key = (src_id, rel_type, tgt_id)\n",
    "        if rel_key not in existing_rels:\n",
    "            rel[\"source\"] = src_id\n",
    "            rel[\"target\"] = tgt_id\n",
    "            rel[\"relation\"] = rel_type\n",
    "            global_relationships.append(rel)\n",
    "            existing_rels.add(rel_key)\n",
    "            global_relation_types.add(rel_type)\n",
    "\n",
    "\n"
   ]
  },
  {
   "cell_type": "code",
   "execution_count": 16,
   "id": "54b2e0c1",
   "metadata": {},
   "outputs": [
    {
     "name": "stdout",
     "output_type": "stream",
     "text": [
      "[Cleanup] Removed 10 unused entities\n",
      " - Afghanistan (e6)\n",
      " - Barts (e17)\n",
      " - Criterion Bar (e20)\n",
      " - Mason of Bradford (e27)\n",
      " - Lefevre of Montpellier (e29)\n",
      " - Ohio (e44)\n",
      " - Wedding Ring (e67)\n",
      " - Wiggins (e96)\n",
      " - Palmyra (e139)\n",
      " - Young (e147)\n",
      "[Cleanup] Removed 18 invalid relationships\n",
      " - {'source': 'e186', 'relation': 'works_as', 'target': 'e200', 'evidence_span': 'Driving and riding are as natural to me as walking, so I applied at a cabowner’s office, and soon got employment.'}\n",
      " - {'source': 'e190', 'relation': 'travels_to', 'target': 'e200', 'evidence_span': 'to St. Petersburg'}\n",
      " - {'source': 'e189', 'relation': 'apprehended_by', 'target': 'e202', 'evidence_span': 'the next thing I knew, this young man here had the bracelets on my wrists'}\n",
      " - {'source': 'e189', 'relation': 'intends_to_travel_to', 'target': 'e200', 'evidence_span': 'I was about done up. I went on cabbing it for a day or so, intending to keep at it until I could save enough to take me back to America.'}\n",
      " - {'source': 'e189', 'relation': 'meets_at', 'target': 'e201', 'evidence_span': 'his cab was wanted by a gentleman at 221B, Baker Street.'}\n",
      " - {'source': 'e202', 'relation': 'interrogated_by', 'target': 'e189', 'evidence_span': 'So thrilling had the man’s narrative been, and his manner was so impressive that we had sat silent and absorbed.'}\n",
      " - {'source': 'e203', 'relation': 'apprehends', 'target': 'e189', 'evidence_span': 'Until then I will be responsible for him.'}\n",
      " - {'source': 'e192', 'relation': 'possesses', 'target': 'e207', 'evidence_span': 'I had driven some distance when I put my hand into the pocket in which I usually kept Lucy’s ring, and found that it was not there.'}\n",
      " - {'source': 'e192', 'relation': 'dies_from', 'target': 'e205', 'evidence_span': 'On the very night after his capture the aneurism burst, and he was found in the morning stretched upon the floor of the cell.'}\n",
      " - {'source': 'e198', 'relation': 'discovers', 'target': 'e210', 'evidence_span': 'I saw the heavy footmarks of the constables, but I saw also the track of the two men who had first passed through the garden.'}\n",
      " - {'source': 'e199', 'relation': 'friend_of', 'target': 'e200', 'evidence_span': 'Holmes remarked, as we chatted it over next evening.'}\n",
      " - {'source': 'e196', 'relation': 'kills', 'target': 'e201', 'evidence_span': 'I had already come to the conclusion, since there were no signs of a struggle, that the blood which covered the floor had burst from the murderer’s nose in his excitement.'}\n",
      " - {'source': 'e196', 'relation': 'kills', 'target': 'e202', 'evidence_span': 'The murder of Stangerson was an incident which was entirely unexpected'}\n",
      " - {'source': 'e201', 'relation': 'lives_in', 'target': 'e203', 'evidence_span': 'telegram to Cleveland as to any particular point in Mr. Drebber’s former career'}\n",
      " - {'source': 'e199', 'relation': 'investigates', 'target': 'e201', 'evidence_span': 'I had already come to the conclusion, since there were no signs of a struggle, that the blood which covered the floor had burst from the murderer’s nose in his excitement.'}\n",
      " - {'source': 'e199', 'relation': 'investigates', 'target': 'e202', 'evidence_span': 'The murder of Stangerson was an incident which was entirely unexpected'}\n",
      " - {'source': 'e196', 'relation': 'found_at', 'target': 'e207', 'evidence_span': 'this same Hope was at present in Europe'}\n",
      " - {'source': 'e199', 'relation': 'mentions', 'target': 'e208', 'evidence_span': 'It was the _Echo_ for the day, and the paragraph to which he pointed was devoted to the case in question.'}\n"
     ]
    }
   ],
   "source": [
    "# Remove relationships with missing entities\n",
    "# --- Step 1: Remove invalid relationships ---\n",
    "valid_ids = {e[\"id\"] for e in global_entities}\n",
    "\n",
    "filtered_relationships = [\n",
    "    rel for rel in global_relationships\n",
    "    if rel[\"source\"] in valid_ids and rel[\"target\"] in valid_ids\n",
    "]\n",
    "\n",
    "# --- Step 2: Remove unused entities ---\n",
    "# Collect all IDs that appear in valid relationships\n",
    "used_ids = {rel[\"source\"] for rel in filtered_relationships} | {rel[\"target\"] for rel in filtered_relationships}\n",
    "\n",
    "filtered_entities = [ent for ent in global_entities if ent[\"id\"] in used_ids]\n",
    "\n",
    "# --- Debug ---\n",
    "removed_entities = [ent for ent in global_entities if ent[\"id\"] not in used_ids]\n",
    "print(f\"[Cleanup] Removed {len(removed_entities)} unused entities\")\n",
    "for e in removed_entities:\n",
    "    print(\" -\", e[\"name\"], f\"({e['id']})\")\n",
    "\n",
    "removed_rels = [\n",
    "    rel for rel in global_relationships\n",
    "    if rel not in filtered_relationships\n",
    "]\n",
    "print(f\"[Cleanup] Removed {len(removed_rels)} invalid relationships\")\n",
    "for r in removed_rels:\n",
    "    print(\" -\", r)\n"
   ]
  },
  {
   "cell_type": "code",
   "execution_count": null,
   "id": "0eed0214",
   "metadata": {},
   "outputs": [
    {
     "name": "stdout",
     "output_type": "stream",
     "text": [
      "[Entity Resolution] Merged 'Holborn Restaurant' -> 'Holborn' (sim=0.56)\n",
      "[Entity Resolution] Merged 'Rachel' -> 'RACHE' (sim=0.91)\n",
      "[Entity Resolution] Merged 'Dr. Watson' -> 'Dr Watson' (sim=0.95)\n",
      "[Entity Resolution] Merged 'Enoch Drebber' -> 'Enoch J. Drebber' (sim=0.90)\n"
     ]
    }
   ],
   "source": [
    "# --- Final entity resolution ---\n",
    "canonical_entities, resolved_map = merge_entities(filtered_entities, log_merges=True)\n",
    "resolved_relationships = remap_relationships(filtered_relationships, resolved_map)"
   ]
  },
  {
   "cell_type": "code",
   "execution_count": 21,
   "id": "a38cb8e2",
   "metadata": {},
   "outputs": [
    {
     "name": "stdout",
     "output_type": "stream",
     "text": [
      "\n",
      "✅ Final KG saved to final_output.json\n"
     ]
    }
   ],
   "source": [
    "#  Final merged JSON\n",
    "final_output = {\n",
    "    \"entities\": filtered_entities,\n",
    "    \"relationships\": filtered_relationships\n",
    "}\n",
    "\n",
    "# Save\n",
    "with open(\"extracted.json\", \"w\", encoding=\"utf-8\") as f:\n",
    "    json.dump(final_output, f, indent=2, ensure_ascii=False)\n",
    "\n",
    "print(\"\\n✅ Final KG saved to final_output.json\")"
   ]
  },
  {
   "cell_type": "code",
   "execution_count": 13,
   "id": "801c6b32",
   "metadata": {},
   "outputs": [
    {
     "ename": "NameError",
     "evalue": "name 'filtered_entities' is not defined",
     "output_type": "error",
     "traceback": [
      "\u001b[1;31m---------------------------------------------------------------------------\u001b[0m",
      "\u001b[1;31mNameError\u001b[0m                                 Traceback (most recent call last)",
      "Cell \u001b[1;32mIn[13], line 1\u001b[0m\n\u001b[1;32m----> 1\u001b[0m \u001b[43mfiltered_entities\u001b[49m\n",
      "\u001b[1;31mNameError\u001b[0m: name 'filtered_entities' is not defined"
     ]
    }
   ],
   "source": [
    "filtered_entities"
   ]
  },
  {
   "cell_type": "code",
   "execution_count": 14,
   "id": "6e9eaa1c",
   "metadata": {},
   "outputs": [],
   "source": [
    "# Load your extracted JSON\n",
    "with open(\"extracted.json\", \"r\") as f:\n",
    "    data = json.load(f)"
   ]
  },
  {
   "cell_type": "code",
   "execution_count": null,
   "id": "9853f589",
   "metadata": {},
   "outputs": [],
   "source": []
  },
  {
   "cell_type": "code",
   "execution_count": 26,
   "id": "94a93702",
   "metadata": {},
   "outputs": [
    {
     "name": "stdout",
     "output_type": "stream",
     "text": [
      "All nodes and relationships have been deleted.\n"
     ]
    }
   ],
   "source": [
    "delete_query = \"MATCH (n) DETACH DELETE n\"\n",
    "\n",
    "with driver.session() as session:\n",
    "    session.run(delete_query)\n",
    "\n",
    "print(\"All nodes and relationships have been deleted.\")"
   ]
  },
  {
   "cell_type": "code",
   "execution_count": 27,
   "id": "c62b77af",
   "metadata": {},
   "outputs": [],
   "source": [
    "# Create nodes with dynamic labels\n",
    "query_nodes = \"\"\"\n",
    "UNWIND $entities AS entity\n",
    "CALL apoc.merge.node([entity.type], {id: entity.id}, \n",
    "                     {name: entity.name, aliases: entity.aliases, span: entity.span}, \n",
    "                     {}) YIELD node\n",
    "RETURN node\n",
    "\"\"\"\n",
    "\n",
    "# Create relationships with dynamic types\n",
    "query_rels = \"\"\"\n",
    "UNWIND $relationships AS rel\n",
    "MATCH (src {id: rel.source})\n",
    "MATCH (tgt {id: rel.target})\n",
    "CALL apoc.merge.relationship(src, rel.relation, {}, {evidence: rel.evidence_span}, tgt) YIELD rel AS r\n",
    "RETURN r\n",
    "\"\"\"\n",
    "\n",
    "with driver.session() as session:\n",
    "    session.run(query_nodes, entities=data[\"entities\"])\n",
    "    session.run(query_rels, relationships=data[\"relationships\"])\n"
   ]
  },
  {
   "cell_type": "code",
   "execution_count": null,
   "id": "93047ad3",
   "metadata": {},
   "outputs": [],
   "source": []
  }
 ],
 "metadata": {
  "kernelspec": {
   "display_name": "pymc_env_5",
   "language": "python",
   "name": "python3"
  },
  "language_info": {
   "codemirror_mode": {
    "name": "ipython",
    "version": 3
   },
   "file_extension": ".py",
   "mimetype": "text/x-python",
   "name": "python",
   "nbconvert_exporter": "python",
   "pygments_lexer": "ipython3",
   "version": "3.11.8"
  }
 },
 "nbformat": 4,
 "nbformat_minor": 5
}
