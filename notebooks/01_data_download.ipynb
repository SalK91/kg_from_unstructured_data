{
 "cells": [
  {
   "cell_type": "markdown",
   "id": "325461ef",
   "metadata": {},
   "source": [
    "### Fetch, clean, and save chunks of text"
   ]
  },
  {
   "cell_type": "code",
   "execution_count": 17,
   "id": "a56bfcaa",
   "metadata": {},
   "outputs": [],
   "source": [
    "import sys\n",
    "import json\n",
    "from pathlib import Path\n",
    "# Add src/ to Python path so we can import modules\n",
    "project_root = Path.cwd().parent   \n",
    "sys.path.append(str(project_root / \"src\"))\n",
    "\n",
    "# Import your pipeline function\n",
    "from data_loader import fetch_and_clean, chunk_text"
   ]
  },
  {
   "cell_type": "code",
   "execution_count": 18,
   "id": "60cb4308",
   "metadata": {},
   "outputs": [],
   "source": [
    "# Define paths\n",
    "DATA_DIR = project_root / \"data\" / \"raw\"\n",
    "DATA_DIR.mkdir(parents=True, exist_ok=True)"
   ]
  },
  {
   "cell_type": "code",
   "execution_count": 19,
   "id": "12654ce2",
   "metadata": {},
   "outputs": [
    {
     "name": "stdout",
     "output_type": "stream",
     "text": [
      "\n",
      "--- Preview ---\n",
      "\n",
      "A STUDY IN SCARLET\n",
      "\n",
      "By A. Conan Doyle\n",
      "\n",
      "\n",
      "\n",
      "\n",
      "CONTENTS\n",
      "\n",
      " A STUDY IN SCARLET.\n",
      "\n",
      " PART I.\n",
      " CHAPTER I. MR. SHERLOCK HOLMES.\n",
      " CHAPTER II. THE SCIENCE OF DEDUCTION.\n",
      " CHAPTER III. THE LAURISTON GARDENS MYSTERY\n",
      " CHAPTER IV. WHAT JOHN RANCE HAD TO TELL.\n",
      " CHAPTER V. OUR ADVERTISEMENT BRINGS A VISITOR.\n",
      " CHAPTER VI. TOBIAS GREGSON SHOWS WHAT HE CAN DO.\n",
      " CHAPTER VII. LIGHT IN THE DARKNESS.\n",
      "\n",
      " PART II. THE COUNTRY OF THE SAINTS\n",
      " CHAPTER I. ON THE GREAT ALKALI PLAIN.\n",
      " CHAPTER II. THE FLOWER OF\n"
     ]
    }
   ],
   "source": [
    "# Define URL and save path\n",
    "url = \"https://www.gutenberg.org/cache/epub/244/pg244.txt\"  # A Study in Scarlet \n",
    "save_path = DATA_DIR / \"a_study_in_scarlet.txt\"\n",
    "\n",
    "# Fetch, clean, and save text\n",
    "clean_text = fetch_and_clean(url, save_path=str(save_path))\n",
    "\n",
    "# Preview first 500 characters\n",
    "print(\"\\n--- Preview ---\\n\")\n",
    "print(clean_text[:500])"
   ]
  },
  {
   "cell_type": "code",
   "execution_count": 20,
   "id": "a65762f3",
   "metadata": {},
   "outputs": [
    {
     "name": "stdout",
     "output_type": "stream",
     "text": [
      "Chunks: 61\n"
     ]
    }
   ],
   "source": [
    "# Chunk Data\n",
    "text = open(DATA_DIR / \"a_study_in_scarlet.txt\", encoding=\"utf-8\").read()\n",
    "\n",
    "# Clean text\n",
    "# remove /n with .\n",
    "text = text.replace(\"\\n\", \" \").replace(\"\\r\", \" \").replace(\"  \", \" \")\n",
    "# start text from CHAPTER I. MR. SHERLOCK HOLMES. to avoid preface\n",
    "start_idx = text.find(\"In the year 1878 I took my degree of Doctor of Medicine of the\")\n",
    "text = text[start_idx:]\n",
    "\n",
    "\n",
    "chunks = chunk_text(text, max_chars=4000, overlap=1000)\n",
    "print(f\"Chunks: {len(chunks)}\")\n"
   ]
  },
  {
   "cell_type": "code",
   "execution_count": 21,
   "id": "ed0b8ffa",
   "metadata": {},
   "outputs": [],
   "source": [
    "# save chunks to a jsonl file\n",
    "with open(DATA_DIR /\"a_study_in_scarlet_chunks.json\", \"w\", encoding=\"utf-8\") as f:\n",
    "    json.dump(chunks, f, ensure_ascii=False, indent=2)"
   ]
  }
 ],
 "metadata": {
  "kernelspec": {
   "display_name": "pymc_env_5",
   "language": "python",
   "name": "python3"
  },
  "language_info": {
   "codemirror_mode": {
    "name": "ipython",
    "version": 3
   },
   "file_extension": ".py",
   "mimetype": "text/x-python",
   "name": "python",
   "nbconvert_exporter": "python",
   "pygments_lexer": "ipython3",
   "version": "3.11.8"
  }
 },
 "nbformat": 4,
 "nbformat_minor": 5
}
