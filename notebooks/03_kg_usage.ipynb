{
 "cells": [
  {
   "cell_type": "code",
   "execution_count": 4,
   "id": "5fbd6376",
   "metadata": {},
   "outputs": [],
   "source": [
    "from pathlib import Path\n",
    "import sys\n",
    "import json\n",
    "project_root = Path.cwd().parent   \n",
    "sys.path.append(str(project_root / \"src\"))"
   ]
  },
  {
   "cell_type": "code",
   "execution_count": 13,
   "id": "fef54c32",
   "metadata": {},
   "outputs": [],
   "source": [
    "!pip install pyvis jinja2 --quiet"
   ]
  },
  {
   "cell_type": "code",
   "execution_count": 5,
   "id": "c75ac8a9",
   "metadata": {},
   "outputs": [],
   "source": [
    "DATA_DIR_RAW = project_root / \"data\" / \"raw\"\n",
    "DATA_DIR_PROCESSED = project_root / \"data\" / \"processed\""
   ]
  },
  {
   "cell_type": "code",
   "execution_count": 6,
   "id": "72836da3",
   "metadata": {},
   "outputs": [],
   "source": [
    "with open(DATA_DIR_PROCESSED /\"entities.json\", \"r\", encoding=\"utf-8\") as f:\n",
    "    entities = json.load(f)\n",
    "with open(DATA_DIR_PROCESSED /\"relationships.json\", \"r\", encoding=\"utf-8\") as f:\n",
    "    relationships = json.load(f)"
   ]
  },
  {
   "cell_type": "code",
   "execution_count": 12,
   "id": "d81042a8",
   "metadata": {},
   "outputs": [
    {
     "name": "stdout",
     "output_type": "stream",
     "text": [
      "output/entity_relationship_network.html\n"
     ]
    },
    {
     "ename": "AttributeError",
     "evalue": "'NoneType' object has no attribute 'render'",
     "output_type": "error",
     "traceback": [
      "\u001b[1;31m---------------------------------------------------------------------------\u001b[0m",
      "\u001b[1;31mAttributeError\u001b[0m                            Traceback (most recent call last)",
      "Cell \u001b[1;32mIn[12], line 16\u001b[0m\n\u001b[0;32m     14\u001b[0m \u001b[38;5;66;03m# Generate interactive HTML\u001b[39;00m\n\u001b[0;32m     15\u001b[0m output_file \u001b[38;5;241m=\u001b[39m \u001b[38;5;124m\"\u001b[39m\u001b[38;5;124moutput/entity_relationship_network.html\u001b[39m\u001b[38;5;124m\"\u001b[39m\n\u001b[1;32m---> 16\u001b[0m \u001b[43mnet\u001b[49m\u001b[38;5;241;43m.\u001b[39;49m\u001b[43mshow\u001b[49m\u001b[43m(\u001b[49m\u001b[43moutput_file\u001b[49m\u001b[43m)\u001b[49m\n\u001b[0;32m     17\u001b[0m \u001b[38;5;28mprint\u001b[39m(\u001b[38;5;124mf\u001b[39m\u001b[38;5;124m\"\u001b[39m\u001b[38;5;124mInteractive network saved to \u001b[39m\u001b[38;5;132;01m{\u001b[39;00moutput_file\u001b[38;5;132;01m}\u001b[39;00m\u001b[38;5;124m\"\u001b[39m)\n",
      "File \u001b[1;32mc:\\Users\\salmank\\anaconda3\\envs\\pymc_env_5\\Lib\\site-packages\\pyvis\\network.py:546\u001b[0m, in \u001b[0;36mNetwork.show\u001b[1;34m(self, name, local, notebook)\u001b[0m\n\u001b[0;32m    544\u001b[0m \u001b[38;5;28mprint\u001b[39m(name)\n\u001b[0;32m    545\u001b[0m \u001b[38;5;28;01mif\u001b[39;00m notebook:\n\u001b[1;32m--> 546\u001b[0m     \u001b[38;5;28;43mself\u001b[39;49m\u001b[38;5;241;43m.\u001b[39;49m\u001b[43mwrite_html\u001b[49m\u001b[43m(\u001b[49m\u001b[43mname\u001b[49m\u001b[43m,\u001b[49m\u001b[43m \u001b[49m\u001b[43mopen_browser\u001b[49m\u001b[38;5;241;43m=\u001b[39;49m\u001b[38;5;28;43;01mFalse\u001b[39;49;00m\u001b[43m,\u001b[49m\u001b[43mnotebook\u001b[49m\u001b[38;5;241;43m=\u001b[39;49m\u001b[38;5;28;43;01mTrue\u001b[39;49;00m\u001b[43m)\u001b[49m\n\u001b[0;32m    547\u001b[0m \u001b[38;5;28;01melse\u001b[39;00m:\n\u001b[0;32m    548\u001b[0m     \u001b[38;5;28mself\u001b[39m\u001b[38;5;241m.\u001b[39mwrite_html(name, open_browser\u001b[38;5;241m=\u001b[39m\u001b[38;5;28;01mTrue\u001b[39;00m)\n",
      "File \u001b[1;32mc:\\Users\\salmank\\anaconda3\\envs\\pymc_env_5\\Lib\\site-packages\\pyvis\\network.py:515\u001b[0m, in \u001b[0;36mNetwork.write_html\u001b[1;34m(self, name, local, notebook, open_browser)\u001b[0m\n\u001b[0;32m    513\u001b[0m getcwd_name \u001b[38;5;241m=\u001b[39m name\n\u001b[0;32m    514\u001b[0m check_html(getcwd_name)\n\u001b[1;32m--> 515\u001b[0m \u001b[38;5;28mself\u001b[39m\u001b[38;5;241m.\u001b[39mhtml \u001b[38;5;241m=\u001b[39m \u001b[38;5;28;43mself\u001b[39;49m\u001b[38;5;241;43m.\u001b[39;49m\u001b[43mgenerate_html\u001b[49m\u001b[43m(\u001b[49m\u001b[43mnotebook\u001b[49m\u001b[38;5;241;43m=\u001b[39;49m\u001b[43mnotebook\u001b[49m\u001b[43m)\u001b[49m\n\u001b[0;32m    517\u001b[0m \u001b[38;5;28;01mif\u001b[39;00m \u001b[38;5;28mself\u001b[39m\u001b[38;5;241m.\u001b[39mcdn_resources \u001b[38;5;241m==\u001b[39m \u001b[38;5;124m\"\u001b[39m\u001b[38;5;124mlocal\u001b[39m\u001b[38;5;124m\"\u001b[39m:\n\u001b[0;32m    518\u001b[0m     \u001b[38;5;28;01mif\u001b[39;00m \u001b[38;5;129;01mnot\u001b[39;00m os\u001b[38;5;241m.\u001b[39mpath\u001b[38;5;241m.\u001b[39mexists(\u001b[38;5;124m\"\u001b[39m\u001b[38;5;124mlib\u001b[39m\u001b[38;5;124m\"\u001b[39m):\n",
      "File \u001b[1;32mc:\\Users\\salmank\\anaconda3\\envs\\pymc_env_5\\Lib\\site-packages\\pyvis\\network.py:479\u001b[0m, in \u001b[0;36mNetwork.generate_html\u001b[1;34m(self, name, local, notebook)\u001b[0m\n\u001b[0;32m    476\u001b[0m \u001b[38;5;28;01melse\u001b[39;00m:\n\u001b[0;32m    477\u001b[0m     physics_enabled \u001b[38;5;241m=\u001b[39m \u001b[38;5;28mself\u001b[39m\u001b[38;5;241m.\u001b[39moptions\u001b[38;5;241m.\u001b[39mphysics\u001b[38;5;241m.\u001b[39menabled\n\u001b[1;32m--> 479\u001b[0m \u001b[38;5;28mself\u001b[39m\u001b[38;5;241m.\u001b[39mhtml \u001b[38;5;241m=\u001b[39m \u001b[43mtemplate\u001b[49m\u001b[38;5;241;43m.\u001b[39;49m\u001b[43mrender\u001b[49m(height\u001b[38;5;241m=\u001b[39mheight,\n\u001b[0;32m    480\u001b[0m                             width\u001b[38;5;241m=\u001b[39mwidth,\n\u001b[0;32m    481\u001b[0m                             nodes\u001b[38;5;241m=\u001b[39mnodes,\n\u001b[0;32m    482\u001b[0m                             edges\u001b[38;5;241m=\u001b[39medges,\n\u001b[0;32m    483\u001b[0m                             heading\u001b[38;5;241m=\u001b[39mheading,\n\u001b[0;32m    484\u001b[0m                             options\u001b[38;5;241m=\u001b[39moptions,\n\u001b[0;32m    485\u001b[0m                             physics_enabled\u001b[38;5;241m=\u001b[39mphysics_enabled,\n\u001b[0;32m    486\u001b[0m                             use_DOT\u001b[38;5;241m=\u001b[39m\u001b[38;5;28mself\u001b[39m\u001b[38;5;241m.\u001b[39muse_DOT,\n\u001b[0;32m    487\u001b[0m                             dot_lang\u001b[38;5;241m=\u001b[39m\u001b[38;5;28mself\u001b[39m\u001b[38;5;241m.\u001b[39mdot_lang,\n\u001b[0;32m    488\u001b[0m                             widget\u001b[38;5;241m=\u001b[39m\u001b[38;5;28mself\u001b[39m\u001b[38;5;241m.\u001b[39mwidget,\n\u001b[0;32m    489\u001b[0m                             bgcolor\u001b[38;5;241m=\u001b[39m\u001b[38;5;28mself\u001b[39m\u001b[38;5;241m.\u001b[39mbgcolor,\n\u001b[0;32m    490\u001b[0m                             conf\u001b[38;5;241m=\u001b[39m\u001b[38;5;28mself\u001b[39m\u001b[38;5;241m.\u001b[39mconf,\n\u001b[0;32m    491\u001b[0m                             tooltip_link\u001b[38;5;241m=\u001b[39muse_link_template,\n\u001b[0;32m    492\u001b[0m                             neighborhood_highlight\u001b[38;5;241m=\u001b[39m\u001b[38;5;28mself\u001b[39m\u001b[38;5;241m.\u001b[39mneighborhood_highlight,\n\u001b[0;32m    493\u001b[0m                             select_menu\u001b[38;5;241m=\u001b[39m\u001b[38;5;28mself\u001b[39m\u001b[38;5;241m.\u001b[39mselect_menu,\n\u001b[0;32m    494\u001b[0m                             filter_menu\u001b[38;5;241m=\u001b[39m\u001b[38;5;28mself\u001b[39m\u001b[38;5;241m.\u001b[39mfilter_menu,\n\u001b[0;32m    495\u001b[0m                             notebook\u001b[38;5;241m=\u001b[39mnotebook,\n\u001b[0;32m    496\u001b[0m                             cdn_resources\u001b[38;5;241m=\u001b[39m\u001b[38;5;28mself\u001b[39m\u001b[38;5;241m.\u001b[39mcdn_resources\n\u001b[0;32m    497\u001b[0m                             )\n\u001b[0;32m    498\u001b[0m \u001b[38;5;28;01mreturn\u001b[39;00m \u001b[38;5;28mself\u001b[39m\u001b[38;5;241m.\u001b[39mhtml\n",
      "\u001b[1;31mAttributeError\u001b[0m: 'NoneType' object has no attribute 'render'"
     ]
    }
   ],
   "source": [
    "from pyvis.network import Network\n",
    "\n",
    "# Create network\n",
    "net = Network(height=\"750px\", width=\"100%\", notebook=False, directed=True)\n",
    "\n",
    "# Add nodes\n",
    "for ent in entities:\n",
    "    net.add_node(ent[\"id\"], label=ent[\"name\"], title=str(ent.get(\"aliases\", \"\")))\n",
    "\n",
    "# Add edges\n",
    "for rel in relationships:\n",
    "    net.add_edge(rel[\"source\"], rel[\"target\"], title=rel[\"relation\"], label=rel[\"relation\"])\n",
    "\n",
    "# Generate interactive HTML\n",
    "output_file = \"output/entity_relationship_network.html\"\n",
    "net.show(output_file)\n",
    "print(f\"Interactive network saved to {output_file}\")\n"
   ]
  }
 ],
 "metadata": {
  "kernelspec": {
   "display_name": "pymc_env_5",
   "language": "python",
   "name": "python3"
  },
  "language_info": {
   "codemirror_mode": {
    "name": "ipython",
    "version": 3
   },
   "file_extension": ".py",
   "mimetype": "text/x-python",
   "name": "python",
   "nbconvert_exporter": "python",
   "pygments_lexer": "ipython3",
   "version": "3.11.8"
  }
 },
 "nbformat": 4,
 "nbformat_minor": 5
}
