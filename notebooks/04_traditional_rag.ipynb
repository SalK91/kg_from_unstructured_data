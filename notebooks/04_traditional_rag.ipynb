{
 "cells": [
  {
   "cell_type": "code",
   "execution_count": 8,
   "id": "49f8601e",
   "metadata": {},
   "outputs": [
    {
     "name": "stderr",
     "output_type": "stream",
     "text": [
      "ERROR: To modify pip, please run the following command:\n",
      "C:\\Users\\salmank\\anaconda3\\envs\\pymc_env_5\\python.exe -m pip install --upgrade pip setuptools wheel --quiet\n"
     ]
    },
    {
     "name": "stdout",
     "output_type": "stream",
     "text": [
      "Found existing installation: numpy 2.3.2\n",
      "Uninstalling numpy-2.3.2:\n",
      "  Successfully uninstalled numpy-2.3.2\n",
      "Found existing installation: faiss-cpu 1.12.0\n",
      "Uninstalling faiss-cpu-1.12.0:\n",
      "  Successfully uninstalled faiss-cpu-1.12.0\n"
     ]
    },
    {
     "name": "stderr",
     "output_type": "stream",
     "text": [
      "WARNING: Skipping faiss as it is not installed.\n",
      "WARNING: Skipping faiss-gpu as it is not installed.\n"
     ]
    },
    {
     "name": "stdout",
     "output_type": "stream",
     "text": [
      "Collecting numpy\n",
      "  Using cached numpy-2.3.2-cp311-cp311-win_amd64.whl.metadata (60 kB)\n",
      "Using cached numpy-2.3.2-cp311-cp311-win_amd64.whl (13.1 MB)\n",
      "Installing collected packages: numpy\n",
      "Successfully installed numpy-2.3.2\n"
     ]
    },
    {
     "name": "stderr",
     "output_type": "stream",
     "text": [
      "ERROR: pip's dependency resolver does not currently take into account all the packages that are installed. This behaviour is the source of the following dependency conflicts.\n",
      "arviz 0.17.1 requires numpy<2.0,>=1.22.0, but you have numpy 2.3.2 which is incompatible.\n",
      "contourpy 1.2.0 requires numpy<2.0,>=1.20, but you have numpy 2.3.2 which is incompatible.\n",
      "matplotlib 3.8.3 requires numpy<2,>=1.21, but you have numpy 2.3.2 which is incompatible.\n",
      "pandas 2.2.1 requires numpy<2,>=1.23.2; python_version == \"3.11\", but you have numpy 2.3.2 which is incompatible.\n",
      "scikit-learn 1.4.1.post1 requires numpy<2.0,>=1.19.5, but you have numpy 2.3.2 which is incompatible.\n",
      "scipy 1.12.0 requires numpy<1.29.0,>=1.22.4, but you have numpy 2.3.2 which is incompatible.\n",
      "shapely 2.0.3 requires numpy<2,>=1.14, but you have numpy 2.3.2 which is incompatible.\n",
      "statsmodels 0.14.1 requires numpy<2,>=1.18, but you have numpy 2.3.2 which is incompatible.\n"
     ]
    }
   ],
   "source": [
    "!pip install --upgrade pip setuptools wheel --quiet\n",
    "!pip uninstall -y numpy faiss faiss-cpu faiss-gpu\n",
    "!pip install --upgrade numpy\n",
    "!pip install faiss-cpu --quiet\n",
    "!pip install sentence-transformers --quiet"
   ]
  },
  {
   "cell_type": "code",
   "execution_count": 1,
   "id": "5b42448b",
   "metadata": {},
   "outputs": [],
   "source": [
    "from pathlib import Path\n",
    "import sys\n",
    "import json\n",
    "project_root = Path.cwd().parent   \n",
    "sys.path.append(str(project_root / \"src\"))"
   ]
  },
  {
   "cell_type": "code",
   "execution_count": 2,
   "id": "960873ba",
   "metadata": {},
   "outputs": [
    {
     "name": "stderr",
     "output_type": "stream",
     "text": [
      "c:\\Users\\salmank\\anaconda3\\envs\\pymc_env_5\\Lib\\site-packages\\tqdm\\auto.py:21: TqdmWarning: IProgress not found. Please update jupyter and ipywidgets. See https://ipywidgets.readthedocs.io/en/stable/user_install.html\n",
      "  from .autonotebook import tqdm as notebook_tqdm\n"
     ]
    }
   ],
   "source": [
    "from sentence_transformers import SentenceTransformer\n",
    "import faiss\n",
    "import numpy as np"
   ]
  },
  {
   "cell_type": "code",
   "execution_count": 3,
   "id": "78351f8c",
   "metadata": {},
   "outputs": [],
   "source": [
    "from simple_rag import create_embeddings, create_faiss_index, retrieve_chunks, save_artifacts, load_artifacts"
   ]
  },
  {
   "cell_type": "code",
   "execution_count": 4,
   "id": "82c2734c",
   "metadata": {},
   "outputs": [],
   "source": [
    "DATA_DIR_RAW = project_root / \"data\" / \"raw\"\n",
    "DATA_DIR_PROCESSED = project_root / \"data\" / \"processed\""
   ]
  },
  {
   "cell_type": "code",
   "execution_count": 5,
   "id": "41c3a767",
   "metadata": {},
   "outputs": [],
   "source": [
    "with open(DATA_DIR_RAW /\"a_study_in_scarlet_chunks.json\", \"r\", encoding=\"utf-8\") as f:\n",
    "    chunks = json.load(f)"
   ]
  },
  {
   "cell_type": "code",
   "execution_count": 6,
   "id": "bcda4f45",
   "metadata": {},
   "outputs": [
    {
     "name": "stderr",
     "output_type": "stream",
     "text": [
      "Batches: 100%|██████████| 2/2 [00:03<00:00,  1.60s/it]\n"
     ]
    }
   ],
   "source": [
    "# create embeddings\n",
    "embeddings, model = create_embeddings(chunks)\n",
    "\n",
    "#create FAISS index\n",
    "index = create_faiss_index(embeddings)"
   ]
  },
  {
   "cell_type": "code",
   "execution_count": 7,
   "id": "cad18cf8",
   "metadata": {},
   "outputs": [],
   "source": [
    "save_artifacts(embeddings, index, chunks, path=DATA_DIR_PROCESSED, prefix=\"simple_rag_\")\n"
   ]
  },
  {
   "cell_type": "code",
   "execution_count": 8,
   "id": "3628384a",
   "metadata": {},
   "outputs": [
    {
     "name": "stdout",
     "output_type": "stream",
     "text": [
      "Chunk 1: it. ” “It is not easy to express the inexpressible,” he answered with a laugh. “Holmes is a little too scientific for my tastes—it approaches to cold-bloodedness. I could imagine his giving a friend a little pinch of the latest vegetable alkaloid, not out of malevolence, you understand, but simply out of a spirit of inquiry in order to have an accurate idea of the effects. To do him justice, I think that he would take it himself with the same readiness. He appears to have a passion for definite and exact knowledge. ” “Very right too. ” “Yes, but it may be pushed to excess. When it comes to beating the subjects in the dissecting-rooms with a stick, it is certainly taking rather a bizarre shape. ” “Beating the subjects! ” “Yes, to verify how far bruises may be produced after death. I saw him at it with my own eyes. ” “And yet you say he is not a medical student? ” “No. Heaven knows what the objects of his studies are. But here we are, and you must form your own impressions about him. ” As he spoke, we turned down a narrow lane and passed through a small side-door, which opened into a wing of the great hospital. It was familiar ground to me, and I needed no guiding as we ascended the bleak stone staircase and made our way down the long corridor with its vista of whitewashed wall and dun-coloured doors. Near the further end a low arched passage branched away from it and led to the chemical laboratory. This was a lofty chamber, lined and littered with countless bottles. Broad, low tables were scattered about, which bristled with retorts, test-tubes, and little Bunsen lamps, with their blue flickering flames. There was only one student in the room, who was bending over a distant table absorbed in his work. At the sound of our steps he glanced round and sprang to his feet with a cry of pleasure. “I’ve found it! I’ve found it,” he shouted to my companion, running towards us with a test-tube in his hand. “I have found a re-agent which is precipitated by hæmoglobin, and by nothing else. ” Had he discovered a gold mine, greater delight could not have shone upon his features. “Dr. Watson, Mr. Sherlock Holmes,” said Stamford, introducing us. “How are you? ” he said cordially, gripping my hand with a strength for which I should hardly have given him credit. “You have been in Afghanistan, I perceive. ”  “How on earth did you know that? ” I asked in astonishment. “Never mind,” said he, chuckling to himself. “The question now is about hæmoglobin. No doubt you see the significance of this discovery of mine? ”  “It is interesting, chemically, no doubt,” I answered, “but practically——”  “Why, man, it is the most practical medico-legal discovery for years. Don’t you see that it gives us an infallible test for blood stains. Come over here now! ” He seized me by the coat-sleeve in his eagerness, and drew me over to the table at which he had been working. “Let us have some fresh blood,” he said, digging a long bodkin into his finger, and drawing off the resulting drop of blood in a chemical pipette. “Now, I add this small quantity of blood to a litre of water. You perceive that the resulting mixture has the appearance of pure water. The proportion of blood cannot be more than one in a million. I have no doubt, however, that we shall be able to obtain the characteristic reaction. ” As he spoke, he threw into the vessel a few white crystals, and then added some drops of a transparent fluid. In an instant the contents assumed a dull mahogany colour, and a brownish dust was precipitated to the bottom of the glass jar. “Ha! ha! ” he cried, clapping his hands, and looking as delighted as a child with a new toy. “What do you think of that? ”  “It seems to be a very delicate test,” I remarked. “Beautiful! beautiful! The old Guiacum test was very clumsy and uncertain. So is the microscopic examination for blood corpuscles. The latter is valueless if the stains are a few hours old. Now, this appears to act as well whether the blood is old or new. Had this test been invented, there are hundreds of men now walking the earth who would long ago have paid the penalty of their crimes. ”  “Indeed! ” I murmured. “Criminal cases are continually hinging upon that one point. A man is suspected of a crime months perhaps after it has been committed. His linen or clothes are examined, and brownish stains discovered upon them. Are they blood stains, or mud stains, or rust stains, or fruit stains, or what are they? That is a question which has puzzled many an expert, and why? Because there was no reliable test. Now we have the Sherlock Holmes’ test, and there will no longer be any difficulty. ”  His eyes fairly glittered as he spoke, and he put his hand over his heart and bowed as if to some applauding crowd conjured up by his imagination. “You are to be congratulated,” I remarked, considerably surprised at his enthusiasm. “There was the case of Von Bischoff at Frankfort last year. He would certainly have been hung had this test been in existence.\n",
      "Chunk 2: you not telegraph again? ” “I have said all I have to say,” said Gregson, in an offended voice. Sherlock Holmes chuckled to himself, and appeared to be about to make some remark, when Lestrade, who had been in the front room while we were holding this conversation in the hall, reappeared upon the scene, rubbing his hands in a pompous and self-satisfied manner. “Mr. Gregson,” he said, “I have just made a discovery of the highest importance, and one which would have been overlooked had I not made a careful examination of the walls. ” The little man’s eyes sparkled as he spoke, and he was evidently in a state of suppressed exultation at having scored a point against his colleague. “Come here,” he said, bustling back into the room, the atmosphere of which felt clearer since the removal of its ghastly inmate. “Now, stand there! ” He struck a match on his boot and held it up against the wall. “Look at that! ” he said, triumphantly. I have remarked that the paper had fallen away in parts. In this particular corner of the room a large piece had peeled off, leaving a yellow square of coarse plastering. Across this bare space there was scrawled in blood-red letters a single word—   RACHE. “What do you think of that? ” cried the detective, with the air of a showman exhibiting his show. “This was overlooked because it was in the darkest corner of the room, and no one thought of looking there. The murderer has written it with his or her own blood. See this smear where it has trickled down the wall! That disposes of the idea of suicide anyhow. Why was that corner chosen to write it on? I will tell you. See that candle on the mantelpiece. It was lit at the time, and if it was lit this corner would be the brightest instead of the darkest portion of the wall. ”  “And what does it mean now that you _have_ found it? ” asked Gregson in a depreciatory voice. “Mean? Why, it means that the writer was going to put the female name Rachel, but was disturbed before he or she had time to finish. You mark my words, when this case comes to be cleared up you will find that a woman named Rachel has something to do with it. It’s all very well for you to laugh, Mr. Sherlock Holmes. You may be very smart and clever, but the old hound is the best, when all is said and done. ”  “I really beg your pardon! ” said my companion, who had ruffled the little man’s temper by bursting into an explosion of laughter. “You certainly have the credit of being the first of us to find this out, and, as you say, it bears every mark of having been written by the other participant in last night’s mystery. I have not had time to examine this room yet, but with your permission I shall do so now. ”  As he spoke, he whipped a tape measure and a large round magnifying glass from his pocket. With these two implements he trotted noiselessly about the room, sometimes stopping, occasionally kneeling, and once lying flat upon his face. So engrossed was he with his occupation that he appeared to have forgotten our presence, for he chattered away to himself under his breath the whole time, keeping up a running fire of exclamations, groans, whistles, and little cries suggestive of encouragement and of hope. As I watched him I was irresistibly reminded of a pure-blooded well-trained foxhound as it dashes backwards and forwards through the covert, whining in its eagerness, until it comes across the lost scent. For twenty minutes or more he continued his researches, measuring with the most exact care the distance between marks which were entirely invisible to me, and occasionally applying his tape to the walls in an equally incomprehensible manner. In one place he gathered up very carefully a little pile of grey dust from the floor, and packed it away in an envelope. Finally, he examined with his glass the word upon the wall, going over every letter of it with the most minute exactness. This done, he appeared to be satisfied, for he replaced his tape and his glass in his pocket. “They say that genius is an infinite capacity for taking pains,” he remarked with a smile. “It’s a very bad definition, but it does apply to detective work. ”  Gregson and Lestrade had watched the manœuvres of their amateur companion with considerable curiosity and some contempt. They evidently failed to appreciate the fact, which I had begun to realize, that Sherlock Holmes’ smallest actions were all directed towards some definite and practical end. “What do you think of it, sir? ” they both asked. “It would be robbing you of the credit of the case if I was to presume to help you,” remarked my friend. “You are doing so well now that it would be a pity for anyone to interfere. ” There was a world of sarcasm in his voice as he spoke. “If you will let me know how your investigations go,” he continued, “I shall be happy to give you any help I can. In the meantime I should like to speak to the constable who found the body. Can you give me his name and address? ”  Lestrade glanced at his note-book.\n"
     ]
    }
   ],
   "source": [
    "#retrieve relevant chunks\n",
    "question = \"How did Watson meet Holmes?\"\n",
    "relevant_chunks = retrieve_chunks(question, index, chunks, model, top_k=2)\n",
    "\n",
    "for i, chunk in enumerate(relevant_chunks, 1):\n",
    "    print(f\"Chunk {i}: {chunk}\")"
   ]
  }
 ],
 "metadata": {
  "kernelspec": {
   "display_name": "pymc_env_5",
   "language": "python",
   "name": "python3"
  },
  "language_info": {
   "codemirror_mode": {
    "name": "ipython",
    "version": 3
   },
   "file_extension": ".py",
   "mimetype": "text/x-python",
   "name": "python",
   "nbconvert_exporter": "python",
   "pygments_lexer": "ipython3",
   "version": "3.11.8"
  }
 },
 "nbformat": 4,
 "nbformat_minor": 5
}
