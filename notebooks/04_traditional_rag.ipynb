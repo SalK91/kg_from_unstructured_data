{
 "cells": [
  {
   "cell_type": "code",
   "execution_count": 1,
   "id": "49f8601e",
   "metadata": {},
   "outputs": [],
   "source": [
    "# !pip install --upgrade pip setuptools wheel --quiet\n",
    "# !pip uninstall -y numpy faiss faiss-cpu faiss-gpu\n",
    "# !pip install --upgrade numpy\n",
    "# !pip install faiss-cpu --quiet\n",
    "# !pip install sentence-transformers --quiet"
   ]
  },
  {
   "cell_type": "code",
   "execution_count": 2,
   "id": "5b42448b",
   "metadata": {},
   "outputs": [],
   "source": [
    "from pathlib import Path\n",
    "import sys\n",
    "import json\n",
    "project_root = Path.cwd().parent   \n",
    "sys.path.append(str(project_root / \"src\"))"
   ]
  },
  {
   "cell_type": "code",
   "execution_count": 3,
   "id": "960873ba",
   "metadata": {},
   "outputs": [
    {
     "name": "stderr",
     "output_type": "stream",
     "text": [
      "c:\\Users\\salmank\\anaconda3\\envs\\pymc_env_5\\Lib\\site-packages\\tqdm\\auto.py:21: TqdmWarning: IProgress not found. Please update jupyter and ipywidgets. See https://ipywidgets.readthedocs.io/en/stable/user_install.html\n",
      "  from .autonotebook import tqdm as notebook_tqdm\n"
     ]
    }
   ],
   "source": [
    "from sentence_transformers import SentenceTransformer\n",
    "import faiss\n",
    "import numpy as np"
   ]
  },
  {
   "cell_type": "code",
   "execution_count": 4,
   "id": "78351f8c",
   "metadata": {},
   "outputs": [],
   "source": [
    "from simple_rag import create_embeddings, create_faiss_index, retrieve_chunks, save_artifacts, load_artifacts"
   ]
  },
  {
   "cell_type": "code",
   "execution_count": 5,
   "id": "82c2734c",
   "metadata": {},
   "outputs": [],
   "source": [
    "DATA_DIR_RAW = project_root / \"data\" / \"raw\"\n",
    "DATA_DIR_PROCESSED = project_root / \"data\" / \"processed\""
   ]
  },
  {
   "cell_type": "code",
   "execution_count": 7,
   "id": "41c3a767",
   "metadata": {},
   "outputs": [],
   "source": [
    "chunks = {}\n",
    "with open(DATA_DIR_RAW / \"a_study_in_scarlet_chunks.jsonl\", \"r\", encoding=\"utf-8\") as f:\n",
    "    for line in f:\n",
    "        record = json.loads(line)\n",
    "        chunks[record[\"id\"]] = record[\"text\"]"
   ]
  },
  {
   "cell_type": "code",
   "execution_count": null,
   "id": "d098f139",
   "metadata": {},
   "outputs": [],
   "source": []
  },
  {
   "cell_type": "code",
   "execution_count": 12,
   "id": "bcda4f45",
   "metadata": {},
   "outputs": [
    {
     "name": "stderr",
     "output_type": "stream",
     "text": [
      "Batches: 100%|██████████| 3/3 [00:03<00:00,  1.30s/it]\n"
     ]
    }
   ],
   "source": [
    "# create embeddings\n",
    "embeddings, model = create_embeddings(list(chunks.values()), model_name=\"all-MiniLM-L6-v2\")\n",
    "#create FAISS index\n",
    "index = create_faiss_index(embeddings)"
   ]
  },
  {
   "cell_type": "code",
   "execution_count": 13,
   "id": "cad18cf8",
   "metadata": {},
   "outputs": [],
   "source": [
    "save_artifacts(embeddings, index, chunks, path=DATA_DIR_PROCESSED, prefix=\"simple_rag_\")"
   ]
  },
  {
   "cell_type": "code",
   "execution_count": 15,
   "id": "3628384a",
   "metadata": {},
   "outputs": [
    {
     "name": "stdout",
     "output_type": "stream",
     "text": [
      "Chunk 1: Holmes’ smallest actions were all directed towards some definite and practical end. “What do you think of it, sir? ” they both asked. “It would be robbing you of the credit of the case if I was to presume to help you,” remarked my friend. “You are doing so well now that it would be a pity for anyone to interfere. ” There was a world of sarcasm in his voice as he spoke. “If you will let me know how your investigations go,” he continued, “I shall be happy to give you any help I can. In the meantime I should like to speak to the constable who found the body. Can you give me his name and address? ” Lestrade glanced at his note-book. “John Rance,” he said. “He is off duty now. You will find him at 46, Audley Court, Kennington Park Gate. ” Holmes took a note of the address. “Come along, Doctor,” he said; “we shall go and look him up. I’ll tell you one thing which may help you in the case,” he continued, turning to the two detectives. “There has been murder done, and the murderer was a man. He was more than six feet high, was in the prime of life, had small feet for his height, wore coarse, square-toed boots and smoked a Trichinopoly cigar. He came here with his victim in a four-wheeled cab, which was drawn by a horse with three old shoes and one new one on his off fore leg. In all probability the murderer had a florid face, and the finger-nails of his right hand were remarkably long. These are only a few indications, but they may assist you. ”  Lestrade and Gregson glanced at each other with an incredulous smile. “If this man was murdered, how was it done? ” asked the former. “Poison,” said Sherlock Holmes curtly, and strode off. “One other thing, Lestrade,” he added, turning round at the door: “‘Rache,’ is the German for ‘revenge;’ so don’t lose your time looking for Miss Rachel. ”  With which Parthian shot he walked away, leaving the two rivals open-mouthed behind him. CHAPTER IV. WHAT JOHN RANCE HAD TO TELL. It was one o’clock when we left No. 3, Lauriston Gardens. Sherlock Holmes led me to the nearest telegraph office, whence he dispatched a long telegram. He then hailed a cab, and ordered the driver to take us to the address given us by Lestrade. “There is nothing like first hand evidence,” he remarked; “as a matter of fact, my mind is entirely made up upon the case, but still we may as well learn all that is to be learned. ”  “You amaze me, Holmes,” said I. “Surely you are not as sure as you pretend to be of all those particulars which you gave. ”  “There’s no room for a mistake,” he answered. “The very first thing which I observed on arriving there was that a cab had made two ruts with its wheels close to the curb. Now, up to last night, we have had no rain for a week, so that those wheels which left such a deep impression must have been there during the night. There were the marks of the horse’s hoofs, too, the outline of one of which was far more clearly cut than that of the other three, showing that that was a new shoe. Since the cab was there after the rain began, and was not there at any time during the morning—I have Gregson’s word for that—it follows that it must have been there during the night, and, therefore, that it brought those two individuals to the house. ”  “That seems simple enough,” said I; “but how about the other man’s height? ”  “Why, the height of a man, in nine cases out of ten, can be told from the length of his stride. It is a simple calculation enough, though there is no use my boring you with figures. I had this fellow’s stride both on the clay outside and on the dust within. Then I had a way of checking my calculation. When a man writes on a wall, his instinct leads him to write about the level of his own eyes. Now that writing was just over six feet from the ground. It was child’s play. ”  “And his age? ” I asked. “Well, if a man can stride four and a-half feet without the smallest effort, he can’t be quite in the sere and yellow.\n",
      "Chunk 2: report at the office,” he said. Holmes took a half-sovereign from his pocket and played with it pensively. “We thought that we should like to hear it all from your own lips,” he said. “I shall be most happy to tell you anything I can,” the constable answered with his eyes upon the little golden disk. “Just let us hear it all in your own way as it occurred. ” Rance sat down on the horsehair sofa, and knitted his brows as though determined not to omit anything in his narrative. “I’ll tell it ye from the beginning,” he said. “My time is from ten at night to six in the morning. At eleven there was a fight at the ‘White Hart’; but bar that all was quiet enough on the beat. At one o’clock it began to rain, and I met Harry Murcher—him who has the Holland Grove beat—and we stood together at the corner of Henrietta Street a-talkin’. Presently—maybe about two or a little after—I thought I would take a look round and see that all was right down the Brixton Road. It was precious dirty and lonely. Not a soul did I meet all the way down, though a cab or two went past me. I was a strollin’ down, thinkin’ between ourselves how uncommon handy a four of gin hot would be, when suddenly the glint of a light caught my eye in the window of that same house. Now, I knew that them two houses in Lauriston Gardens was empty on account of him that owns them who won’t have the drains seen to, though the very last tenant what lived in one of them died o’ typhoid fever. I was knocked all in a heap therefore at seeing a light in the window, and I suspected as something was wrong. When I got to the door——”  “You stopped, and then walked back to the garden gate,” my companion interrupted. “What did you do that for? ”  Rance gave a violent jump, and stared at Sherlock Holmes with the utmost amazement upon his features. “Why, that’s true, sir,” he said; “though how you come to know it, Heaven only knows. Ye see, when I got up to the door it was so still and so lonesome, that I thought I’d be none the worse for some one with me. I ain’t afeared of anything on this side o’ the grave; but I thought that maybe it was him that died o’ the typhoid inspecting the drains what killed him. The thought gave me a kind o’ turn, and I walked back to the gate to see if I could see Murcher’s lantern, but there wasn’t no sign of him nor of anyone else. ”  “There was no one in the street? ”  “Not a livin’ soul, sir, nor as much as a dog. Then I pulled myself together and went back and pushed the door open. All was quiet inside, so I went into the room where the light was a-burnin’. There was a candle flickerin’ on the mantelpiece—a red wax one—and by its light I saw——”  “Yes, I know all that you saw. You walked round the room several times, and you knelt down by the body, and then you walked through and tried the kitchen door, and then——”  John Rance sprang to his feet with a frightened face and suspicion in his eyes. “Where was you hid to see all that? ” he cried. “It seems to me that you knows a deal more than you should. ”  Holmes laughed and threw his card across the table to the constable. “Don’t get arresting me for the murder,” he said. “I am one of the hounds and not the wolf; Mr. Gregson or Mr. Lestrade will answer for that. Go on, though. What did you do next? ”  Rance resumed his seat, without however losing his mystified expression. “I went back to the gate and sounded my whistle. That brought Murcher and two more to the spot. ”  “Was the street empty then? ”  “Well, it was, as far as anybody that could be of any good goes. ”  “What do you mean? ”  The constable’s features broadened into a grin. “I’ve seen many a drunk chap in my time,” he said, “but never anyone so cryin’ drunk as that cove. He was at the gate when I came out, a-leanin’ up agin the railings, and a-singin’ at the pitch o’ his lungs about Columbine’s New-fangled Banner, or some such stuff. He couldn’t stand, far less help. ”  “What sort of a man was he? ” asked Sherlock Holmes.\n"
     ]
    }
   ],
   "source": [
    "#retrieve relevant chunks\n",
    "question = \"How did Watson meet Holmes?\"\n",
    "relevant_chunks = retrieve_chunks(question, index, list(chunks.values()), model, top_k=2)\n",
    "\n",
    "for i, chunk in enumerate(relevant_chunks, 1):\n",
    "    print(f\"Chunk {i}: {chunk}\")"
   ]
  }
 ],
 "metadata": {
  "kernelspec": {
   "display_name": "pymc_env_5",
   "language": "python",
   "name": "python3"
  },
  "language_info": {
   "codemirror_mode": {
    "name": "ipython",
    "version": 3
   },
   "file_extension": ".py",
   "mimetype": "text/x-python",
   "name": "python",
   "nbconvert_exporter": "python",
   "pygments_lexer": "ipython3",
   "version": "3.11.8"
  }
 },
 "nbformat": 4,
 "nbformat_minor": 5
}
