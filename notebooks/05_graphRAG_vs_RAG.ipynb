{
 "cells": [
  {
   "cell_type": "code",
   "execution_count": 1,
   "id": "21be6871",
   "metadata": {},
   "outputs": [],
   "source": [
    "from pathlib import Path\n",
    "import sys\n",
    "import json\n",
    "project_root = Path.cwd().parent   \n",
    "sys.path.append(str(project_root / \"src\"))"
   ]
  },
  {
   "cell_type": "code",
   "execution_count": 2,
   "id": "3593337f",
   "metadata": {},
   "outputs": [],
   "source": [
    "DATA_DIR_RAW = project_root / \"data\" / \"raw\"\n",
    "DATA_DIR_PROCESSED = project_root / \"data\" / \"processed\""
   ]
  },
  {
   "cell_type": "code",
   "execution_count": 15,
   "id": "8e00ca18",
   "metadata": {},
   "outputs": [],
   "source": [
    "from simple_rag import load_artifacts, retrieve_chunks\n",
    "from sentence_transformers import SentenceTransformer\n",
    "from dotenv import load_dotenv\n",
    "import os\n",
    "import cohere"
   ]
  },
  {
   "cell_type": "code",
   "execution_count": 16,
   "id": "f20fea08",
   "metadata": {},
   "outputs": [
    {
     "name": "stdout",
     "output_type": "stream",
     "text": [
      "Cohere key loaded: True\n"
     ]
    }
   ],
   "source": [
    "# LLM\n",
    "# Load all keys from .env\n",
    "load_dotenv()\n",
    "\n",
    "# Access environment variables\n",
    "COHERE_API_KEY = os.getenv(\"COHERE_API_KEY\")\n",
    "print(\"Cohere key loaded:\", bool(COHERE_API_KEY))\n",
    "co = cohere.ClientV2(COHERE_API_KEY, log_warning_experimental_features=False)"
   ]
  },
  {
   "cell_type": "code",
   "execution_count": null,
   "id": "8acfa300",
   "metadata": {},
   "outputs": [],
   "source": []
  },
  {
   "cell_type": "code",
   "execution_count": 154,
   "id": "e3ef23e4",
   "metadata": {},
   "outputs": [],
   "source": [
    "Question = \"Who introduced Sherlock to Watson?\"\n",
    "Question = \"What was the motive for the murders?\""
   ]
  },
  {
   "cell_type": "code",
   "execution_count": 155,
   "id": "83ba39c5",
   "metadata": {},
   "outputs": [
    {
     "data": {
      "text/plain": [
       "['from the hatred and fear expressed upon his face. By the method of exclusion, I had arrived at this result, for no other hypothesis would meet the facts. Do not imagine that it was a very unheard of idea. The forcible administration of poison is by no means a new thing in criminal annals. The cases of Dolsky in Odessa, and of Leturier in Montpellier, will occur at once to any toxicologist. “And now came the great question as to the reason why. Robbery had not been the object of the murder, for nothing was taken. Was it politics, then, or was it a woman? That was the question which confronted me. I was inclined from the first to the latter supposition. Political assassins are only too glad to do their work and to fly. This murder had, on the contrary, been done most deliberately, and the perpetrator had left his tracks all over the room, showing that he had been there all the time. It must have been a private wrong, and not a political one, which called for such a methodical revenge. When the inscription was discovered upon the wall I was more inclined than ever to my opinion. The thing was too evidently a blind. When the ring was found, however, it settled the question. Clearly the murderer had used it to remind his victim of some dead or absent woman. It was at this point that I asked Gregson whether he had enquired in his telegram to Cleveland as to any particular point in Mr. Drebber’s former career. He answered, you remember, in the negative. “I then proceeded to make a careful examination of the room, which confirmed me in my opinion as to the murderer’s height, and furnished me with the additional details as to the Trichinopoly cigar and the length of his nails. I had already come to the conclusion, since there were no signs of a struggle, that the blood which covered the floor had burst from the murderer’s nose in his excitement. I could perceive that the track of blood coincided with the track of his feet. It is seldom that any man, unless he is very full-blooded, breaks out in this way through emotion, so I hazarded the opinion that the criminal was probably a robust and ruddy-faced man. Events proved that I had judged correctly. “Having left the house, I proceeded to do what Gregson had neglected. I telegraphed to the head of the police at Cleveland, limiting my enquiry to the circumstances connected with the marriage of Enoch Drebber. The answer was conclusive. It told me that Drebber had already applied for the protection of the law against an old rival in love, named Jefferson Hope, and that this same Hope was at present in Europe. I knew now that I held the clue to the mystery in my hand, and all that remained was to secure the murderer. “I had already determined in my own mind that the man who had walked into the house with Drebber, was none other than the man who had driven the cab. The marks in the road showed me that the horse had wandered on in a way which would have been impossible had there been anyone in charge of it. Where, then, could the driver be, unless he were inside the house? Again, it is absurd to suppose that any sane man would carry out a deliberate crime under the very eyes, as it were, of a third person, who was sure to betray him. Lastly, supposing one man wished to dog another through London, what better means could he adopt than to turn cabdriver. All these considerations led me to the irresistible conclusion that Jefferson Hope was to be found among the jarveys of the Metropolis. “If he had been one there was no reason to believe that he had ceased to be. On the contrary, from his point of view, any sudden change would be likely to draw attention to himself. He would, probably, for a time at least, continue to perform his duties. There was no reason to suppose that he was going under an assumed name. Why should he change his name in a country where no one knew his original one? I therefore organized my Street Arab detective corps, and sent them systematically to every cab proprietor in London until they ferreted out the man that I wanted. How well they succeeded, and how quickly I took advantage of it, are still fresh in your recollection. The murder of Stangerson was an incident which was entirely unexpected, but which could hardly in any case have been prevented. Through it, as you know, I came into possession of the pills, the existence of which I had already surmised. You see the whole thing is a chain of logical sequences without a break or flaw. ”  “It is wonderful! ” I cried. “Your merits should be publicly recognized. You should publish an account of the case. If you won’t, I will for you. ”  “You may do what you like, Doctor,” he answered. “See here! ” he continued, handing a paper over to me, “look at this! ”  It was the _Echo_ for the day, and the paragraph to which he pointed was devoted to the case in question. “The public,” it said, “have lost a sensational treat through the sudden death of the man Hope, who was suspected of the murder of Mr.',\n",
       " 'and it is confidently anticipated that these well-known officers will speedily throw light upon the matter. The _Daily News_ observed that there was no doubt as to the crime being a political one. The despotism and hatred of Liberalism which animated the Continental Governments had had the effect of driving to our shores a number of men who might have made excellent citizens were they not soured by the recollection of all that they had undergone. Among these men there was a stringent code of honour, any infringement of which was punished by death. Every effort should be made to find the secretary, Stangerson, and to ascertain some particulars of the habits of the deceased. A great step had been gained by the discovery of the address of the house at which he had boarded—a result which was entirely due to the acuteness and energy of Mr. Gregson of Scotland Yard. Sherlock Holmes and I read these notices over together at breakfast, and they appeared to afford him considerable amusement. “I told you that, whatever happened, Lestrade and Gregson would be sure to score. ”  “That depends on how it turns out. ”  “Oh, bless you, it doesn’t matter in the least. If the man is caught, it will be _on account_ of their exertions; if he escapes, it will be _in spite_ of their exertions. It’s heads I win and tails you lose. Whatever they do, they will have followers. ‘Un sot trouve toujours un plus sot qui l’admire. ’”  “What on earth is this? ” I cried, for at this moment there came the pattering of many steps in the hall and on the stairs, accompanied by audible expressions of disgust upon the part of our landlady. “It’s the Baker Street division of the detective police force,” said my companion, gravely; and as he spoke there rushed into the room half a dozen of the dirtiest and most ragged street Arabs that ever I clapped eyes on. “‘Tention! ” cried Holmes, in a sharp tone, and the six dirty little scoundrels stood in a line like so many disreputable statuettes. “In future you shall send up Wiggins alone to report, and the rest of you must wait in the street. Have you found it, Wiggins? ”  “No, sir, we hain’t,” said one of the youths. “I hardly expected you would. You must keep on until you do. Here are your wages. ” He handed each of them a shilling. “Now, off you go, and come back with a better report next time. ”  He waved his hand, and they scampered away downstairs like so many rats, and we heard their shrill voices next moment in the street. “There’s more work to be got out of one of those little beggars than out of a dozen of the force,” Holmes remarked. “The mere sight of an official-looking person seals men’s lips. These youngsters, however, go everywhere and hear everything. They are as sharp as needles, too; all they want is organisation. ”  “Is it on this Brixton case that you are employing them? ” I asked. “Yes; there is a point which I wish to ascertain. It is merely a matter of time. Hullo! we are going to hear some news now with a vengeance! Here is Gregson coming down the road with beatitude written upon every feature of his face. Bound for us, I know. Yes, he is stopping. There he is! ”  There was a violent peal at the bell, and in a few seconds the fair-haired detective came up the stairs, three steps at a time, and burst into our sitting-room. “My dear fellow,” he cried, wringing Holmes’ unresponsive hand, “congratulate me! I have made the whole thing as clear as day. ”  A shade of anxiety seemed to me to cross my companion’s expressive face. “Do you mean that you are on the right track? ” he asked. “The right track! Why, sir, we have the man under lock and key. ”  “And his name is? ”  “Arthur Charpentier, sub-lieutenant in Her Majesty’s navy,” cried Gregson, pompously, rubbing his fat hands and inflating his chest. Sherlock Holmes gave a sigh of relief, and relaxed into a smile. “Take a seat, and try one of these cigars,” he said. “We are anxious to know how you managed it. Will you have some whiskey and water? ”  “I don’t mind if I do,” the detective answered. “The tremendous exertions which I have gone through during the last day or two have worn me out. Not so much bodily exertion, you understand, as the strain upon the mind. You will appreciate that, Mr. Sherlock Holmes, for we are both brain-workers. ”  “You do me too much honour,” said Holmes, gravely. “Let us hear how you arrived at this most gratifying result. ”  The detective seated himself in the arm-chair, and puffed complacently at his cigar. Then suddenly he slapped his thigh in a paroxysm of amusement. “The fun of it is,” he cried, “that that fool Lestrade, who thinks himself so smart, has gone off upon the wrong track altogether. He is after the secretary Stangerson, who had no more to do with the crime than the babe unborn. I have no doubt that he has caught him by this time. ”  The idea tickled Gregson so much that he laughed until he choked. “And how did you get your clue? ”  “Ah, I’ll tell you all about it.',\n",
       " 'exertions had been too much for my weak health, and I was tired out in the afternoon. After Holmes’ departure for the concert, I lay down upon the sofa and endeavoured to get a couple of hours’ sleep. It was a useless attempt. My mind had been too much excited by all that had occurred, and the strangest fancies and surmises crowded into it. Every time that I closed my eyes I saw before me the distorted baboon-like countenance of the murdered man. So sinister was the impression which that face had produced upon me that I found it difficult to feel anything but gratitude for him who had removed its owner from the world. If ever human features bespoke vice of the most malignant type, they were certainly those of Enoch J. Drebber, of Cleveland. Still I recognized that justice must be done, and that the depravity of the victim was no condonement in the eyes of the law. The more I thought of it the more extraordinary did my companion’s hypothesis, that the man had been poisoned, appear. I remembered how he had sniffed his lips, and had no doubt that he had detected something which had given rise to the idea. Then, again, if not poison, what had caused the man’s death, since there was neither wound nor marks of strangulation? But, on the other hand, whose blood was that which lay so thickly upon the floor? There were no signs of a struggle, nor had the victim any weapon with which he might have wounded an antagonist. As long as all these questions were unsolved, I felt that sleep would be no easy matter, either for Holmes or myself. His quiet self-confident manner convinced me that he had already formed a theory which explained all the facts, though what it was I could not for an instant conjecture. He was very late in returning—so late, that I knew that the concert could not have detained him all the time. Dinner was on the table before he appeared. “It was magnificent,” he said, as he took his seat. “Do you remember what Darwin says about music? He claims that the power of producing and appreciating it existed among the human race long before the power of speech was arrived at. Perhaps that is why we are so subtly influenced by it. There are vague memories in our souls of those misty centuries when the world was in its childhood. ”  “That’s rather a broad idea,” I remarked. “One’s ideas must be as broad as Nature if they are to interpret Nature,” he answered. “What’s the matter? You’re not looking quite yourself. This Brixton Road affair has upset you. ”  “To tell the truth, it has,” I said. “I ought to be more case-hardened after my Afghan experiences. I saw my own comrades hacked to pieces at Maiwand without losing my nerve. ”  “I can understand. There is a mystery about this which stimulates the imagination; where there is no imagination there is no horror. Have you seen the evening paper? ”  “No. ”  “It gives a fairly good account of the affair. It does not mention the fact that when the man was raised up, a woman’s wedding ring fell upon the floor. It is just as well it does not. ”  “Why? ”  “Look at this advertisement,” he answered. “I had one sent to every paper this morning immediately after the affair. ”  He threw the paper across to me and I glanced at the place indicated. It was the first announcement in the “Found” column. “In Brixton Road, this morning,” it ran, “a plain gold wedding ring, found in the roadway between the ‘White Hart’ Tavern and Holland Grove. Apply Dr. Watson, 221B, Baker Street, between eight and nine this evening. ”  “Excuse my using your name,” he said. “If I used my own some of these dunderheads would recognize it, and want to meddle in the affair. ”  “That is all right,” I answered. “But supposing anyone applies, I have no ring. ”  “Oh yes, you have,” said he, handing me one. “This will do very well. It is almost a facsimile. ”  “And who do you expect will answer this advertisement. ”  “Why, the man in the brown coat—our florid friend with the square toes. If he does not come himself he will send an accomplice. ”  “Would he not consider it as too dangerous? ”  “Not at all. If my view of the case is correct, and I have every reason to believe that it is, this man would rather risk anything than lose the ring. According to my notion he dropped it while stooping over Drebber’s body, and did not miss it at the time. After leaving the house he discovered his loss and hurried back, but found the police already in possession, owing to his own folly in leaving the candle burning. He had to pretend to be drunk in order to allay the suspicions which might have been aroused by his appearance at the gate. Now put yourself in that man’s place. On thinking the matter over, it must have occurred to him that it was possible that he had lost the ring in the road after leaving the house. What would he do, then? He would eagerly look out for the evening papers in the hope of seeing it among the articles found. His eye, of course, would light upon this. He would be overjoyed.']"
      ]
     },
     "execution_count": 155,
     "metadata": {},
     "output_type": "execute_result"
    }
   ],
   "source": [
    "# RAG Retrieval\n",
    "# Load RAG embeddings, index, and chunks\n",
    "model_name = 'all-MiniLM-L6-v2'\n",
    "model = SentenceTransformer(model_name)\n",
    "embeddings, index, chunks = load_artifacts(path=DATA_DIR_PROCESSED, prefix=\"simple_rag_\")\n",
    "rag_retrieved_chunks= retrieve_chunks(Question, index, chunks, model, top_k=3)\n",
    "rag_retrieved_chunks"
   ]
  },
  {
   "cell_type": "code",
   "execution_count": 156,
   "id": "23fe8965",
   "metadata": {},
   "outputs": [
    {
     "data": {
      "text/plain": [
       "'The motive for the murders was a private wrong, likely related to a past romantic rivalry. Specifically, the murderer, Jefferson Hope, was an old rival in love of the victim, Enoch Drebber, and the murder was a methodical revenge.'"
      ]
     },
     "execution_count": 156,
     "metadata": {},
     "output_type": "execute_result"
    }
   ],
   "source": [
    "context = \"\\n\\n\".join(rag_retrieved_chunks)\n",
    "prompt = f\"\"\"\n",
    "You are a helpful assistant. Using ONLY the context below, answer the question. Context is retrieved from a set of documents using RAG (Retrieval-Augmented Generation) method. \n",
    "\n",
    "Context:\n",
    "{context}\n",
    "\n",
    "Question:\n",
    "{Question}\n",
    "\n",
    "Just give me the answer. Do not include the context in your answer.\n",
    "Please answer only based on the above context.\n",
    "\"\"\"\n",
    "response = co.chat(\n",
    "        model=\"command-a-03-2025\",\n",
    "        messages=[{\"role\": \"user\", \"content\": prompt}])\n",
    "\n",
    "response.dict()[\"message\"][\"content\"][0][\"text\"]"
   ]
  },
  {
   "cell_type": "markdown",
   "id": "0e68b5fb",
   "metadata": {},
   "source": [
    "## Graph RAG"
   ]
  },
  {
   "cell_type": "code",
   "execution_count": 157,
   "id": "009da25b",
   "metadata": {},
   "outputs": [],
   "source": [
    "# GraphRAG Retrieval\n",
    "# Load GraphRAG -Knowledge Graph\n",
    "with open(DATA_DIR_PROCESSED /\"entities.json\", \"r\", encoding=\"utf-8\") as f:\n",
    "    entities = json.load(f)\n",
    "with open(DATA_DIR_PROCESSED /\"relationships.json\", \"r\", encoding=\"utf-8\") as f:\n",
    "    relationships = json.load(f)\n",
    "unique_relations = set([rel['relation'] for rel in relationships])"
   ]
  },
  {
   "cell_type": "code",
   "execution_count": 158,
   "id": "4f860b80",
   "metadata": {},
   "outputs": [],
   "source": [
    "# --- Step 1: LLM generates a query to retrive data from KG ---\n",
    "graph_search_prompt = f\"\"\"\n",
    "You are an intelligent assistant that generates a Python function to retrieve KG facts.\n",
    "\n",
    "Inputs:\n",
    "- Entities: {entities}  # Full list with IDs and aliases\n",
    "- Unique Relations: {unique_relations}\n",
    "- Question: \"{Question}\"\n",
    "\n",
    "Instructions:\n",
    "1. Map entity names or aliases to their IDs so you can filter KG facts correctly.\n",
    "2. Generate a Python function called `retrieve_kg_facts(kg_relationships, kg_entities)` that:\n",
    "   - Filters the KG relationships using entity IDs and the given relations.\n",
    "   - Returns a list of at most 3 relevant KG facts in the format: \"source_name → relation → target_name\".\n",
    "3. The function should only take two arguments: `kg_relationships` and `kg_entities`.\n",
    "4. Do not assume or invent any facts that are not present in the KG.\n",
    "5. Think carefully about how to retrieve the most relevant information given the question, entities, and relations.\n",
    "6. Output ONLY the Python function code. Do not include explanations or extra text.\n",
    "7. Retrieve the entire relationship object from the KG including evidence_span\n",
    "\n",
    "Example values in the kg_relationships list:\n",
    "{relationships[0:5]}\n",
    "\"\"\"\n"
   ]
  },
  {
   "cell_type": "code",
   "execution_count": 159,
   "id": "0b46e14a",
   "metadata": {},
   "outputs": [],
   "source": [
    "response = co.chat(\n",
    "        model=\"command-a-03-2025\",\n",
    "        messages=[{\"role\": \"user\", \"content\": graph_search_prompt}])\n",
    "\n",
    "function_code = response.dict()[\"message\"][\"content\"][0][\"text\"]"
   ]
  },
  {
   "cell_type": "code",
   "execution_count": 160,
   "id": "f696a39c",
   "metadata": {},
   "outputs": [
    {
     "data": {
      "text/plain": [
       "\"\\ndef retrieve_kg_facts(kg_relationships, kg_entities):\\n    # Create a dictionary to map entity names and aliases to their IDs\\n    entity_map = {}\\n    for entity in kg_entities:\\n        entity_map[entity['name']] = entity['id']\\n        for alias in entity['aliases']:\\n            entity_map[alias] = entity['id']\\n\\n    # Define relevant relations based on the question\\n    relevant_relations = {'kills', 'seeks_revenge_for', 'motive_of'}\\n\\n    # Filter KG relationships using entity IDs and relevant relations\\n    relevant_facts = []\\n    for relation in kg_relationships:\\n        if relation['relation'] in relevant_relations:\\n            source_name = next((e['name'] for e in kg_entities if e['id'] == relation['source']), None)\\n            target_name = next((e['name'] for e in kg_entities if e['id'] == relation['target']), None)\\n            if source_name and target_name:\\n                relevant_facts.append({\\n                    'source': source_name,\\n                    'relation': relation['relation'],\\n                    'target': target_name,\\n                    'evidence_span': relation['evidence_span']\\n                })\\n\\n    # Return at most 3 relevant KG facts\\n    return relevant_facts[:3]\\n\""
      ]
     },
     "execution_count": 160,
     "metadata": {},
     "output_type": "execute_result"
    }
   ],
   "source": [
    "function_code = function_code.replace(\"```python\", \"\").replace(\"```\", \"\")\n",
    "kg_entities = entities\n",
    "kg_relationships = relationships\n",
    "\n",
    "function_code"
   ]
  },
  {
   "cell_type": "code",
   "execution_count": 161,
   "id": "d30cad22",
   "metadata": {},
   "outputs": [
    {
     "name": "stdout",
     "output_type": "stream",
     "text": [
      "Retrieved KG facts: [{'source': 'the murderer', 'relation': 'kills', 'target': 'Enoch J. Drebber', 'evidence_span': 'gratitude for him who had removed its owner from the world'}, {'source': 'milk boy', 'relation': 'kills', 'target': 'terrier', 'evidence_span': 'Stangerson was concerned in the death of Drebber'}, {'source': 'Sierra Nevada', 'relation': 'kills', 'target': 'Nebraska', 'evidence_span': 'the murderer of Enoch Drebber'}]\n"
     ]
    }
   ],
   "source": [
    "# Execute the function safely\n",
    "local_vars = {}\n",
    "exec(function_code, {}, local_vars)\n",
    "retrieved_facts = local_vars[\"retrieve_kg_facts\"](kg_relationships, kg_entities)\n",
    "print(\"Retrieved KG facts:\", retrieved_facts)"
   ]
  },
  {
   "cell_type": "code",
   "execution_count": 163,
   "id": "69977546",
   "metadata": {},
   "outputs": [
    {
     "ename": "TypeError",
     "evalue": "sequence item 0: expected str instance, dict found",
     "output_type": "error",
     "traceback": [
      "\u001b[1;31m---------------------------------------------------------------------------\u001b[0m",
      "\u001b[1;31mTypeError\u001b[0m                                 Traceback (most recent call last)",
      "Cell \u001b[1;32mIn[163], line 1\u001b[0m\n\u001b[1;32m----> 1\u001b[0m context \u001b[38;5;241m=\u001b[39m \u001b[38;5;124;43m\"\u001b[39;49m\u001b[38;5;130;43;01m\\n\u001b[39;49;00m\u001b[38;5;130;43;01m\\n\u001b[39;49;00m\u001b[38;5;124;43m\"\u001b[39;49m\u001b[38;5;241;43m.\u001b[39;49m\u001b[43mjoin\u001b[49m\u001b[43m(\u001b[49m\u001b[43mretrieved_facts\u001b[49m\u001b[43m)\u001b[49m\n\u001b[0;32m      2\u001b[0m prompt \u001b[38;5;241m=\u001b[39m \u001b[38;5;124mf\u001b[39m\u001b[38;5;124m\"\"\"\u001b[39m\n\u001b[0;32m      3\u001b[0m \u001b[38;5;124mYou are a helpful assistant. Using ONLY the context drawn from the knowelege graph and its evidence span, answer the question. \u001b[39m\n\u001b[0;32m      4\u001b[0m \u001b[38;5;124mEvidence span gives the snippet of text from which the relationship was extracted. Please try to draw best answer from the relationships and their evidence span.\u001b[39m\n\u001b[1;32m   (...)\u001b[0m\n\u001b[0;32m     13\u001b[0m \u001b[38;5;124mPlease answer only based on the above context. \u001b[39m\n\u001b[0;32m     14\u001b[0m \u001b[38;5;124m\"\"\"\u001b[39m\n\u001b[0;32m     15\u001b[0m response \u001b[38;5;241m=\u001b[39m co\u001b[38;5;241m.\u001b[39mchat(\n\u001b[0;32m     16\u001b[0m         model\u001b[38;5;241m=\u001b[39m\u001b[38;5;124m\"\u001b[39m\u001b[38;5;124mcommand-a-03-2025\u001b[39m\u001b[38;5;124m\"\u001b[39m,\n\u001b[0;32m     17\u001b[0m         messages\u001b[38;5;241m=\u001b[39m[{\u001b[38;5;124m\"\u001b[39m\u001b[38;5;124mrole\u001b[39m\u001b[38;5;124m\"\u001b[39m: \u001b[38;5;124m\"\u001b[39m\u001b[38;5;124muser\u001b[39m\u001b[38;5;124m\"\u001b[39m, \u001b[38;5;124m\"\u001b[39m\u001b[38;5;124mcontent\u001b[39m\u001b[38;5;124m\"\u001b[39m: prompt}])\n",
      "\u001b[1;31mTypeError\u001b[0m: sequence item 0: expected str instance, dict found"
     ]
    }
   ],
   "source": [
    "context = \"\\n\\n\".join(retrieved_facts)\n",
    "prompt = f\"\"\"\n",
    "You are a helpful assistant. Using ONLY the context drawn from the knowelege graph and its evidence span, answer the question. \n",
    "Evidence span gives the snippet of text from which the relationship was extracted. Please try to draw best answer from the relationships and their evidence span.\n",
    "\n",
    "Context:\n",
    "{context}\n",
    "\n",
    "Question:\n",
    "{Question}\n",
    "\n",
    "Just give me the answer. Do not include the context in your answer.\n",
    "Please answer only based on the above context. \n",
    "\"\"\"\n",
    "response = co.chat(\n",
    "        model=\"command-a-03-2025\",\n",
    "        messages=[{\"role\": \"user\", \"content\": prompt}])\n",
    "\n",
    "response.dict()[\"message\"][\"content\"][0][\"text\"]"
   ]
  }
 ],
 "metadata": {
  "kernelspec": {
   "display_name": "pymc_env_5",
   "language": "python",
   "name": "python3"
  },
  "language_info": {
   "codemirror_mode": {
    "name": "ipython",
    "version": 3
   },
   "file_extension": ".py",
   "mimetype": "text/x-python",
   "name": "python",
   "nbconvert_exporter": "python",
   "pygments_lexer": "ipython3",
   "version": "3.11.8"
  }
 },
 "nbformat": 4,
 "nbformat_minor": 5
}
